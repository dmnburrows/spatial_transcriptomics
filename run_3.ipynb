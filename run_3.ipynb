{
 "cells": [
  {
   "cell_type": "code",
   "execution_count": 4,
   "metadata": {},
   "outputs": [
    {
     "name": "stdout",
     "output_type": "stream",
     "text": [
      "The autoreload extension is already loaded. To reload it, use:\n",
      "  %reload_ext autoreload\n"
     ]
    },
    {
     "data": {
      "text/plain": [
       "'3.9.16 (main, Jan 11 2023, 16:05:54) \\n[GCC 11.2.0]'"
      ]
     },
     "execution_count": 4,
     "metadata": {},
     "output_type": "execute_result"
    }
   ],
   "source": [
    "#Import packages\n",
    "#---------------------------------------\n",
    "import sys\n",
    "import os\n",
    "import pandas as pd\n",
    "from matplotlib import pyplot as plt\n",
    "import numpy as np\n",
    "import matplotlib\n",
    "import warnings\n",
    "import random\n",
    "import arviz as az\n",
    "import pymc as pm\n",
    "\n",
    "import datetime,pickle\n",
    "\n",
    "\n",
    "#Import your modules\n",
    "#---------------------------------------\n",
    "import admin_functions as adfn\n",
    "import cell_decomp_func as cdfn\n",
    "\n",
    "# Define paths\n",
    "#----------------------------------------------------------------------\n",
    "l_code = '/Users/dominicburrows/Dropbox/PhD/Analysis/my_scripts/GitHub/'\n",
    "l_data = '/Users/dominicburrows/Dropbox/PhD/analysis/Project/'\n",
    "l_fig = '/Users/dominicburrows/Dropbox/PhD/figures/'\n",
    "\n",
    "s_code = '/sphere/dburrows12/'\n",
    "s_data = '/sphere/dburrows12/'\n",
    "\n",
    "%load_ext autoreload\n",
    "sys.version"
   ]
  },
  {
   "cell_type": "code",
   "execution_count": 5,
   "metadata": {},
   "outputs": [],
   "source": [
    "# CPMs\n",
    "%autoreload\n",
    "#Define parameters of simulated data\n",
    "n_clusts = 5\n",
    "n_genes = 800\n",
    "n_cells = 100\n",
    "rate_range = 0,40 #max and min of uniform distribution for generating rates\n",
    "per = 55 #percentage of dropped genes\n",
    "e_std= 0 #spot + gene noise\n",
    "g_std = 0 #gene specific noise\n",
    "a_std = 0 #spot specific noise"
   ]
  },
  {
   "cell_type": "code",
   "execution_count": 6,
   "metadata": {},
   "outputs": [
    {
     "name": "stdout",
     "output_type": "stream",
     "text": [
      "Loaded parameters: 5 cell types , 100 cells, & 800 genes.\n",
      "Created spot mixtures from simulated data: 33 spots.\n"
     ]
    }
   ],
   "source": [
    "#Simulate spot data from simulated gene expression\n",
    "spot_sim = cdfn.simulate_cell_mix(n_clusts, n_cells, n_genes).simulate_gene_exp(rate_range)\n",
    "n_spots = spot_sim.__dict__['n_spots']\n",
    "spots = spot_sim.__dict__['spots']\n",
    "ref_exp = spot_sim.__dict__['mean_exps']\n",
    "prop_vec = spot_sim.__dict__['prop_vec']\n",
    "\n",
    "#Dropout a certain percentage of genes\n",
    "for i in range(spots.shape[0]):\n",
    "    rand_ind = np.random.choice(np.arange(spots.shape[1]), size = int((per/100) * spots.shape[1]), replace=False) #random index for selecting\n",
    "    spots[i,rand_ind]=0\n",
    "\n",
    "spots = spots.astype(int) \n",
    "spots[spots < 0] = 0\n",
    "spots +=1 #remove any zeros"
   ]
  },
  {
   "cell_type": "code",
   "execution_count": 8,
   "metadata": {},
   "outputs": [],
   "source": [
    "#Poisson noise\n",
    "with pm.Model(coords={\"celltypes\": np.arange(n_clusts),\n",
    "                      \"spots\": np.arange(n_spots),\n",
    "                      \"genes\": np.arange(n_genes),\n",
    "                       \"1\": np.arange(1) }) as Poisson_noise_model:\n",
    "    \n",
    "    #Declare data \n",
    "    mean_exp = pm.Data('mean_exp', ref_exp, mutable=False, dims=['celltypes','genes'])\n",
    "    \n",
    "    # Priors for unknown model parameters\n",
    "    eps=pm.Normal(\"eps\", mu= 0, sigma=0.1, dims=['spots', 'genes']) # random noise at each spot and gene\n",
    "    beta=pm.HalfNormal(\"beta\", sigma=1, dims=['spots','celltypes']) # celltype proportions\n",
    "    #alpha = pm.Normal(\"alpha\", mu=0, sigma=0.1, dims=['spots','1']) # random noise at each spot\n",
    "    #gamma = pm.Normal(\"gamma\", mu= 0, sigma=0.1, dims=['1', 'genes']) # random noise at each gene\n",
    "\n",
    "    lmd= pm.Deterministic('lmd', np.exp(eps)*pm.math.dot(beta, mean_exp), dims=['spots','genes'])\n",
    "    \n",
    "    #Convert from proportions to counts\n",
    "    N_g = pm.Data('N_g', np.sum(spots, 1).reshape(n_spots,1), mutable=False)\n",
    "\n",
    "    #Likelihood of observed data given Poisson rates\n",
    "    y=pm.Poisson(\"y\", mu=lmd*N_g, observed=spots)"
   ]
  },
  {
   "cell_type": "code",
   "execution_count": 9,
   "metadata": {},
   "outputs": [
    {
     "name": "stderr",
     "output_type": "stream",
     "text": [
      "Only 200 samples in chain.\n",
      "Auto-assigning NUTS sampler...\n",
      "Initializing NUTS using jitter+adapt_diag...\n",
      "Sequential sampling (1 chains in 1 job)\n",
      "NUTS: [eps, beta]\n"
     ]
    },
    {
     "data": {
      "text/html": [
       "\n",
       "<style>\n",
       "    /* Turns off some styling */\n",
       "    progress {\n",
       "        /* gets rid of default border in Firefox and Opera. */\n",
       "        border: none;\n",
       "        /* Needs to be in here for Safari polyfill so background images work as expected. */\n",
       "        background-size: auto;\n",
       "    }\n",
       "    progress:not([value]), progress:not([value])::-webkit-progress-bar {\n",
       "        background: repeating-linear-gradient(45deg, #7e7e7e, #7e7e7e 10px, #5c5c5c 10px, #5c5c5c 20px);\n",
       "    }\n",
       "    .progress-bar-interrupted, .progress-bar-interrupted::-webkit-progress-bar {\n",
       "        background: #F44336;\n",
       "    }\n",
       "</style>\n"
      ],
      "text/plain": [
       "<IPython.core.display.HTML object>"
      ]
     },
     "metadata": {},
     "output_type": "display_data"
    },
    {
     "data": {
      "text/html": [
       "\n",
       "    <div>\n",
       "      <progress value='1200' class='' max='1200' style='width:300px; height:20px; vertical-align: middle;'></progress>\n",
       "      100.00% [1200/1200 02:02&lt;00:00 Sampling chain 0, 0 divergences]\n",
       "    </div>\n",
       "    "
      ],
      "text/plain": [
       "<IPython.core.display.HTML object>"
      ]
     },
     "metadata": {},
     "output_type": "display_data"
    },
    {
     "name": "stderr",
     "output_type": "stream",
     "text": [
      "Sampling 1 chain for 1_000 tune and 200 draw iterations (1_000 + 200 draws total) took 122 seconds.\n",
      "/sphere/dburrows12/anaconda3/lib/python3.9/site-packages/arviz/data/base.py:221: UserWarning: More chains (200) than draws (1). Passed array should have shape (chains, draws, *shape)\n",
      "  warnings.warn(\n",
      "/sphere/dburrows12/anaconda3/lib/python3.9/site-packages/arviz/data/base.py:221: UserWarning: More chains (1000) than draws (1). Passed array should have shape (chains, draws, *shape)\n",
      "  warnings.warn(\n"
     ]
    }
   ],
   "source": [
    "with Poisson_noise_model:\n",
    "    idata = pm.sample(random_seed=1,draws=200,chains=1, discard_tuned_samples=False)\n"
   ]
  },
  {
   "cell_type": "code",
   "execution_count": null,
   "metadata": {},
   "outputs": [],
   "source": []
  },
  {
   "cell_type": "code",
   "execution_count": 11,
   "metadata": {},
   "outputs": [
    {
     "name": "stdout",
     "output_type": "stream",
     "text": [
      "0.9794970569569226\n"
     ]
    },
    {
     "data": {
      "image/png": "[encoded data removed]",
      "text/plain": [
       "<Figure size 640x480 with 1 Axes>"
      ]
     },
     "metadata": {},
     "output_type": "display_data"
    }
   ],
   "source": [
    "#Check performance\n",
    "mean_post = np.mean(idata.posterior['beta'][0],axis=0)\n",
    "\n",
    "from scipy.stats import linregress\n",
    "\n",
    "plt.scatter(np.ravel(prop_vec), np.ravel(mean_post))\n",
    "plt.xlabel(\"True Weight\")\n",
    "plt.ylabel(\"Estimated Weight\")\n",
    "\n",
    "line_fit=linregress(np.ravel(prop_vec), np.ravel(mean_post))\n",
    "\n",
    "# Create sequence of 100 numbers from 0 to 100 \n",
    "xseq = np.linspace(0, 1, num=100)\n",
    "\n",
    "# Plot regression line\n",
    "plt.plot(xseq, line_fit.intercept + line_fit.slope*xseq, 'r',)\n",
    "plt.annotate(\"r-squared = {:.3f}\".format(line_fit.rvalue**2), (0, 1))\n",
    "print(line_fit.rvalue**2)\n",
    "plt.show()"
   ]
  },
  {
   "cell_type": "code",
   "execution_count": null,
   "metadata": {},
   "outputs": [],
   "source": []
  },
  {
   "cell_type": "code",
   "execution_count": 36,
   "metadata": {},
   "outputs": [],
   "source": [
    "rng = np.random.default_rng(1)\n",
    "def my_negbinom(m,overdispersion=1,rng=rng):  \n",
    "    v = 1+m*overdispersion\n",
    "    p=m/v\n",
    "    n=m*m/(v-m)\n",
    "    y=rng.negative_binomial(n=n,p=p)\n",
    "    return y"
   ]
  },
  {
   "cell_type": "code",
   "execution_count": 37,
   "metadata": {},
   "outputs": [],
   "source": [
    "# Simulate data\n",
    "smoke_test=False\n",
    "\n",
    "if smoke_test:\n",
    "    C=4   # Cells\n",
    "    S=20  # Visium sites\n",
    "    G=100  # Genes\n",
    "else:\n",
    "    C=30   # Cells\n",
    "    S=300  # Visium sites\n",
    "    G=5000  # Genes\n",
    "\n",
    "N,Nref=100,10       # Scaling factor for total library size for Visium and for cell type reference\n",
    "rho=0.1 # Fraction of independent variation in cell type gene expression\n",
    "r=4 # Dispersion parameter for negative binomial counts\n",
    "\n",
    "# Cell type gene expression. For most genes, the gene expression is strongly correlated\n",
    "# across all cell types. The expression level is the sum of a a shared component (0.9)\n",
    "# and an independent component (0.1)\n",
    "x = rng.exponential((1-rho)*N,size=(1,G))+rng.exponential(rho*N,size=(C,G))\n",
    "\n",
    "# For a small fraction of genes (e.g. 5%), the gene expression is completely uncorrelated across cell types\n",
    "Gde = int(0.2*G) # Fraction of DE genes\n",
    "x[:,:Gde] = rng.exponential(N,size=(C,Gde))\n",
    "\n",
    "# Weights of each cell type at each site. Interpret this as the number of cells of each type that show up\n",
    "# at each site.\n",
    "mu_cell = rng.exponential(2/C,size=(C)) # Mean number of cells at each site\n",
    "W=my_negbinom(np.tile(mu_cell, (S,1)))\n",
    "\n",
    "# Gene expression at each site\n",
    "bgd = 10\n",
    "mu_site=bgd+(W@x)\n",
    "y=my_negbinom(mu_site)"
   ]
  },
  {
   "cell_type": "code",
   "execution_count": 4,
   "metadata": {},
   "outputs": [
    {
     "data": {
      "image/png": "[encoded data removed]",
      "text/plain": [
       "<Figure size 640x480 with 1 Axes>"
      ]
     },
     "metadata": {},
     "output_type": "display_data"
    }
   ],
   "source": [
    "plt.loglog(mu_site[:10].T, y[:10].T,'.');\n",
    "plt.xlabel('Predicted counts (xW*x)')\n",
    "plt.ylabel('Counts')\n",
    "plt.grid()"
   ]
  },
  {
   "cell_type": "code",
   "execution_count": 45,
   "metadata": {},
   "outputs": [],
   "source": [
    "#Simple Linear regression\n",
    "\n",
    "with pm.Model(coords={\"celltypes\": np.arange(C),\n",
    "                      \"spots\": np.arange(S),\n",
    "                      \"genes\": np.arange(G) }) as basic_model:\n",
    "    \n",
    "    #Declare data \n",
    "    mean_exp = pm.Data('mean_exp', x, mutable=False, dims=['celltypes','genes'])\n",
    "    \n",
    "    # Priors for unknown model parameters\n",
    "    beta=pm.HalfNormal(\"beta\", sigma=1, dims=['spots','celltypes'])\n",
    "    \n",
    "    lmd= pm.Deterministic('lmd', pm.math.dot(beta, mean_exp), dims=['spots','genes'])\n",
    "    \n",
    "    #Convert from proportions to counts\n",
    "    #N_g = pm.Data('N_g', np.sum(spots, 1).reshape(n_spots,1), mutable=False)\n",
    "\n",
    "    #Likelihood of observed data given Poisson rates\n",
    "    y=pm.Poisson(\"y\", mu=lmd, observed=y)"
   ]
  },
  {
   "cell_type": "code",
   "execution_count": 47,
   "metadata": {},
   "outputs": [
    {
     "data": {
      "image/svg+xml": "<?xml version=\"1.0\" encoding=\"UTF-8\" standalone=\"no\"?>\n<!DOCTYPE svg PUBLIC \"-//W3C//DTD SVG 1.1//EN\"\n \"http://www.w3.org/Graphics/SVG/1.1/DTD/svg11.dtd\">\n<!-- Generated by graphviz version 2.50.0 (0)\n -->\n<!-- Pages: 1 -->\n<svg width=\"374pt\" height=\"360pt\"\n viewBox=\"0.00 0.00 374.00 359.91\" xmlns=\"http://www.w3.org/2000/svg\" xmlns:xlink=\"http://www.w3.org/1999/xlink\">\n<g id=\"graph0\" class=\"graph\" transform=\"scale(1 1) rotate(0) translate(4 355.91)\">\n<polygon fill=\"white\" stroke=\"transparent\" points=\"-4,4 -4,-355.91 370,-355.91 370,4 -4,4\"/>\n<g id=\"clust1\" class=\"cluster\">\n<title>clustercelltypes (30) x genes (5000)</title>\n<path fill=\"none\" stroke=\"black\" d=\"M20,-240.93C20,-240.93 172,-240.93 172,-240.93 178,-240.93 184,-246.93 184,-252.93 184,-252.93 184,-320.93 184,-320.93 184,-326.93 178,-332.93 172,-332.93 172,-332.93 20,-332.93 20,-332.93 14,-332.93 8,-326.93 8,-320.93 8,-320.93 8,-252.93 8,-252.93 8,-246.93 14,-240.93 20,-240.93\"/>\n<text text-anchor=\"middle\" x=\"96\" y=\"-248.73\" font-family=\"Times,serif\" font-size=\"14.00\">celltypes (30) x genes (5000)</text>\n</g>\n<g id=\"clust2\" class=\"cluster\">\n<title>clusterspots (300) x celltypes (30)</title>\n<path fill=\"none\" stroke=\"black\" d=\"M204,-229.95C204,-229.95 346,-229.95 346,-229.95 352,-229.95 358,-235.95 358,-241.95 358,-241.95 358,-331.91 358,-331.91 358,-337.91 352,-343.91 346,-343.91 346,-343.91 204,-343.91 204,-343.91 198,-343.91 192,-337.91 192,-331.91 192,-331.91 192,-241.95 192,-241.95 192,-235.95 198,-229.95 204,-229.95\"/>\n<text text-anchor=\"middle\" x=\"275\" y=\"-237.75\" font-family=\"Times,serif\" font-size=\"14.00\">spots (300) x celltypes (30)</text>\n</g>\n<g id=\"clust3\" class=\"cluster\">\n<title>clusterspots (300) x genes (5000)</title>\n<path fill=\"none\" stroke=\"black\" d=\"M126,-129.95C126,-129.95 264,-129.95 264,-129.95 270,-129.95 276,-135.95 276,-141.95 276,-141.95 276,-209.95 276,-209.95 276,-215.95 270,-221.95 264,-221.95 264,-221.95 126,-221.95 126,-221.95 120,-221.95 114,-215.95 114,-209.95 114,-209.95 114,-141.95 114,-141.95 114,-135.95 120,-129.95 126,-129.95\"/>\n<text text-anchor=\"middle\" x=\"195\" y=\"-137.75\" font-family=\"Times,serif\" font-size=\"14.00\">spots (300) x genes (5000)</text>\n</g>\n<g id=\"clust4\" class=\"cluster\">\n<title>cluster300 x 5000</title>\n<path fill=\"none\" stroke=\"black\" d=\"M157,-8C157,-8 233,-8 233,-8 239,-8 245,-14 245,-20 245,-20 245,-109.95 245,-109.95 245,-115.95 239,-121.95 233,-121.95 233,-121.95 157,-121.95 157,-121.95 151,-121.95 145,-115.95 145,-109.95 145,-109.95 145,-20 145,-20 145,-14 151,-8 157,-8\"/>\n<text text-anchor=\"middle\" x=\"206\" y=\"-15.8\" font-family=\"Times,serif\" font-size=\"14.00\">300 x 5000</text>\n</g>\n<!-- mean_exp -->\n<g id=\"node1\" class=\"node\">\n<title>mean_exp</title>\n<path fill=\"lightgrey\" stroke=\"black\" d=\"M164,-324.93C164,-324.93 98,-324.93 98,-324.93 92,-324.93 86,-318.93 86,-312.93 86,-312.93 86,-283.93 86,-283.93 86,-277.93 92,-271.93 98,-271.93 98,-271.93 164,-271.93 164,-271.93 170,-271.93 176,-277.93 176,-283.93 176,-283.93 176,-312.93 176,-312.93 176,-318.93 170,-324.93 164,-324.93\"/>\n<text text-anchor=\"middle\" x=\"131\" y=\"-309.73\" font-family=\"Times,serif\" font-size=\"14.00\">mean_exp</text>\n<text text-anchor=\"middle\" x=\"131\" y=\"-294.73\" font-family=\"Times,serif\" font-size=\"14.00\">~</text>\n<text text-anchor=\"middle\" x=\"131\" y=\"-279.73\" font-family=\"Times,serif\" font-size=\"14.00\">ConstantData</text>\n</g>\n<!-- lmd -->\n<g id=\"node3\" class=\"node\">\n<title>lmd</title>\n<polygon fill=\"none\" stroke=\"black\" points=\"240.5,-213.95 149.5,-213.95 149.5,-160.95 240.5,-160.95 240.5,-213.95\"/>\n<text text-anchor=\"middle\" x=\"195\" y=\"-198.75\" font-family=\"Times,serif\" font-size=\"14.00\">lmd</text>\n<text text-anchor=\"middle\" x=\"195\" y=\"-183.75\" font-family=\"Times,serif\" font-size=\"14.00\">~</text>\n<text text-anchor=\"middle\" x=\"195\" y=\"-168.75\" font-family=\"Times,serif\" font-size=\"14.00\">Deterministic</text>\n</g>\n<!-- mean_exp&#45;&gt;lmd -->\n<g id=\"edge2\" class=\"edge\">\n<title>mean_exp&#45;&gt;lmd</title>\n<path fill=\"none\" stroke=\"black\" d=\"M146.01,-271.88C154.53,-257.37 165.32,-238.99 174.6,-223.18\"/>\n<polygon fill=\"black\" stroke=\"black\" points=\"177.82,-224.62 179.87,-214.22 171.78,-221.07 177.82,-224.62\"/>\n</g>\n<!-- beta -->\n<g id=\"node2\" class=\"node\">\n<title>beta</title>\n<ellipse fill=\"none\" stroke=\"black\" cx=\"259\" cy=\"-298.43\" rx=\"58.88\" ry=\"37.45\"/>\n<text text-anchor=\"middle\" x=\"259\" y=\"-309.73\" font-family=\"Times,serif\" font-size=\"14.00\">beta</text>\n<text text-anchor=\"middle\" x=\"259\" y=\"-294.73\" font-family=\"Times,serif\" font-size=\"14.00\">~</text>\n<text text-anchor=\"middle\" x=\"259\" y=\"-279.73\" font-family=\"Times,serif\" font-size=\"14.00\">HalfNormal</text>\n</g>\n<!-- beta&#45;&gt;lmd -->\n<g id=\"edge1\" class=\"edge\">\n<title>beta&#45;&gt;lmd</title>\n<path fill=\"none\" stroke=\"black\" d=\"M238.75,-262.95C231.26,-250.2 222.78,-235.76 215.29,-223.01\"/>\n<polygon fill=\"black\" stroke=\"black\" points=\"218.13,-220.92 210.05,-214.07 212.09,-224.47 218.13,-220.92\"/>\n</g>\n<!-- y -->\n<g id=\"node4\" class=\"node\">\n<title>y</title>\n<ellipse fill=\"lightgrey\" stroke=\"black\" cx=\"195\" cy=\"-76.48\" rx=\"41.94\" ry=\"37.45\"/>\n<text text-anchor=\"middle\" x=\"195\" y=\"-87.78\" font-family=\"Times,serif\" font-size=\"14.00\">y</text>\n<text text-anchor=\"middle\" x=\"195\" y=\"-72.78\" font-family=\"Times,serif\" font-size=\"14.00\">~</text>\n<text text-anchor=\"middle\" x=\"195\" y=\"-57.78\" font-family=\"Times,serif\" font-size=\"14.00\">Poisson</text>\n</g>\n<!-- lmd&#45;&gt;y -->\n<g id=\"edge3\" class=\"edge\">\n<title>lmd&#45;&gt;y</title>\n<path fill=\"none\" stroke=\"black\" d=\"M195,-160.9C195,-149.99 195,-136.9 195,-124.36\"/>\n<polygon fill=\"black\" stroke=\"black\" points=\"198.5,-124.01 195,-114.01 191.5,-124.01 198.5,-124.01\"/>\n</g>\n</g>\n</svg>\n",
      "text/plain": [
       "<graphviz.graphs.Digraph at 0x7f7656fe8370>"
      ]
     },
     "execution_count": 47,
     "metadata": {},
     "output_type": "execute_result"
    }
   ],
   "source": [
    "pm.model_to_graphviz(basic_model)"
   ]
  },
  {
   "cell_type": "code",
   "execution_count": 49,
   "metadata": {},
   "outputs": [
    {
     "name": "stderr",
     "output_type": "stream",
     "text": [
      "Only 200 samples in chain.\n",
      "Auto-assigning NUTS sampler...\n",
      "Initializing NUTS using jitter+adapt_diag...\n",
      "Multiprocess sampling (4 chains in 4 jobs)\n",
      "NUTS: [beta]\n"
     ]
    },
    {
     "data": {
      "text/html": [
       "\n",
       "<style>\n",
       "    /* Turns off some styling */\n",
       "    progress {\n",
       "        /* gets rid of default border in Firefox and Opera. */\n",
       "        border: none;\n",
       "        /* Needs to be in here for Safari polyfill so background images work as expected. */\n",
       "        background-size: auto;\n",
       "    }\n",
       "    progress:not([value]), progress:not([value])::-webkit-progress-bar {\n",
       "        background: repeating-linear-gradient(45deg, #7e7e7e, #7e7e7e 10px, #5c5c5c 10px, #5c5c5c 20px);\n",
       "    }\n",
       "    .progress-bar-interrupted, .progress-bar-interrupted::-webkit-progress-bar {\n",
       "        background: #F44336;\n",
       "    }\n",
       "</style>\n"
      ],
      "text/plain": [
       "<IPython.core.display.HTML object>"
      ]
     },
     "metadata": {},
     "output_type": "display_data"
    },
    {
     "data": {
      "text/html": [
       "\n",
       "    <div>\n",
       "      <progress value='332' class='' max='1200' style='width:300px; height:20px; vertical-align: middle;'></progress>\n",
       "      27.67% [332/1200 12:12&lt;31:54 Sampling 4 chains, 0 divergences]\n",
       "    </div>\n",
       "    "
      ],
      "text/plain": [
       "<IPython.core.display.HTML object>"
      ]
     },
     "metadata": {},
     "output_type": "display_data"
    },
    {
     "name": "stderr",
     "output_type": "stream",
     "text": [
      "Sampling 4 chains for 67 tune and 0 draw iterations (268 + 0 draws total) took 766 seconds.\n"
     ]
    }
   ],
   "source": [
    "with basic_model:\n",
    "    idata = pm.sample(random_seed=1,tune=100,draws=200,discard_tuned_samples=False)\n"
   ]
  },
  {
   "cell_type": "code",
   "execution_count": 35,
   "metadata": {},
   "outputs": [],
   "source": [
    "with pm.Model(coords={\"cells\":np.arange(C),\n",
    "                      \"genes\":np.arange(G),\n",
    "                      \"sites\":np.arange(S)}) as model:\n",
    "    # Priors for unknown model parameters\n",
    "\n",
    "    x_data=pm.Data('x_data',x,shape=(C,G),mutable=False,dims=['cells','genes'])\n",
    "    \n",
    "    mu_cell = pm.TruncatedNormal(\"mu_cell\",mu=1,sigma=1,lower=0,dims=[\"cells\"])\n",
    "    # sigma_rho = pm.TruncatedNormal(\"sigma_rho\",mu=1,sigma=1,lower=0,\n",
    "    #                             shape=(C),dims=[\"cells\"])    \n",
    "    W = pm.TruncatedNormal(\"W\",mu=mu_cell,sigma=mu_cell,lower=0,dims=[\"sites\",\"cells\"])\n",
    "    \n",
    "    bgd = pm.Exponential('bgd',lam=1)    # background counts\n",
    "    # bgd = 0    # background counts\n",
    "\n",
    "    # Expected value of outcome\n",
    "    mu = pm.Deterministic(\"mu\", bgd+pm.math.dot(W,x_data), dims=[\"sites\",\"genes\"])\n",
    "\n",
    "    # Likelihood (sampling distribution) of observations\n",
    "    Y_obs = pm.NegativeBinomial(\"Y_obs\",mu=mu,alpha=r,observed=y,dims=['sites','genes'])\n",
    "#     sigma=pm.Exponential('sigma', lam=1)\n",
    "#     Y_obs = pm.Normal(\"Y_obs\",mu=mu,sigma=sigma,observed=y, dims=[\"sites\",\"genes\"])"
   ]
  },
  {
   "cell_type": "code",
   "execution_count": 14,
   "metadata": {},
   "outputs": [
    {
     "data": {
      "image/svg+xml": "<?xml version=\"1.0\" encoding=\"UTF-8\" standalone=\"no\"?>\n<!DOCTYPE svg PUBLIC \"-//W3C//DTD SVG 1.1//EN\"\n \"http://www.w3.org/Graphics/SVG/1.1/DTD/svg11.dtd\">\n<!-- Generated by graphviz version 2.50.0 (0)\n -->\n<!-- Pages: 1 -->\n<svg width=\"478pt\" height=\"471pt\"\n viewBox=\"0.00 0.00 477.98 470.86\" xmlns=\"http://www.w3.org/2000/svg\" xmlns:xlink=\"http://www.w3.org/1999/xlink\">\n<g id=\"graph0\" class=\"graph\" transform=\"scale(1 1) rotate(0) translate(4 466.86)\">\n<polygon fill=\"white\" stroke=\"transparent\" points=\"-4,4 -4,-466.86 473.98,-466.86 473.98,4 -4,4\"/>\n<g id=\"clust1\" class=\"cluster\">\n<title>clustercells (30) x genes (5000)</title>\n<path fill=\"none\" stroke=\"black\" d=\"M20,-229.93C20,-229.93 148,-229.93 148,-229.93 154,-229.93 160,-235.93 160,-241.93 160,-241.93 160,-309.93 160,-309.93 160,-315.93 154,-321.93 148,-321.93 148,-321.93 20,-321.93 20,-321.93 14,-321.93 8,-315.93 8,-309.93 8,-309.93 8,-241.93 8,-241.93 8,-235.93 14,-229.93 20,-229.93\"/>\n<text text-anchor=\"middle\" x=\"84\" y=\"-237.73\" font-family=\"Times,serif\" font-size=\"14.00\">cells (30) x genes (5000)</text>\n</g>\n<g id=\"clust2\" class=\"cluster\">\n<title>clustercells (30)</title>\n<path fill=\"none\" stroke=\"black\" d=\"M180,-340.91C180,-340.91 332,-340.91 332,-340.91 338,-340.91 344,-346.91 344,-352.91 344,-352.91 344,-442.86 344,-442.86 344,-448.86 338,-454.86 332,-454.86 332,-454.86 180,-454.86 180,-454.86 174,-454.86 168,-448.86 168,-442.86 168,-442.86 168,-352.91 168,-352.91 168,-346.91 174,-340.91 180,-340.91\"/>\n<text text-anchor=\"middle\" x=\"310\" y=\"-348.71\" font-family=\"Times,serif\" font-size=\"14.00\">cells (30)</text>\n</g>\n<g id=\"clust3\" class=\"cluster\">\n<title>clustersites (300) x cells (30)</title>\n<path fill=\"none\" stroke=\"black\" d=\"M180,-218.95C180,-218.95 332,-218.95 332,-218.95 338,-218.95 344,-224.95 344,-230.95 344,-230.95 344,-320.91 344,-320.91 344,-326.91 338,-332.91 332,-332.91 332,-332.91 180,-332.91 180,-332.91 174,-332.91 168,-326.91 168,-320.91 168,-320.91 168,-230.95 168,-230.95 168,-224.95 174,-218.95 180,-218.95\"/>\n<text text-anchor=\"middle\" x=\"274.5\" y=\"-226.75\" font-family=\"Times,serif\" font-size=\"14.00\">sites (300) x cells (30)</text>\n</g>\n<g id=\"clust4\" class=\"cluster\">\n<title>clustersites (300) x genes (5000)</title>\n<path fill=\"none\" stroke=\"black\" d=\"M189,-8C189,-8 323,-8 323,-8 329,-8 335,-14 335,-20 335,-20 335,-198.95 335,-198.95 335,-204.95 329,-210.95 323,-210.95 323,-210.95 189,-210.95 189,-210.95 183,-210.95 177,-204.95 177,-198.95 177,-198.95 177,-20 177,-20 177,-14 183,-8 189,-8\"/>\n<text text-anchor=\"middle\" x=\"256\" y=\"-15.8\" font-family=\"Times,serif\" font-size=\"14.00\">sites (300) x genes (5000)</text>\n</g>\n<!-- x_data -->\n<g id=\"node1\" class=\"node\">\n<title>x_data</title>\n<path fill=\"lightgrey\" stroke=\"black\" d=\"M140,-313.93C140,-313.93 74,-313.93 74,-313.93 68,-313.93 62,-307.93 62,-301.93 62,-301.93 62,-272.93 62,-272.93 62,-266.93 68,-260.93 74,-260.93 74,-260.93 140,-260.93 140,-260.93 146,-260.93 152,-266.93 152,-272.93 152,-272.93 152,-301.93 152,-301.93 152,-307.93 146,-313.93 140,-313.93\"/>\n<text text-anchor=\"middle\" x=\"107\" y=\"-298.73\" font-family=\"Times,serif\" font-size=\"14.00\">x_data</text>\n<text text-anchor=\"middle\" x=\"107\" y=\"-283.73\" font-family=\"Times,serif\" font-size=\"14.00\">~</text>\n<text text-anchor=\"middle\" x=\"107\" y=\"-268.73\" font-family=\"Times,serif\" font-size=\"14.00\">ConstantData</text>\n</g>\n<!-- mu -->\n<g id=\"node6\" class=\"node\">\n<title>mu</title>\n<polygon fill=\"none\" stroke=\"black\" points=\"301.5,-202.95 210.5,-202.95 210.5,-149.95 301.5,-149.95 301.5,-202.95\"/>\n<text text-anchor=\"middle\" x=\"256\" y=\"-187.75\" font-family=\"Times,serif\" font-size=\"14.00\">mu</text>\n<text text-anchor=\"middle\" x=\"256\" y=\"-172.75\" font-family=\"Times,serif\" font-size=\"14.00\">~</text>\n<text text-anchor=\"middle\" x=\"256\" y=\"-157.75\" font-family=\"Times,serif\" font-size=\"14.00\">Deterministic</text>\n</g>\n<!-- x_data&#45;&gt;mu -->\n<g id=\"edge2\" class=\"edge\">\n<title>x_data&#45;&gt;mu</title>\n<path fill=\"none\" stroke=\"black\" d=\"M124.24,-260.91C134.53,-247.12 148.58,-230.59 164,-218.95 175.14,-210.54 188.26,-203.35 201.04,-197.43\"/>\n<polygon fill=\"black\" stroke=\"black\" points=\"202.53,-200.6 210.26,-193.34 199.7,-194.2 202.53,-200.6\"/>\n</g>\n<!-- mu_cell -->\n<g id=\"node2\" class=\"node\">\n<title>mu_cell</title>\n<ellipse fill=\"none\" stroke=\"black\" cx=\"256\" cy=\"-409.38\" rx=\"79.81\" ry=\"37.45\"/>\n<text text-anchor=\"middle\" x=\"256\" y=\"-420.68\" font-family=\"Times,serif\" font-size=\"14.00\">mu_cell</text>\n<text text-anchor=\"middle\" x=\"256\" y=\"-405.68\" font-family=\"Times,serif\" font-size=\"14.00\">~</text>\n<text text-anchor=\"middle\" x=\"256\" y=\"-390.68\" font-family=\"Times,serif\" font-size=\"14.00\">TruncatedNormal</text>\n</g>\n<!-- W -->\n<g id=\"node3\" class=\"node\">\n<title>W</title>\n<ellipse fill=\"none\" stroke=\"black\" cx=\"256\" cy=\"-287.43\" rx=\"79.81\" ry=\"37.45\"/>\n<text text-anchor=\"middle\" x=\"256\" y=\"-298.73\" font-family=\"Times,serif\" font-size=\"14.00\">W</text>\n<text text-anchor=\"middle\" x=\"256\" y=\"-283.73\" font-family=\"Times,serif\" font-size=\"14.00\">~</text>\n<text text-anchor=\"middle\" x=\"256\" y=\"-268.73\" font-family=\"Times,serif\" font-size=\"14.00\">TruncatedNormal</text>\n</g>\n<!-- mu_cell&#45;&gt;W -->\n<g id=\"edge1\" class=\"edge\">\n<title>mu_cell&#45;&gt;W</title>\n<path fill=\"none\" stroke=\"black\" d=\"M256,-371.74C256,-360.34 256,-347.6 256,-335.58\"/>\n<polygon fill=\"black\" stroke=\"black\" points=\"259.5,-335.26 256,-325.26 252.5,-335.26 259.5,-335.26\"/>\n</g>\n<!-- W&#45;&gt;mu -->\n<g id=\"edge3\" class=\"edge\">\n<title>W&#45;&gt;mu</title>\n<path fill=\"none\" stroke=\"black\" d=\"M256,-249.84C256,-238.1 256,-225.11 256,-213.42\"/>\n<polygon fill=\"black\" stroke=\"black\" points=\"259.5,-213.11 256,-203.11 252.5,-213.11 259.5,-213.11\"/>\n</g>\n<!-- bgd -->\n<g id=\"node4\" class=\"node\">\n<title>bgd</title>\n<ellipse fill=\"none\" stroke=\"black\" cx=\"412\" cy=\"-287.43\" rx=\"57.97\" ry=\"37.45\"/>\n<text text-anchor=\"middle\" x=\"412\" y=\"-298.73\" font-family=\"Times,serif\" font-size=\"14.00\">bgd</text>\n<text text-anchor=\"middle\" x=\"412\" y=\"-283.73\" font-family=\"Times,serif\" font-size=\"14.00\">~</text>\n<text text-anchor=\"middle\" x=\"412\" y=\"-268.73\" font-family=\"Times,serif\" font-size=\"14.00\">Exponential</text>\n</g>\n<!-- bgd&#45;&gt;mu -->\n<g id=\"edge4\" class=\"edge\">\n<title>bgd&#45;&gt;mu</title>\n<path fill=\"none\" stroke=\"black\" d=\"M385.89,-253.95C375.07,-241.89 361.82,-228.77 348,-218.95 336.85,-211.03 323.94,-204.07 311.38,-198.24\"/>\n<polygon fill=\"black\" stroke=\"black\" points=\"312.44,-194.88 301.88,-194 309.58,-201.27 312.44,-194.88\"/>\n</g>\n<!-- Y_obs -->\n<g id=\"node5\" class=\"node\">\n<title>Y_obs</title>\n<ellipse fill=\"lightgrey\" stroke=\"black\" cx=\"256\" cy=\"-76.48\" rx=\"63.78\" ry=\"37.45\"/>\n<text text-anchor=\"middle\" x=\"256\" y=\"-87.78\" font-family=\"Times,serif\" font-size=\"14.00\">Y_obs</text>\n<text text-anchor=\"middle\" x=\"256\" y=\"-72.78\" font-family=\"Times,serif\" font-size=\"14.00\">~</text>\n<text text-anchor=\"middle\" x=\"256\" y=\"-57.78\" font-family=\"Times,serif\" font-size=\"14.00\">NegBinomial</text>\n</g>\n<!-- mu&#45;&gt;Y_obs -->\n<g id=\"edge5\" class=\"edge\">\n<title>mu&#45;&gt;Y_obs</title>\n<path fill=\"none\" stroke=\"black\" d=\"M256,-149.71C256,-141.89 256,-133.03 256,-124.27\"/>\n<polygon fill=\"black\" stroke=\"black\" points=\"259.5,-124.1 256,-114.1 252.5,-124.1 259.5,-124.1\"/>\n</g>\n</g>\n</svg>\n",
      "text/plain": [
       "<graphviz.graphs.Digraph at 0x7f765713f490>"
      ]
     },
     "execution_count": 14,
     "metadata": {},
     "output_type": "execute_result"
    }
   ],
   "source": [
    "pm.model_to_graphviz(model)"
   ]
  }
 ],
 "metadata": {
  "kernelspec": {
   "display_name": "base",
   "language": "python",
   "name": "python3"
  },
  "language_info": {
   "codemirror_mode": {
    "name": "ipython",
    "version": 3
   },
   "file_extension": ".py",
   "mimetype": "text/x-python",
   "name": "python",
   "nbconvert_exporter": "python",
   "pygments_lexer": "ipython3",
   "version": "3.9.16"
  },
  "orig_nbformat": 4,
  "vscode": {
   "interpreter": {
    "hash": "980ae2358fca277a1e6b7c0afec83352662af6bf9b787ebbb80b8db147d70624"
   }
  }
 },
 "nbformat": 4,
 "nbformat_minor": 2
}
