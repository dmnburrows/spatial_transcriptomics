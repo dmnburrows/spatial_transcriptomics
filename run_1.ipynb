{
 "cells": [
  {
   "cell_type": "code",
   "execution_count": 2,
   "metadata": {},
   "outputs": [
    {
     "data": {
      "text/plain": [
       "'3.11.0 | packaged by conda-forge | (main, Jan 14 2023, 12:27:40) [GCC 11.3.0]'"
      ]
     },
     "execution_count": 2,
     "metadata": {},
     "output_type": "execute_result"
    }
   ],
   "source": [
    "#Import packages\n",
    "#---------------------------------------\n",
    "import sys\n",
    "import os\n",
    "import pandas as pd\n",
    "from matplotlib import pyplot as plt\n",
    "import numpy as np\n",
    "import matplotlib\n",
    "import warnings\n",
    "import random\n",
    "import arviz as az\n",
    "import pymc as pm\n",
    "warnings.filterwarnings(\"ignore\", category=RuntimeWarning) \n",
    "\n",
    "#Import your modules\n",
    "#---------------------------------------\n",
    "import admin_functions as adfn\n",
    "import cell_decomp_func as cdfn\n",
    "\n",
    "\n",
    "# Define paths\n",
    "#----------------------------------------------------------------------\n",
    "l_code = '/Users/dominicburrows/Dropbox/PhD/Analysis/my_scripts/GitHub/'\n",
    "l_data = '/Users/dominicburrows/Dropbox/PhD/analysis/Project/'\n",
    "l_fig = '/Users/dominicburrows/Dropbox/PhD/figures/'\n",
    "\n",
    "s_code = '/cndd3/dburrows/CODE/'\n",
    "s_data = '/cndd3/dburrows/DATA/'\n",
    "%load_ext autoreload\n",
    "sys.version"
   ]
  },
  {
   "cell_type": "code",
   "execution_count": 4,
   "metadata": {},
   "outputs": [
    {
     "data": {
      "text/plain": [
       "array([0. , 0.1, 0.2, 0.3, 0.4, 0.5, 0.6, 0.7, 0.8, 0.9])"
      ]
     },
     "execution_count": 4,
     "metadata": {},
     "output_type": "execute_result"
    }
   ],
   "source": [
    "rho_list = np.linspace(0,0.9,10)"
   ]
  },
  {
   "cell_type": "code",
   "execution_count": 12,
   "metadata": {},
   "outputs": [],
   "source": [
    "# Run epsilon noise\n",
    "\n",
    "#Define parameters of simulated data\n",
    "n_clusts = 5\n",
    "n_genes = 800\n",
    "n_cells = 100\n",
    "rate_range = 0,40 #max and min of uniform distribution for generating rates\n",
    "model_type = 'epsilon' #CHANGE!\n",
    "noise_type = 'exponential' #CHANGE!\n",
    "mode = 'rho'\n",
    "\n",
    "for x in rho_list: #CHANGE!\n",
    "    #Simulate spot data from simulated gene expression\n",
    "    spot_sim = cdfn.simulate_cell_mix(n_clusts, n_cells, n_genes).simulate_gene_exp(rate_range, x)\n",
    "    n_spots = spot_sim.__dict__['n_spots']\n",
    "    spots = spot_sim.__dict__['spots']\n",
    "    ref_exp = spot_sim.__dict__['mean_exps']\n",
    "    prop_vec = spot_sim.__dict__['prop_vec']\n",
    "    spots = cdfn.add_noise(spots, per=None, a_std=5, g_std=5, e_std=5, noise_type=noise_type) #CHANGE!\n",
    "\n",
    "    model = cdfn.epsilon_pymc(n_clusts, n_spots, n_genes, ref_exp, spots, noise_type=noise_type) #CHANGE!\n",
    "    with model: data=pm.sample(random_seed=1,draws=200,chains=1, discard_tuned_samples=False)\n",
    "\n",
    "    post, r2 = cdfn.model_stats(data, prop_vec, n_clusts)\n",
    "    if len(str(x))<2:pref = '0' + str(x)\n",
    "    else:pref= str(x)\n",
    "    np.save(s_data + 'spatial_transcriptomics/RCTD-test_noise-' + noise_type + '_model-' + model_type + '_' + mode + '-' + pref + '.npy', np.array([prop_vec, post, r2], dtype=object))\n",
    "    print(x)\n",
    "\n"
   ]
  }
 ],
 "metadata": {
  "kernelspec": {
   "display_name": "pymc_conda",
   "language": "python",
   "name": "python3"
  },
  "language_info": {
   "codemirror_mode": {
    "name": "ipython",
    "version": 3
   },
   "file_extension": ".py",
   "mimetype": "text/x-python",
   "name": "python",
   "nbconvert_exporter": "python",
   "pygments_lexer": "ipython3",
   "version": "3.11.0"
  },
  "orig_nbformat": 4,
  "vscode": {
   "interpreter": {
    "hash": "cbc195bd4917a9b26b2a4c86e8dfd1e2d1ef81b8785c4097f20b15a38e62cfe4"
   }
  }
 },
 "nbformat": 4,
 "nbformat_minor": 2
}
