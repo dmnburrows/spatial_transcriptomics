{
 "cells": [
  {
   "cell_type": "code",
   "execution_count": 1,
   "metadata": {},
   "outputs": [
    {
     "data": {
      "text/plain": [
       "'3.11.0 | packaged by conda-forge | (main, Jan 14 2023, 12:27:40) [GCC 11.3.0]'"
      ]
     },
     "execution_count": 1,
     "metadata": {},
     "output_type": "execute_result"
    }
   ],
   "source": [
    "#Import packages\n",
    "#---------------------------------------\n",
    "import sys\n",
    "import os\n",
    "import pandas as pd\n",
    "from matplotlib import pyplot as plt\n",
    "import numpy as np\n",
    "import matplotlib\n",
    "import warnings\n",
    "import random\n",
    "import arviz as az\n",
    "import pymc as pm\n",
    "warnings.filterwarnings(\"ignore\", category=RuntimeWarning) \n",
    "\n",
    "#Import your modules\n",
    "#---------------------------------------\n",
    "import admin_functions as adfn\n",
    "import cell_decomp_func as cdfn\n",
    "\n",
    "\n",
    "# Define paths\n",
    "#----------------------------------------------------------------------\n",
    "l_code = '/Users/dominicburrows/Dropbox/PhD/Analysis/my_scripts/GitHub/'\n",
    "l_data = '/Users/dominicburrows/Dropbox/PhD/analysis/Project/'\n",
    "l_fig = '/Users/dominicburrows/Dropbox/PhD/figures/'\n",
    "\n",
    "s_code = '/cndd3/dburrows/CODE/'\n",
    "s_data = '/cndd3/dburrows/DATA/'\n",
    "%load_ext autoreload\n",
    "sys.version"
   ]
  },
  {
   "cell_type": "code",
   "execution_count": 48,
   "metadata": {},
   "outputs": [
    {
     "data": {
      "text/plain": [
       "('simulated_spots.csv', 'true_weights.csv', 'reference.csv')"
      ]
     },
     "execution_count": 48,
     "metadata": {},
     "output_type": "execute_result"
    }
   ],
   "source": [
    "dataset = 'data1'\n",
    "## Load simulated data from R\n",
    "spots_st = adfn.return_files(s_data, 'spatial_transcriptomics/simulate_10x_spots/' + dataset + '/', '*simulated_spots*')[0]\n",
    "props_st = adfn.return_files(s_data, 'spatial_transcriptomics/simulate_10x_spots/' + dataset + '/', '*true*')[0]\n",
    "ref_st = adfn.return_files(s_data, 'spatial_transcriptomics/simulate_10x_spots/'  + dataset + '/', '*ref*')[0]\n",
    "de_st = pd.read_csv(s_data + 'spatial_transcriptomics/simulate_10x_spots/de_genes.csv')\n",
    "spots_st, props_st, ref_st"
   ]
  },
  {
   "cell_type": "code",
   "execution_count": 49,
   "metadata": {},
   "outputs": [],
   "source": [
    "def load(spots_st, props_st, ref_st):\n",
    "    spots = pd.read_csv(spots_st)\n",
    "    prop_vec = pd.read_csv(props_st).T\n",
    "    prop_vec = np.asarray(prop_vec.drop(prop_vec.index[0]))\n",
    "    prop_vec = np.float64(prop_vec)\n",
    "    ref_exp = pd.read_csv(ref_st)\n",
    "\n",
    "    #Find DE genes\n",
    "    degene_l = np.array(de_st['gene']) \n",
    "    ind=[]\n",
    "    for de in degene_l:\n",
    "        ind = np.append(ind, np.where(spots['gene'] == de)[0][0])\n",
    "\n",
    "    #Keep only DE genes\n",
    "    spots = spots.iloc[ind].T\n",
    "    spots = np.asarray(spots.drop(spots.index[0]))\n",
    "    spots = np.float64(spots)\n",
    "    ref_exp = ref_exp.iloc[ind].T\n",
    "    ref_exp = np.asarray(ref_exp.drop(ref_exp.index[0]))\n",
    "    ref_exp = (ref_exp/np.reshape(np.sum(ref_exp, axis=1), (ref_exp.shape[0],1))) #convert to a rate\n",
    "    ref_exp = np.float64(ref_exp)\n",
    "    return(ref_exp, spots, prop_vec)"
   ]
  },
  {
   "cell_type": "code",
   "execution_count": 50,
   "metadata": {},
   "outputs": [],
   "source": [
    "genes_list = np.linspace(20, 1000, 5).astype(int)\n",
    "spots_list = np.linspace(20, 1000, 5).astype(int)\n",
    "list_list = [genes_list, spots_list]\n",
    "mode_list= ['ngenes', 'nspots']\n",
    "lik_l = ['poisson', 'negbin']\n"
   ]
  },
  {
   "cell_type": "code",
   "execution_count": null,
   "metadata": {},
   "outputs": [],
   "source": [
    "# Run alpha noise\n",
    "import time\n",
    "\n",
    "model_type = 'all' #CHANGE!\n",
    "\n",
    "for x,li in enumerate(list_list):\n",
    "    mode = mode_list[x]\n",
    "\n",
    "    for l in li:\n",
    "        #Set default parameters\n",
    "        top_cells = 9\n",
    "        top_genes = 500\n",
    "        top_spots = 50\n",
    "        if mode == 'nclusts':\n",
    "            top_cells = l\n",
    "        if mode == 'ngenes':\n",
    "            top_genes = l\n",
    "        if mode == 'nspots':\n",
    "            top_spots=l\n",
    "\n",
    "        ref_exp, spots, prop_vec = load(spots_st, props_st, ref_st)\n",
    "        #+++++++++++++++++\n",
    "        spots = spots[:top_spots,:top_genes]\n",
    "        ref_exp = ref_exp[:top_cells, :top_genes]\n",
    "        prop_vec = prop_vec[:top_spots,:top_cells]\n",
    "        n_clusts = ref_exp.shape[0]\n",
    "        n_spots = spots.shape[0]\n",
    "        n_genes = spots.shape[1]\n",
    "        #+++++++++++++++++\n",
    "\n",
    "        # Run basic model\n",
    "        start_time = time.time()\n",
    "        #Define parameters of simulated data\n",
    "        noise_type = 'gaussian' \n",
    "\n",
    "        for f in lik_l:\n",
    "            model = cdfn.noise_pymc(n_clusts, n_spots, n_genes, ref_exp, spots, noise_type=noise_type, likelihood = f) #CHANGE!\n",
    "            with model: data=pm.sample(random_seed=1,draws=200,chains=1, discard_tuned_samples=False)\n",
    "            post, r2 = cdfn.model_stats(data, prop_vec, n_clusts)\n",
    "\n",
    "            l = str(l)\n",
    "            pref = l.zfill(4)\n",
    "            fin = (time.time() - start_time)\n",
    "            np.save(s_data + 'spatial_transcriptomics/RCTD-test_noise-' + noise_type + '_model-' + model_type + '_' + 'lik-' + f + '_10x-pbmc-' + dataset +  '_' + mode + '-' + pref + '.npy', np.array([prop_vec, post, r2, fin], dtype=object))\n",
    "            print(l)\n"
   ]
  }
 ],
 "metadata": {
  "kernelspec": {
   "display_name": "pymc_conda",
   "language": "python",
   "name": "python3"
  },
  "language_info": {
   "codemirror_mode": {
    "name": "ipython",
    "version": 3
   },
   "file_extension": ".py",
   "mimetype": "text/x-python",
   "name": "python",
   "nbconvert_exporter": "python",
   "pygments_lexer": "ipython3",
   "version": "3.11.0"
  },
  "orig_nbformat": 4,
  "vscode": {
   "interpreter": {
    "hash": "cbc195bd4917a9b26b2a4c86e8dfd1e2d1ef81b8785c4097f20b15a38e62cfe4"
   }
  }
 },
 "nbformat": 4,
 "nbformat_minor": 2
}
