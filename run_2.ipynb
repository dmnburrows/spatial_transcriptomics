{
 "cells": [
  {
   "cell_type": "code",
   "execution_count": 2,
   "metadata": {},
   "outputs": [
    {
     "data": {
      "text/plain": [
       "'3.11.0 | packaged by conda-forge | (main, Jan 14 2023, 12:27:40) [GCC 11.3.0]'"
      ]
     },
     "execution_count": 2,
     "metadata": {},
     "output_type": "execute_result"
    }
   ],
   "source": [
    "#Import packages\n",
    "#---------------------------------------\n",
    "import sys\n",
    "import os\n",
    "import pandas as pd\n",
    "from matplotlib import pyplot as plt\n",
    "import numpy as np\n",
    "import matplotlib\n",
    "import warnings\n",
    "import random\n",
    "import arviz as az\n",
    "import pymc as pm\n",
    "warnings.filterwarnings(\"ignore\", category=RuntimeWarning) \n",
    "\n",
    "#Import your modules\n",
    "#---------------------------------------\n",
    "import admin_functions as adfn\n",
    "import cell_decomp_func as cdfn\n",
    "\n",
    "\n",
    "# Define paths\n",
    "#----------------------------------------------------------------------\n",
    "l_code = '/Users/dominicburrows/Dropbox/PhD/Analysis/my_scripts/GitHub/'\n",
    "l_data = '/Users/dominicburrows/Dropbox/PhD/analysis/Project/'\n",
    "l_fig = '/Users/dominicburrows/Dropbox/PhD/figures/'\n",
    "\n",
    "s_code = '/cndd3/dburrows/CODE/'\n",
    "s_data = '/cndd3/dburrows/DATA/'\n",
    "%load_ext autoreload\n",
    "sys.version"
   ]
  },
  {
   "cell_type": "code",
   "execution_count": 31,
   "metadata": {},
   "outputs": [],
   "source": [
    "#==============================================================\n",
    "def run_pyRCTD(idata, prop_vec):\n",
    "#==============================================================\n",
    "    mean_post = np.mean(idata.posterior['beta'][0],axis=0)\n",
    "    from scipy.stats import linregress\n",
    "    line_fit=linregress(np.ravel(prop_vec), np.ravel(mean_post))\n",
    "    return(mean_post, line_fit.rvalue**2)"
   ]
  },
  {
   "cell_type": "code",
   "execution_count": 26,
   "metadata": {},
   "outputs": [
    {
     "data": {
      "text/plain": [
       "array([ 0,  5,  6,  8,  9, 10, 12, 15, 17, 20, 24, 28, 33, 38, 45, 53, 62,\n",
       "       72, 85, 99])"
      ]
     },
     "execution_count": 26,
     "metadata": {},
     "output_type": "execute_result"
    }
   ],
   "source": [
    "gamma_list = np.geomspace(5,100,20).astype(int)\n",
    "gamma_list[0]=0\n",
    "gamma_list[-1]=99"
   ]
  },
  {
   "cell_type": "code",
   "execution_count": 24,
   "metadata": {},
   "outputs": [],
   "source": [
    "#==============================================================\n",
    "def add_noise(spots, per, a_std, g_std, e_std):\n",
    "#==============================================================\n",
    "\n",
    "    \"\"\"\n",
    "    This function adds different types of noise to simulated spots data. \n",
    "    \n",
    "    Inputs:\n",
    "        spots (np array): y x d array of simulated spot counts, where y = spots, d = genes.\n",
    "        per (int): percentage of dropout genes per spot\n",
    "        a_std (int): pixel shared gaussian noise - standard deviations \n",
    "        g_std (int): gene shared gaussian noise - standard deviations\n",
    "        e_std (int): independent spot and gene noise - standard deviations\n",
    "        \n",
    "    returns:\n",
    "        spots (np array): y x d array of simulated noisy spot counts, where y = spots, d = genes.\n",
    "    \n",
    "    \"\"\"\n",
    "    import numpy as np\n",
    "\n",
    "    #Dropout a certain percentage of genes\n",
    "    if per!=None:\n",
    "        for i in range(spots.shape[0]):\n",
    "            rand_ind = np.random.choice(np.arange(spots.shape[1]), size = int((per/100) * spots.shape[1]), replace=False) #random index for selecting\n",
    "            spots[i,rand_ind]=0\n",
    "    \n",
    "    if e_std!=None:\n",
    "        #Add random noise and make int and remove negatives\n",
    "        spots = spots+np.random.exponential(e_std, (spots.shape)) ##EXPONENTIAL OR GAUSSIAN?\n",
    "\n",
    "    if g_std!=None:\n",
    "        #gamma - over each gene\n",
    "        gamma = np.random.exponential(g_std, (spots.shape[1])) ##EXPONENTIAL OR GAUSSIAN?\n",
    "        gamma_mat = np.asarray([gamma for i in range(spots.shape[0])]) #Repeat across columns for elementwise addition\n",
    "        spots = spots+gamma_mat\n",
    "\n",
    "    if a_std!=None:\n",
    "        #alpha - over each spot\n",
    "        alpha = np.random.exponential(a_std, (spots.shape[0])) ##EXPONENTIAL OR GAUSSIAN?\n",
    "        alpha_mat = np.asarray([alpha for i in range(spots.shape[1])]).T #Repeat across columns for elementwise addition\n",
    "        spots = spots+alpha_mat\n",
    "\n",
    "    spots = spots.astype(int)  #REMOVE?\n",
    "    spots[spots < 0] = 0\n",
    "    spots +=1 #remove any zeros\n",
    "\n",
    "    return(spots)"
   ]
  },
  {
   "cell_type": "code",
   "execution_count": 5,
   "metadata": {},
   "outputs": [
    {
     "name": "stdout",
     "output_type": "stream",
     "text": [
      "05 5\n",
      "06 6\n",
      "08 8\n",
      "10 10\n",
      "13 13\n",
      "17 17\n",
      "23 23\n",
      "29 29\n",
      "38 38\n",
      "50 50\n"
     ]
    }
   ],
   "source": [
    "# Run alpha noise - exponential model\n",
    "\n",
    "#Define parameters of simulated data\n",
    "n_clusts = 5\n",
    "n_genes = 800\n",
    "n_cells = 100\n",
    "rate_range = 0,40 #max and min of uniform distribution for generating rates\n",
    "mode = 'gamma'\n",
    "#per = 55 #percentage of dropped genes\n",
    "# e_std= 0 #spot + gene noise\n",
    "# g_std = 0 #gene specific noise\n",
    "\n",
    "for g in gamma_list:\n",
    "    #Simulate spot data from simulated gene expression\n",
    "    spot_sim = cdfn.simulate_cell_mix(n_clusts, n_cells, n_genes).simulate_gene_exp(rate_range)\n",
    "    n_spots = spot_sim.__dict__['n_spots']\n",
    "    spots = spot_sim.__dict__['spots']\n",
    "    ref_exp = spot_sim.__dict__['mean_exps']\n",
    "    prop_vec = spot_sim.__dict__['prop_vec']\n",
    "    spots = add_noise(spots, per=None, a_std=None, g_std=g, e_std=None) #add in noise\n",
    "\n",
    "    #Simple Linear regression\n",
    "    with pm.Model(coords={\"celltypes\": np.arange(n_clusts),\n",
    "                        \"spots\": np.arange(n_spots),\n",
    "                        \"genes\": np.arange(n_genes) }) as basic_model:\n",
    "        #Declare data \n",
    "        mean_exp = pm.Data('mean_exp', ref_exp, mutable=False, dims=['celltypes','genes'])\n",
    "        # Priors for unknown model parameters\n",
    "        beta=pm.HalfNormal(\"beta\", sigma=1, dims=['spots','celltypes'])\n",
    "        lmd= pm.Deterministic('lmd', pm.math.dot(beta, mean_exp), dims=['spots','genes'])\n",
    "        #Convert from proportions to counts\n",
    "        N_g = pm.Data('N_g', np.sum(spots, 1).reshape(n_spots,1), mutable=False)\n",
    "        #Likelihood of observed data given Poisson rates\n",
    "        y=pm.Poisson(\"y\", mu=lmd*N_g, observed=spots)\n",
    "\n",
    "    #Run model\n",
    "    with basic_model:\n",
    "        basic_data=pm.sample(random_seed=1,draws=200,chains=1, discard_tuned_samples=False)\n",
    "\n",
    "\n",
    "    #Poisson noise\n",
    "    with pm.Model(coords={\"celltypes\": np.arange(n_clusts),\n",
    "                        \"spots\": np.arange(n_spots),\n",
    "                        \"genes\": np.arange(n_genes),\n",
    "                        \"1\": np.arange(1) }) as Poisson_noise_model:\n",
    "        #Declare data \n",
    "        mean_exp = pm.Data('mean_exp', ref_exp, mutable=False, dims=['celltypes','genes'])\n",
    "        # Priors for unknown model parameters\n",
    "        beta=pm.HalfNormal(\"beta\", sigma=1, dims=['spots','celltypes']) # celltype proportions\n",
    "        gamma = pm.Exponential(\"gamma\", lam=1, dims=['1','genes']) # random noise at each spot\n",
    "        lmd= pm.Deterministic('lmd', np.exp(gamma)*pm.math.dot(beta, mean_exp), dims=['spots','genes'])\n",
    "        #Convert from proportions to counts\n",
    "        N_g = pm.Data('N_g', np.sum(spots, 1).reshape(n_spots,1), mutable=False)\n",
    "\n",
    "        #Likelihood of observed data given Poisson rates\n",
    "        y=pm.Poisson(\"y\", mu=lmd*N_g, observed=spots)\n",
    "\n",
    "    with Poisson_noise_model:\n",
    "        noise_data = pm.sample(random_seed=1,draws=200,chains=1, discard_tuned_samples=False)\n",
    "\n",
    "    basic_post, basic_r2 = run_pyRCTD(basic_data, prop_vec)\n",
    "    noise_post, noise_r2 = run_pyRCTD(noise_data, prop_vec)\n",
    "\n",
    "\n",
    "    if len(str(g))<2:pref = '0' + str(g)\n",
    "    else:pref= str(g)\n",
    "    np.save(s_data + 'spatial_transcriptomics/RCTD-test-basic-exp-model_'+ mode + '-' + pref + '.npy', np.array([prop_vec, basic_post, basic_r2], dtype=object))\n",
    "    np.save(s_data + 'spatial_transcriptomics/RCTD-test-noise-exp-model_' + mode + '-' + pref + '.npy', np.array([prop_vec, noise_post, noise_r2], dtype=object))\n",
    "    print(g)\n"
   ]
  }
 ],
 "metadata": {
  "kernelspec": {
   "display_name": "pymc_conda",
   "language": "python",
   "name": "python3"
  },
  "language_info": {
   "codemirror_mode": {
    "name": "ipython",
    "version": 3
   },
   "file_extension": ".py",
   "mimetype": "text/x-python",
   "name": "python",
   "nbconvert_exporter": "python",
   "pygments_lexer": "ipython3",
   "version": "3.11.0"
  },
  "orig_nbformat": 4,
  "vscode": {
   "interpreter": {
    "hash": "cbc195bd4917a9b26b2a4c86e8dfd1e2d1ef81b8785c4097f20b15a38e62cfe4"
   }
  }
 },
 "nbformat": 4,
 "nbformat_minor": 2
}
