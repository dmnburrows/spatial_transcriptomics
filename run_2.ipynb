{
 "cells": [
  {
   "cell_type": "code",
   "execution_count": 2,
   "metadata": {},
   "outputs": [
    {
     "data": {
      "text/plain": [
       "'3.11.0 | packaged by conda-forge | (main, Jan 14 2023, 12:27:40) [GCC 11.3.0]'"
      ]
     },
     "execution_count": 2,
     "metadata": {},
     "output_type": "execute_result"
    }
   ],
   "source": [
    "#Import packages\n",
    "#---------------------------------------\n",
    "import sys\n",
    "import os\n",
    "import pandas as pd\n",
    "from matplotlib import pyplot as plt    \n",
    "import numpy as np\n",
    "import matplotlib\n",
    "import warnings\n",
    "import random\n",
    "import arviz as az\n",
    "import pymc as pm\n",
    "warnings.filterwarnings(\"ignore\", category=RuntimeWarning) \n",
    "\n",
    "#Import your modules\n",
    "#---------------------------------------\n",
    "import admin_functions as adfn\n",
    "import cell_decomp_func as cdfn\n",
    "\n",
    "\n",
    "# Define paths\n",
    "#----------------------------------------------------------------------\n",
    "l_code = '/Users/dominicburrows/Dropbox/PhD/Analysis/my_scripts/GitHub/'\n",
    "l_data = '/Users/dominicburrows/Dropbox/PhD/analysis/Project/'\n",
    "l_fig = '/Users/dominicburrows/Dropbox/PhD/figures/'\n",
    "\n",
    "s_code = '/cndd3/dburrows/CODE/'\n",
    "s_data = '/cndd3/dburrows/DATA/'\n",
    "%load_ext autoreload\n",
    "sys.version"
   ]
  },
  {
   "cell_type": "code",
   "execution_count": 3,
   "metadata": {},
   "outputs": [
    {
     "data": {
      "text/plain": [
       "array([0. , 0.1, 0.2, 0.3, 0.4, 0.5, 0.6, 0.7, 0.8, 0.9])"
      ]
     },
     "execution_count": 3,
     "metadata": {},
     "output_type": "execute_result"
    }
   ],
   "source": [
    "clust_list = np.linspace(3, 30, 7).astype(int)\n",
    "genes_list = np.linspace(100, 3000, 7).astype(int)\n",
    "cells_list = np.linspace(100, 3000, 7).astype(int)\n",
    "list_list = [clust_list, genes_list, cells_list]\n",
    "mode_list= ['nclusts', 'ngenes', 'nspots']"
   ]
  },
  {
   "cell_type": "code",
   "execution_count": 5,
   "metadata": {},
   "outputs": [
    {
     "name": "stdout",
     "output_type": "stream",
     "text": [
      "05 5\n",
      "06 6\n",
      "08 8\n",
      "10 10\n",
      "13 13\n",
      "17 17\n",
      "23 23\n",
      "29 29\n",
      "38 38\n",
      "50 50\n"
     ]
    }
   ],
   "source": [
    "# Run alpha noise\n",
    "import time\n",
    "\n",
    "model_type = 'epsilon' #CHANGE!\n",
    "\n",
    "for x,li in enumerate(list_list):\n",
    "    mode = mode_list[x]\n",
    "\n",
    "    for l in li:\n",
    "        #Set default parameters\n",
    "        n_clusts = 5\n",
    "        n_genes = 800\n",
    "        n_cells = 100\n",
    "        if mode == 'nclusts':\n",
    "            n_clusts = l\n",
    "        if mode == 'ngenes':\n",
    "            n_genes = l\n",
    "        if mode == 'nspots':\n",
    "            n_cells=l\n",
    "\n",
    "        rate_range = 0,40 #max and min of uniform distribution for generating rates\n",
    "        noise_type = 'exponential' #CHANGE!\n",
    "\n",
    "        start_time = time.time()\n",
    "        #Simulate spot data from simulated gene expression\n",
    "        spot_sim = cdfn.simulate_cell_mix(n_clusts, n_cells, n_genes).simulate_gene_exp(rate_range, 0)\n",
    "        n_spots = spot_sim.__dict__['n_spots']\n",
    "        spots = spot_sim.__dict__['spots']\n",
    "        ref_exp = spot_sim.__dict__['mean_exps']\n",
    "        prop_vec = spot_sim.__dict__['prop_vec']\n",
    "        spots = cdfn.add_noise(spots, per=None, a_std=5, g_std=5, e_std=5, noise_type=noise_type) #CHANGE!\n",
    "\n",
    "        model = cdfn.epsilon_pymc(n_clusts, n_spots, n_genes, ref_exp, spots, noise_type=noise_type) #CHANGE!\n",
    "        with model: data=pm.sample(random_seed=1,draws=200,chains=1, discard_tuned_samples=False)\n",
    "\n",
    "        post, r2 = cdfn.model_stats(data, prop_vec, n_clusts)\n",
    "        if len(str(l))<2:pref = '0' + str(l)\n",
    "        else:pref= str(l)\n",
    "        fin = (time.time() - start_time)\n",
    "        if mode=='n_spots':\n",
    "            l = str(n_spots)\n",
    "        np.save(s_data + 'spatial_transcriptomics/RCTD-test_noise-' + noise_type + '_model-' + model_type + '_' + mode + '-' + pref + '.npy', np.array([prop_vec, post, r2, fin], dtype=object))\n",
    "        print(l)\n"
   ]
  }
 ],
 "metadata": {
  "kernelspec": {
   "display_name": "pymc_conda",
   "language": "python",
   "name": "python3"
  },
  "language_info": {
   "codemirror_mode": {
    "name": "ipython",
    "version": 3
   },
   "file_extension": ".py",
   "mimetype": "text/x-python",
   "name": "python",
   "nbconvert_exporter": "python",
   "pygments_lexer": "ipython3",
   "version": "3.11.0"
  },
  "orig_nbformat": 4,
  "vscode": {
   "interpreter": {
    "hash": "cbc195bd4917a9b26b2a4c86e8dfd1e2d1ef81b8785c4097f20b15a38e62cfe4"
   }
  }
 },
 "nbformat": 4,
 "nbformat_minor": 2
}
