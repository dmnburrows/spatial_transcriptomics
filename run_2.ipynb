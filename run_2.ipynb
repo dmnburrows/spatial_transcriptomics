{
 "cells": [
  {
   "cell_type": "code",
   "execution_count": 20,
   "metadata": {},
   "outputs": [
    {
     "name": "stdout",
     "output_type": "stream",
     "text": [
      "The autoreload extension is already loaded. To reload it, use:\n",
      "  %reload_ext autoreload\n"
     ]
    },
    {
     "data": {
      "text/plain": [
       "'3.11.0 | packaged by conda-forge | (main, Jan 14 2023, 12:27:40) [GCC 11.3.0]'"
      ]
     },
     "execution_count": 20,
     "metadata": {},
     "output_type": "execute_result"
    }
   ],
   "source": [
    "#Import packages\n",
    "#---------------------------------------\n",
    "import sys\n",
    "import os\n",
    "import pandas as pd\n",
    "from matplotlib import pyplot as plt\n",
    "import numpy as np\n",
    "import matplotlib\n",
    "import warnings\n",
    "import random\n",
    "import arviz as az\n",
    "import pymc as pm\n",
    "warnings.filterwarnings(\"ignore\", category=RuntimeWarning) \n",
    "\n",
    "#Import your modules\n",
    "#---------------------------------------\n",
    "import admin_functions as adfn\n",
    "import cell_decomp_func as cdfn\n",
    "\n",
    "\n",
    "# Define paths\n",
    "#----------------------------------------------------------------------\n",
    "l_code = '/Users/dominicburrows/Dropbox/PhD/Analysis/my_scripts/GitHub/'\n",
    "l_data = '/Users/dominicburrows/Dropbox/PhD/analysis/Project/'\n",
    "l_fig = '/Users/dominicburrows/Dropbox/PhD/figures/'\n",
    "\n",
    "s_code = '/cndd3/dburrows/CODE/'\n",
    "s_data = '/cndd3/dburrows/DATA/'\n",
    "%load_ext autoreload\n",
    "sys.version"
   ]
  },
  {
   "cell_type": "code",
   "execution_count": 26,
   "metadata": {},
   "outputs": [
    {
     "data": {
      "text/plain": [
       "array([ 0,  5,  6,  8,  9, 10, 12, 15, 17, 20, 24, 28, 33, 38, 45, 53, 62,\n",
       "       72, 85, 99])"
      ]
     },
     "execution_count": 26,
     "metadata": {},
     "output_type": "execute_result"
    }
   ],
   "source": [
    "gamma_list = np.geomspace(5,100,20).astype(int)\n",
    "gamma_list[0]=0\n",
    "gamma_list[-1]=99"
   ]
  },
  {
   "cell_type": "code",
   "execution_count": 5,
   "metadata": {},
   "outputs": [
    {
     "name": "stdout",
     "output_type": "stream",
     "text": [
      "05 5\n",
      "06 6\n",
      "08 8\n",
      "10 10\n",
      "13 13\n",
      "17 17\n",
      "23 23\n",
      "29 29\n",
      "38 38\n",
      "50 50\n"
     ]
    }
   ],
   "source": [
    "# Run alpha noise\n",
    "\n",
    "#Define parameters of simulated data\n",
    "n_clusts = 5\n",
    "n_genes = 800\n",
    "n_cells = 100\n",
    "rate_range = 0,40 #max and min of uniform distribution for generating rates\n",
    "mode = 'gamma' #CHANGE!\n",
    "noise_type = 'gaussian' #CHANGE!\n",
    "\n",
    "for x in gamma_list: #CHANGE!\n",
    "    #Simulate spot data from simulated gene expression\n",
    "    spot_sim = cdfn.simulate_cell_mix(n_clusts, n_cells, n_genes).simulate_gene_exp(rate_range)\n",
    "    n_spots = spot_sim.__dict__['n_spots']\n",
    "    spots = spot_sim.__dict__['spots']\n",
    "    ref_exp = spot_sim.__dict__['mean_exps']\n",
    "    prop_vec = spot_sim.__dict__['prop_vec']\n",
    "    spots = cdfn.add_noise(spots, per=None, a_std=None, g_std=x, e_std=None, noise_type=noise_type) #CHANGE!\n",
    "\n",
    "    #Run basic model\n",
    "    basic_model = cdfn.basic_pymc(n_clusts, n_spots, n_genes, ref_exp)\n",
    "    with basic_model: basic_data=pm.sample(random_seed=1,draws=200,chains=1, discard_tuned_samples=False)\n",
    "    \n",
    "    #Run noise model\n",
    "    noise_model = cdfn.gamma_pymc(n_clusts, n_spots, n_genes, ref_exp, noise_type) #CHANGE!\n",
    "    with noise_model: noise_data=pm.sample(random_seed=1,draws=200,chains=1, discard_tuned_samples=False)\n",
    "\n",
    "    basic_post, basic_r2 = cdfn.model_stats(basic_data, prop_vec)\n",
    "    noise_post, noise_r2 = cdfn.model_stats(noise_data, prop_vec)\n",
    "    if len(str(x))<2:pref = '0' + str(x)\n",
    "    else:pref= str(x)\n",
    "    np.save(s_data + 'spatial_transcriptomics/RCTD-test-basic-' + noise_type + '-model_'+ mode + '-' + pref + '.npy', np.array([prop_vec, basic_post, basic_r2], dtype=object))\n",
    "    np.save(s_data + 'spatial_transcriptomics/RCTD-test-noise-' + noise_type + '-model_' + mode + '-' + pref + '.npy', np.array([prop_vec, noise_post, noise_r2], dtype=object))\n",
    "    print(x)"
   ]
  }
 ],
 "metadata": {
  "kernelspec": {
   "display_name": "pymc_conda",
   "language": "python",
   "name": "python3"
  },
  "language_info": {
   "codemirror_mode": {
    "name": "ipython",
    "version": 3
   },
   "file_extension": ".py",
   "mimetype": "text/x-python",
   "name": "python",
   "nbconvert_exporter": "python",
   "pygments_lexer": "ipython3",
   "version": "3.11.0"
  },
  "orig_nbformat": 4,
  "vscode": {
   "interpreter": {
    "hash": "cbc195bd4917a9b26b2a4c86e8dfd1e2d1ef81b8785c4097f20b15a38e62cfe4"
   }
  }
 },
 "nbformat": 4,
 "nbformat_minor": 2
}
