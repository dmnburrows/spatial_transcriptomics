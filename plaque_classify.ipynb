{
 "cells": [
  {
   "cell_type": "code",
   "execution_count": 2,
   "metadata": {},
   "outputs": [
    {
     "name": "stdout",
     "output_type": "stream",
     "text": [
      "The autoreload extension is already loaded. To reload it, use:\n",
      "  %reload_ext autoreload\n"
     ]
    },
    {
     "data": {
      "text/plain": [
       "'3.9.7 | packaged by conda-forge | (default, Sep 29 2021, 19:23:11) \\n[GCC 9.4.0]'"
      ]
     },
     "execution_count": 2,
     "metadata": {},
     "output_type": "execute_result"
    }
   ],
   "source": [
    "#Conda env: base_conda\n",
    "\n",
    "#Import packages\n",
    "#---------------------------------------\n",
    "import sys\n",
    "from matplotlib import pyplot as plt\n",
    "import numpy as np\n",
    "import json\n",
    "import pandas as pd\n",
    "import seaborn as sns\n",
    "import imblearn\n",
    "\n",
    "\n",
    "#Import your modules\n",
    "#---------------------------------------\n",
    "import plaque_f as pf\n",
    "\n",
    "# Define paths\n",
    "#----------------------------------------------------------------------\n",
    "l_code = '/Users/dominicburrows/Dropbox/PhD/Analysis/my_scripts/GitHub/'\n",
    "l_data = '/Users/dominicburrows/Dropbox/PhD/analysis/Project/'\n",
    "l_fig = '/Users/dominicburrows/Dropbox/PhD/figures/'\n",
    "\n",
    "s_code = '/cndd3/dburrows/CODE/'\n",
    "s_data = '/cndd3/dburrows/DATA/'\n",
    "s_fig = '/cndd3/dburrows/FIGS/'\n",
    "\n",
    "%load_ext autoreload\n",
    "sys.version"
   ]
  },
  {
   "attachments": {},
   "cell_type": "markdown",
   "metadata": {},
   "source": [
    "# Load and pre-process data"
   ]
  },
  {
   "cell_type": "code",
   "execution_count": 3,
   "metadata": {},
   "outputs": [],
   "source": [
    "#Load data\n",
    "meta = pd.read_csv('/cndd3/dburrows/DATA/spatial_transcriptomics/plaques/prediction/meta.csv')\n",
    "cpm = pd.read_csv('/cndd3/dburrows/DATA/spatial_transcriptomics/plaques/prediction/combined_genemat_CPM.csv', index_col=0)\n",
    "logcpm = pd.read_csv('/cndd3/dburrows/DATA/spatial_transcriptomics/plaques/prediction/combined_genemat_log2p1CPM.csv', index_col=0)\n",
    "de_genes = pd.read_csv('/cndd3/dburrows/DATA/spatial_transcriptomics/plaques/prediction/adjplq_MAST-LRT_sample-intercept_reduced.csv', index_col=0)\n"
   ]
  },
  {
   "cell_type": "code",
   "execution_count": 3,
   "metadata": {},
   "outputs": [
    {
     "name": "stdout",
     "output_type": "stream",
     "text": [
      "16.0% of spots are plaque\n"
     ]
    }
   ],
   "source": [
    "#Ascertain class imbalance\n",
    "u = np.unique(meta['adj_plq'],return_counts=True)\n",
    "print(str(np.round(u[1][1]/sum(u[1]) * 100)) + '% of spots are plaque')"
   ]
  },
  {
   "cell_type": "code",
   "execution_count": 2,
   "metadata": {},
   "outputs": [],
   "source": [
    "def run_(age, dist, long_name, short_name):\n",
    "    # Declare paths\n",
    "    data_path = s_data + 'spatial_transcriptomics/plaques/coords/' + age + '/' + long_name + '.json'\n",
    "    coord_path = '/cndd2/agelber/hal/qc_aligned/' + short_name + '/outs/spatial/tissue_positions.csv'\n",
    "    genes_path = '/cndd2/agelber/hal/qc_aligned/' + short_name + '/outs/filtered_feature_bc_matrix.h5'\n",
    "    scale_path = '/cndd2/agelber/hal/qc_aligned/' + short_name + '/outs/spatial/scalefactors_json.json'\n",
    "    meta = pd.read_csv('/home/AD/agelber/desp1/precast/prec_c25q25g3000/qc_cell_annotation.csv')\n",
    "    meta_filt = meta[meta['sample'] == short_name]\n",
    "\n",
    "\n",
    "    spot_df, gene_df = pf.sort_data(data_path, coord_path, genes_path, scale_path, \n",
    "                                    meta_filt, min_cell_per_gene=0)#, norm_factor=1e6)\n",
    "    \n",
    "    spot_df = pd.read_csv('/cndd3/dburrows/DATA/spatial_transcriptomics/plaques/metadata/' + age + '/' + short_name + '.csv')\n",
    "    #turn boolean into int\n",
    "    bool = (spot_df['dist_nearest_plaq'].values < dist).astype(int)\n",
    "    spot_df['adj_plq'] = bool\n",
    "    \n",
    "    #Sanity check\n",
    "    assert spot_df.shape[0] == gene_df.shape[0] == meta_filt.shape[0]\n",
    "    assert 'Thy1' not in gene_df.columns.values or 'humanAPP' not in gene_df.columns.values\n",
    "    print('Number of spots: ' + str(gene_df.shape[0]))\n",
    "    print('Number of genes: ' + str(gene_df.shape[1]))\n",
    "    return(spot_df, gene_df)"
   ]
  },
  {
   "cell_type": "code",
   "execution_count": 84,
   "metadata": {},
   "outputs": [
    {
     "data": {
      "text/plain": [
       "(['V11Y10_030-C',\n",
       "  '030-B',\n",
       "  'V11Y17_109-D',\n",
       "  'V11Y17_109-A',\n",
       "  'V10S15_040-C',\n",
       "  'V11Y17_109-C',\n",
       "  'S29_030-D',\n",
       "  'V10S15_040-A',\n",
       "  'V10S15_040-D'],\n",
       " array(['030-C', '030-B', '109-D', '109-A', '040-C', '109-C', '030-D',\n",
       "        '040-A', '040-D'], dtype='<U32'))"
      ]
     },
     "execution_count": 84,
     "metadata": {},
     "output_type": "execute_result"
    }
   ],
   "source": [
    "#OLD ANIMALS\n",
    "#sort out names\n",
    "import glob\n",
    "import os\n",
    "age = 'old'\n",
    "os.chdir('/cndd3/dburrows/DATA/spatial_transcriptomics/plaques/coords/' + age)\n",
    "og = glob.glob('*.json')\n",
    "ID = [i.split('.')[0] for i in og]\n",
    "sub_ID=[]\n",
    "for x,i in enumerate(og):\n",
    "    if x != 1: sub_ID = np.append(sub_ID, i.split('_')[1][:-5])\n",
    "    else: sub_ID = np.append(sub_ID, i[:-5])\n",
    "ID, sub_ID\n",
    "\n"
   ]
  },
  {
   "cell_type": "code",
   "execution_count": 49,
   "metadata": {},
   "outputs": [
    {
     "name": "stderr",
     "output_type": "stream",
     "text": [
      "/home/dburrows/mambaforge/envs/base_conda/lib/python3.9/site-packages/anndata/_core/anndata.py:1832: UserWarning: Variable names are not unique. To make them unique, call `.var_names_make_unique`.\n",
      "  utils.warn_names_duplicates(\"var\")\n"
     ]
    },
    {
     "name": "stdout",
     "output_type": "stream",
     "text": [
      "Number of spots: 3397\n",
      "Number of genes: 32284\n"
     ]
    }
   ],
   "source": [
    "#DIST = 150\n",
    "dist = 150\n",
    "spot_df, gene_df = run_('old', dist, ID[0], sub_ID[0])"
   ]
  },
  {
   "cell_type": "code",
   "execution_count": 50,
   "metadata": {},
   "outputs": [
    {
     "data": {
      "text/html": [
       "<div>\n",
       "<style scoped>\n",
       "    .dataframe tbody tr th:only-of-type {\n",
       "        vertical-align: middle;\n",
       "    }\n",
       "\n",
       "    .dataframe tbody tr th {\n",
       "        vertical-align: top;\n",
       "    }\n",
       "\n",
       "    .dataframe thead th {\n",
       "        text-align: right;\n",
       "    }\n",
       "</style>\n",
       "<table border=\"1\" class=\"dataframe\">\n",
       "  <thead>\n",
       "    <tr style=\"text-align: right;\">\n",
       "      <th></th>\n",
       "      <th>Unnamed: 0</th>\n",
       "      <th>barcode</th>\n",
       "      <th>sample</th>\n",
       "      <th>sex</th>\n",
       "      <th>plaque</th>\n",
       "      <th>cluster</th>\n",
       "      <th>array_row</th>\n",
       "      <th>array_col</th>\n",
       "      <th>pxl_row_in_fullres</th>\n",
       "      <th>pxl_col_in_fullres</th>\n",
       "      <th>micron_x</th>\n",
       "      <th>micron_y</th>\n",
       "      <th>dist_nearest_plaq</th>\n",
       "      <th>dam_scr</th>\n",
       "      <th>adj_plq</th>\n",
       "    </tr>\n",
       "  </thead>\n",
       "  <tbody>\n",
       "    <tr>\n",
       "      <th>0</th>\n",
       "      <td>111351</td>\n",
       "      <td>AAACAAGTATCTCCCA-1_030-C</td>\n",
       "      <td>030-C</td>\n",
       "      <td>F</td>\n",
       "      <td>0</td>\n",
       "      <td>GP/TH</td>\n",
       "      <td>50</td>\n",
       "      <td>102</td>\n",
       "      <td>413</td>\n",
       "      <td>1642</td>\n",
       "      <td>7640.215638</td>\n",
       "      <td>1921.686394</td>\n",
       "      <td>2813.133952</td>\n",
       "      <td>-1.303905</td>\n",
       "      <td>0</td>\n",
       "    </tr>\n",
       "    <tr>\n",
       "      <th>1</th>\n",
       "      <td>111352</td>\n",
       "      <td>AAACAATCTACTAGCA-1_030-C</td>\n",
       "      <td>030-C</td>\n",
       "      <td>F</td>\n",
       "      <td>0</td>\n",
       "      <td>CA1</td>\n",
       "      <td>3</td>\n",
       "      <td>43</td>\n",
       "      <td>1049</td>\n",
       "      <td>764</td>\n",
       "      <td>3554.887179</td>\n",
       "      <td>4880.990380</td>\n",
       "      <td>1155.639155</td>\n",
       "      <td>-0.761353</td>\n",
       "      <td>0</td>\n",
       "    </tr>\n",
       "    <tr>\n",
       "      <th>2</th>\n",
       "      <td>111353</td>\n",
       "      <td>AAACAGAGCGACTCCT-1_030-C</td>\n",
       "      <td>030-C</td>\n",
       "      <td>F</td>\n",
       "      <td>0</td>\n",
       "      <td>CA3-sp</td>\n",
       "      <td>14</td>\n",
       "      <td>94</td>\n",
       "      <td>500</td>\n",
       "      <td>969</td>\n",
       "      <td>4508.750885</td>\n",
       "      <td>2326.496845</td>\n",
       "      <td>3335.466323</td>\n",
       "      <td>1.198699</td>\n",
       "      <td>0</td>\n",
       "    </tr>\n",
       "    <tr>\n",
       "      <th>3</th>\n",
       "      <td>111354</td>\n",
       "      <td>AAACAGTGTTCCTGGG-1_030-C</td>\n",
       "      <td>030-C</td>\n",
       "      <td>F</td>\n",
       "      <td>0</td>\n",
       "      <td>Cortex Layer 2/3</td>\n",
       "      <td>73</td>\n",
       "      <td>43</td>\n",
       "      <td>1046</td>\n",
       "      <td>2073</td>\n",
       "      <td>9645.655919</td>\n",
       "      <td>4867.031399</td>\n",
       "      <td>361.977789</td>\n",
       "      <td>1.716606</td>\n",
       "      <td>0</td>\n",
       "    </tr>\n",
       "    <tr>\n",
       "      <th>4</th>\n",
       "      <td>111355</td>\n",
       "      <td>AAACCCGAACGAAATC-1_030-C</td>\n",
       "      <td>030-C</td>\n",
       "      <td>F</td>\n",
       "      <td>0</td>\n",
       "      <td>Amygdala</td>\n",
       "      <td>45</td>\n",
       "      <td>115</td>\n",
       "      <td>273</td>\n",
       "      <td>1548</td>\n",
       "      <td>7202.834232</td>\n",
       "      <td>1270.267277</td>\n",
       "      <td>3555.739719</td>\n",
       "      <td>0.967294</td>\n",
       "      <td>0</td>\n",
       "    </tr>\n",
       "    <tr>\n",
       "      <th>...</th>\n",
       "      <td>...</td>\n",
       "      <td>...</td>\n",
       "      <td>...</td>\n",
       "      <td>...</td>\n",
       "      <td>...</td>\n",
       "      <td>...</td>\n",
       "      <td>...</td>\n",
       "      <td>...</td>\n",
       "      <td>...</td>\n",
       "      <td>...</td>\n",
       "      <td>...</td>\n",
       "      <td>...</td>\n",
       "      <td>...</td>\n",
       "      <td>...</td>\n",
       "      <td>...</td>\n",
       "    </tr>\n",
       "    <tr>\n",
       "      <th>3392</th>\n",
       "      <td>114743</td>\n",
       "      <td>TTGTTTCACATCCAGG-1_030-C</td>\n",
       "      <td>030-C</td>\n",
       "      <td>F</td>\n",
       "      <td>0</td>\n",
       "      <td>Cortex Layer 5b</td>\n",
       "      <td>58</td>\n",
       "      <td>42</td>\n",
       "      <td>1057</td>\n",
       "      <td>1793</td>\n",
       "      <td>8342.817685</td>\n",
       "      <td>4918.214330</td>\n",
       "      <td>98.155009</td>\n",
       "      <td>0.898491</td>\n",
       "      <td>1</td>\n",
       "    </tr>\n",
       "    <tr>\n",
       "      <th>3393</th>\n",
       "      <td>114744</td>\n",
       "      <td>TTGTTTCATTAGTCTA-1_030-C</td>\n",
       "      <td>030-C</td>\n",
       "      <td>F</td>\n",
       "      <td>0</td>\n",
       "      <td>Cortex Layer 2/3</td>\n",
       "      <td>60</td>\n",
       "      <td>30</td>\n",
       "      <td>1186</td>\n",
       "      <td>1830</td>\n",
       "      <td>8514.978452</td>\n",
       "      <td>5518.450516</td>\n",
       "      <td>97.823590</td>\n",
       "      <td>3.975057</td>\n",
       "      <td>1</td>\n",
       "    </tr>\n",
       "    <tr>\n",
       "      <th>3394</th>\n",
       "      <td>114745</td>\n",
       "      <td>TTGTTTCCATACAACT-1_030-C</td>\n",
       "      <td>030-C</td>\n",
       "      <td>F</td>\n",
       "      <td>0</td>\n",
       "      <td>Cortex Layer 4</td>\n",
       "      <td>45</td>\n",
       "      <td>27</td>\n",
       "      <td>1219</td>\n",
       "      <td>1550</td>\n",
       "      <td>7212.140219</td>\n",
       "      <td>5671.999308</td>\n",
       "      <td>705.415942</td>\n",
       "      <td>1.810155</td>\n",
       "      <td>0</td>\n",
       "    </tr>\n",
       "    <tr>\n",
       "      <th>3395</th>\n",
       "      <td>114746</td>\n",
       "      <td>TTGTTTGTATTACACG-1_030-C</td>\n",
       "      <td>030-C</td>\n",
       "      <td>F</td>\n",
       "      <td>0</td>\n",
       "      <td>Cortex Layer 2/3</td>\n",
       "      <td>73</td>\n",
       "      <td>41</td>\n",
       "      <td>1067</td>\n",
       "      <td>2073</td>\n",
       "      <td>9645.655919</td>\n",
       "      <td>4964.744267</td>\n",
       "      <td>302.444590</td>\n",
       "      <td>-0.445870</td>\n",
       "      <td>0</td>\n",
       "    </tr>\n",
       "    <tr>\n",
       "      <th>3396</th>\n",
       "      <td>114747</td>\n",
       "      <td>TTGTTTGTGTAAATTC-1_030-C</td>\n",
       "      <td>030-C</td>\n",
       "      <td>F</td>\n",
       "      <td>0</td>\n",
       "      <td>Dentate Gyrus-mo</td>\n",
       "      <td>7</td>\n",
       "      <td>51</td>\n",
       "      <td>963</td>\n",
       "      <td>839</td>\n",
       "      <td>3903.861706</td>\n",
       "      <td>4480.832923</td>\n",
       "      <td>1321.482975</td>\n",
       "      <td>-2.533245</td>\n",
       "      <td>0</td>\n",
       "    </tr>\n",
       "  </tbody>\n",
       "</table>\n",
       "<p>3397 rows × 15 columns</p>\n",
       "</div>"
      ],
      "text/plain": [
       "      Unnamed: 0                   barcode sample sex  plaque  \\\n",
       "0         111351  AAACAAGTATCTCCCA-1_030-C  030-C   F       0   \n",
       "1         111352  AAACAATCTACTAGCA-1_030-C  030-C   F       0   \n",
       "2         111353  AAACAGAGCGACTCCT-1_030-C  030-C   F       0   \n",
       "3         111354  AAACAGTGTTCCTGGG-1_030-C  030-C   F       0   \n",
       "4         111355  AAACCCGAACGAAATC-1_030-C  030-C   F       0   \n",
       "...          ...                       ...    ...  ..     ...   \n",
       "3392      114743  TTGTTTCACATCCAGG-1_030-C  030-C   F       0   \n",
       "3393      114744  TTGTTTCATTAGTCTA-1_030-C  030-C   F       0   \n",
       "3394      114745  TTGTTTCCATACAACT-1_030-C  030-C   F       0   \n",
       "3395      114746  TTGTTTGTATTACACG-1_030-C  030-C   F       0   \n",
       "3396      114747  TTGTTTGTGTAAATTC-1_030-C  030-C   F       0   \n",
       "\n",
       "               cluster  array_row  array_col  pxl_row_in_fullres  \\\n",
       "0                GP/TH         50        102                 413   \n",
       "1                  CA1          3         43                1049   \n",
       "2               CA3-sp         14         94                 500   \n",
       "3     Cortex Layer 2/3         73         43                1046   \n",
       "4             Amygdala         45        115                 273   \n",
       "...                ...        ...        ...                 ...   \n",
       "3392   Cortex Layer 5b         58         42                1057   \n",
       "3393  Cortex Layer 2/3         60         30                1186   \n",
       "3394    Cortex Layer 4         45         27                1219   \n",
       "3395  Cortex Layer 2/3         73         41                1067   \n",
       "3396  Dentate Gyrus-mo          7         51                 963   \n",
       "\n",
       "      pxl_col_in_fullres     micron_x     micron_y  dist_nearest_plaq  \\\n",
       "0                   1642  7640.215638  1921.686394        2813.133952   \n",
       "1                    764  3554.887179  4880.990380        1155.639155   \n",
       "2                    969  4508.750885  2326.496845        3335.466323   \n",
       "3                   2073  9645.655919  4867.031399         361.977789   \n",
       "4                   1548  7202.834232  1270.267277        3555.739719   \n",
       "...                  ...          ...          ...                ...   \n",
       "3392                1793  8342.817685  4918.214330          98.155009   \n",
       "3393                1830  8514.978452  5518.450516          97.823590   \n",
       "3394                1550  7212.140219  5671.999308         705.415942   \n",
       "3395                2073  9645.655919  4964.744267         302.444590   \n",
       "3396                 839  3903.861706  4480.832923        1321.482975   \n",
       "\n",
       "       dam_scr  adj_plq  \n",
       "0    -1.303905        0  \n",
       "1    -0.761353        0  \n",
       "2     1.198699        0  \n",
       "3     1.716606        0  \n",
       "4     0.967294        0  \n",
       "...        ...      ...  \n",
       "3392  0.898491        1  \n",
       "3393  3.975057        1  \n",
       "3394  1.810155        0  \n",
       "3395 -0.445870        0  \n",
       "3396 -2.533245        0  \n",
       "\n",
       "[3397 rows x 15 columns]"
      ]
     },
     "execution_count": 50,
     "metadata": {},
     "output_type": "execute_result"
    }
   ],
   "source": [
    "spot_df"
   ]
  },
  {
   "cell_type": "code",
   "execution_count": 53,
   "metadata": {},
   "outputs": [],
   "source": [
    "#Define colormap by clusters\n",
    "col_df = pd.read_csv('/cndd3/dburrows/DATA/spatial_transcriptomics/plaques/metadata/colors.csv')\n",
    "sort_clust = col_df['cluster_order'] #all clusters sorted \n",
    "sort_col = col_df['color']\n"
   ]
  },
  {
   "cell_type": "code",
   "execution_count": 4,
   "metadata": {},
   "outputs": [
    {
     "ename": "NameError",
     "evalue": "name 'sub_ID' is not defined",
     "output_type": "error",
     "traceback": [
      "\u001b[0;31m---------------------------------------------------------------------------\u001b[0m",
      "\u001b[0;31mNameError\u001b[0m                                 Traceback (most recent call last)",
      "\u001b[0;32m/tmp/ipykernel_877978/1272876525.py\u001b[0m in \u001b[0;36m<cell line: 2>\u001b[0;34m()\u001b[0m\n\u001b[1;32m      1\u001b[0m \u001b[0;31m#visualise plaque + adjacent spots\u001b[0m\u001b[0;34m\u001b[0m\u001b[0;34m\u001b[0m\u001b[0m\n\u001b[0;32m----> 2\u001b[0;31m \u001b[0;32mfor\u001b[0m \u001b[0my\u001b[0m\u001b[0;34m,\u001b[0m\u001b[0mname\u001b[0m \u001b[0;32min\u001b[0m \u001b[0menumerate\u001b[0m\u001b[0;34m(\u001b[0m\u001b[0msub_ID\u001b[0m\u001b[0;34m)\u001b[0m\u001b[0;34m:\u001b[0m\u001b[0;34m\u001b[0m\u001b[0;34m\u001b[0m\u001b[0m\n\u001b[0m\u001b[1;32m      3\u001b[0m     \u001b[0mspot_df\u001b[0m\u001b[0;34m,\u001b[0m \u001b[0mgene_df\u001b[0m \u001b[0;34m=\u001b[0m \u001b[0mrun_\u001b[0m\u001b[0;34m(\u001b[0m\u001b[0;34m'old'\u001b[0m\u001b[0;34m,\u001b[0m \u001b[0mdist\u001b[0m\u001b[0;34m,\u001b[0m \u001b[0mID\u001b[0m\u001b[0;34m[\u001b[0m\u001b[0my\u001b[0m\u001b[0;34m]\u001b[0m\u001b[0;34m,\u001b[0m \u001b[0msub_ID\u001b[0m\u001b[0;34m[\u001b[0m\u001b[0my\u001b[0m\u001b[0;34m]\u001b[0m\u001b[0;34m)\u001b[0m\u001b[0;34m\u001b[0m\u001b[0;34m\u001b[0m\u001b[0m\n\u001b[1;32m      4\u001b[0m     \u001b[0mclust_lab\u001b[0m \u001b[0;34m=\u001b[0m \u001b[0mspot_df\u001b[0m\u001b[0;34m[\u001b[0m\u001b[0;34m'cluster'\u001b[0m\u001b[0;34m]\u001b[0m\u001b[0;34m.\u001b[0m\u001b[0mvalues\u001b[0m\u001b[0;34m\u001b[0m\u001b[0;34m\u001b[0m\u001b[0m\n\u001b[1;32m      5\u001b[0m     \u001b[0mxcoord\u001b[0m\u001b[0;34m,\u001b[0m \u001b[0mycoord\u001b[0m \u001b[0;34m=\u001b[0m \u001b[0mspot_df\u001b[0m\u001b[0;34m[\u001b[0m\u001b[0;34m'pxl_row_in_fullres'\u001b[0m\u001b[0;34m]\u001b[0m\u001b[0;34m.\u001b[0m\u001b[0mvalues\u001b[0m\u001b[0;34m,\u001b[0m \u001b[0mspot_df\u001b[0m\u001b[0;34m[\u001b[0m\u001b[0;34m'pxl_col_in_fullres'\u001b[0m\u001b[0;34m]\u001b[0m\u001b[0;34m.\u001b[0m\u001b[0mvalues\u001b[0m\u001b[0;34m\u001b[0m\u001b[0;34m\u001b[0m\u001b[0m\n",
      "\u001b[0;31mNameError\u001b[0m: name 'sub_ID' is not defined"
     ]
    }
   ],
   "source": [
    "#visualise plaque + adjacent spots\n",
    "for y,name in enumerate(sub_ID):\n",
    "    spot_df, gene_df = run_('old', dist, ID[y], sub_ID[y])\n",
    "    clust_lab = spot_df['cluster'].values\n",
    "    xcoord, ycoord = spot_df['pxl_row_in_fullres'].values, spot_df['pxl_col_in_fullres'].values\n",
    "    plq_bool = spot_df['plaque'].values == 1\n",
    "    adj_bool = spot_df['adj_plq'].values == 1\n",
    "\n",
    "\n",
    "    fig,ax = plt.subplots(figsize=(10,10))\n",
    "    for x in range(len(sort_clust)): \n",
    "        plt.scatter(xcoord[np.where(clust_lab==sort_clust[x])[0]], ycoord[np.where(clust_lab==sort_clust[x])[0]], s=5, label = sort_clust[x], color = sort_col[x], alpha=1)\n",
    "    plt.scatter(xcoord[plq_bool], ycoord[plq_bool], s=15, c='k')\n",
    "    plt.scatter(xcoord[adj_bool], ycoord[adj_bool], s=7, c='r')\n",
    "\n",
    "    #plt.legend(loc='center left', bbox_to_anchor=(1, 0.5), fontsize=12, markerscale=2)\n",
    "\n",
    "    #remove all borders\n",
    "    plt.gca().spines['top'].set_visible(False)\n",
    "    plt.gca().spines['bottom'].set_visible(False)\n",
    "    plt.gca().spines['right'].set_visible(False)\n",
    "    plt.gca().spines['left'].set_visible(False)\n",
    "    ax.xaxis.set_tick_params(labelbottom=False)\n",
    "    ax.yaxis.set_tick_params(labelleft=False)\n",
    "    ax.axis('equal')\n",
    "    plt.tick_params(top=False, bottom=False, left=False, right=False, labelleft=False, labelbottom=False)\n",
    "    plt.title(sub_ID[y], fontsize=16)\n",
    "    plt.show()"
   ]
  },
  {
   "cell_type": "code",
   "execution_count": 49,
   "metadata": {},
   "outputs": [
    {
     "data": {
      "text/html": [
       "<div>\n",
       "<style scoped>\n",
       "    .dataframe tbody tr th:only-of-type {\n",
       "        vertical-align: middle;\n",
       "    }\n",
       "\n",
       "    .dataframe tbody tr th {\n",
       "        vertical-align: top;\n",
       "    }\n",
       "\n",
       "    .dataframe thead th {\n",
       "        text-align: right;\n",
       "    }\n",
       "</style>\n",
       "<table border=\"1\" class=\"dataframe\">\n",
       "  <thead>\n",
       "    <tr style=\"text-align: right;\">\n",
       "      <th></th>\n",
       "      <th>wellKey</th>\n",
       "      <th>dist_nearest_plaq</th>\n",
       "      <th>sample</th>\n",
       "    </tr>\n",
       "  </thead>\n",
       "  <tbody>\n",
       "    <tr>\n",
       "      <th>0</th>\n",
       "      <td>0</td>\n",
       "      <td>361.977789</td>\n",
       "      <td>030-C</td>\n",
       "    </tr>\n",
       "    <tr>\n",
       "      <th>1</th>\n",
       "      <td>1</td>\n",
       "      <td>697.281805</td>\n",
       "      <td>030-C</td>\n",
       "    </tr>\n",
       "    <tr>\n",
       "      <th>2</th>\n",
       "      <td>2</td>\n",
       "      <td>98.155009</td>\n",
       "      <td>030-C</td>\n",
       "    </tr>\n",
       "    <tr>\n",
       "      <th>3</th>\n",
       "      <td>3</td>\n",
       "      <td>1111.520238</td>\n",
       "      <td>030-C</td>\n",
       "    </tr>\n",
       "    <tr>\n",
       "      <th>4</th>\n",
       "      <td>4</td>\n",
       "      <td>970.737604</td>\n",
       "      <td>030-C</td>\n",
       "    </tr>\n",
       "    <tr>\n",
       "      <th>...</th>\n",
       "      <td>...</td>\n",
       "      <td>...</td>\n",
       "      <td>...</td>\n",
       "    </tr>\n",
       "    <tr>\n",
       "      <th>8312</th>\n",
       "      <td>8312</td>\n",
       "      <td>264.686204</td>\n",
       "      <td>040-D</td>\n",
       "    </tr>\n",
       "    <tr>\n",
       "      <th>8313</th>\n",
       "      <td>8313</td>\n",
       "      <td>298.551842</td>\n",
       "      <td>040-D</td>\n",
       "    </tr>\n",
       "    <tr>\n",
       "      <th>8314</th>\n",
       "      <td>8314</td>\n",
       "      <td>97.371988</td>\n",
       "      <td>040-D</td>\n",
       "    </tr>\n",
       "    <tr>\n",
       "      <th>8315</th>\n",
       "      <td>8315</td>\n",
       "      <td>268.252716</td>\n",
       "      <td>040-D</td>\n",
       "    </tr>\n",
       "    <tr>\n",
       "      <th>8316</th>\n",
       "      <td>8316</td>\n",
       "      <td>953.542679</td>\n",
       "      <td>040-D</td>\n",
       "    </tr>\n",
       "  </tbody>\n",
       "</table>\n",
       "<p>8317 rows × 3 columns</p>\n",
       "</div>"
      ],
      "text/plain": [
       "      wellKey  dist_nearest_plaq sample\n",
       "0           0         361.977789  030-C\n",
       "1           1         697.281805  030-C\n",
       "2           2          98.155009  030-C\n",
       "3           3        1111.520238  030-C\n",
       "4           4         970.737604  030-C\n",
       "...       ...                ...    ...\n",
       "8312     8312         264.686204  040-D\n",
       "8313     8313         298.551842  040-D\n",
       "8314     8314          97.371988  040-D\n",
       "8315     8315         268.252716  040-D\n",
       "8316     8316         953.542679  040-D\n",
       "\n",
       "[8317 rows x 3 columns]"
      ]
     },
     "execution_count": 49,
     "metadata": {},
     "output_type": "execute_result"
    }
   ],
   "source": [
    "lab_all"
   ]
  },
  {
   "cell_type": "code",
   "execution_count": 69,
   "metadata": {},
   "outputs": [
    {
     "name": "stderr",
     "output_type": "stream",
     "text": [
      "/home/dburrows/mambaforge/envs/base_conda/lib/python3.9/site-packages/anndata/_core/anndata.py:1832: UserWarning: Variable names are not unique. To make them unique, call `.var_names_make_unique`.\n",
      "  utils.warn_names_duplicates(\"var\")\n"
     ]
    },
    {
     "name": "stdout",
     "output_type": "stream",
     "text": [
      "Number of spots: 3397\n",
      "Number of genes: 32284\n"
     ]
    },
    {
     "name": "stderr",
     "output_type": "stream",
     "text": [
      "/home/dburrows/mambaforge/envs/base_conda/lib/python3.9/site-packages/anndata/_core/anndata.py:1832: UserWarning: Variable names are not unique. To make them unique, call `.var_names_make_unique`.\n",
      "  utils.warn_names_duplicates(\"var\")\n"
     ]
    },
    {
     "name": "stdout",
     "output_type": "stream",
     "text": [
      "Number of spots: 2835\n",
      "Number of genes: 32284\n"
     ]
    },
    {
     "name": "stderr",
     "output_type": "stream",
     "text": [
      "/home/dburrows/mambaforge/envs/base_conda/lib/python3.9/site-packages/anndata/_core/anndata.py:1832: UserWarning: Variable names are not unique. To make them unique, call `.var_names_make_unique`.\n",
      "  utils.warn_names_duplicates(\"var\")\n"
     ]
    },
    {
     "name": "stdout",
     "output_type": "stream",
     "text": [
      "Number of spots: 2959\n",
      "Number of genes: 32284\n"
     ]
    },
    {
     "name": "stderr",
     "output_type": "stream",
     "text": [
      "/home/dburrows/mambaforge/envs/base_conda/lib/python3.9/site-packages/anndata/_core/anndata.py:1832: UserWarning: Variable names are not unique. To make them unique, call `.var_names_make_unique`.\n",
      "  utils.warn_names_duplicates(\"var\")\n"
     ]
    },
    {
     "name": "stdout",
     "output_type": "stream",
     "text": [
      "Number of spots: 3204\n",
      "Number of genes: 32284\n"
     ]
    },
    {
     "name": "stderr",
     "output_type": "stream",
     "text": [
      "/home/dburrows/mambaforge/envs/base_conda/lib/python3.9/site-packages/anndata/_core/anndata.py:1832: UserWarning: Variable names are not unique. To make them unique, call `.var_names_make_unique`.\n",
      "  utils.warn_names_duplicates(\"var\")\n"
     ]
    },
    {
     "name": "stdout",
     "output_type": "stream",
     "text": [
      "Number of spots: 3406\n",
      "Number of genes: 32284\n"
     ]
    },
    {
     "name": "stderr",
     "output_type": "stream",
     "text": [
      "/home/dburrows/mambaforge/envs/base_conda/lib/python3.9/site-packages/anndata/_core/anndata.py:1832: UserWarning: Variable names are not unique. To make them unique, call `.var_names_make_unique`.\n",
      "  utils.warn_names_duplicates(\"var\")\n"
     ]
    },
    {
     "name": "stdout",
     "output_type": "stream",
     "text": [
      "Number of spots: 3002\n",
      "Number of genes: 32284\n"
     ]
    },
    {
     "name": "stderr",
     "output_type": "stream",
     "text": [
      "/home/dburrows/mambaforge/envs/base_conda/lib/python3.9/site-packages/anndata/_core/anndata.py:1832: UserWarning: Variable names are not unique. To make them unique, call `.var_names_make_unique`.\n",
      "  utils.warn_names_duplicates(\"var\")\n",
      "/home/dburrows/mambaforge/envs/base_conda/lib/python3.9/site-packages/scanpy/preprocessing/_normalization.py:197: UserWarning: Some cells have zero counts\n",
      "  warn(UserWarning('Some cells have zero counts'))\n"
     ]
    },
    {
     "name": "stdout",
     "output_type": "stream",
     "text": [
      "Number of spots: 2998\n",
      "Number of genes: 32284\n"
     ]
    },
    {
     "name": "stderr",
     "output_type": "stream",
     "text": [
      "/home/dburrows/mambaforge/envs/base_conda/lib/python3.9/site-packages/anndata/_core/anndata.py:1832: UserWarning: Variable names are not unique. To make them unique, call `.var_names_make_unique`.\n",
      "  utils.warn_names_duplicates(\"var\")\n"
     ]
    },
    {
     "name": "stdout",
     "output_type": "stream",
     "text": [
      "Number of spots: 3343\n",
      "Number of genes: 32284\n"
     ]
    },
    {
     "name": "stderr",
     "output_type": "stream",
     "text": [
      "/home/dburrows/mambaforge/envs/base_conda/lib/python3.9/site-packages/anndata/_core/anndata.py:1832: UserWarning: Variable names are not unique. To make them unique, call `.var_names_make_unique`.\n",
      "  utils.warn_names_duplicates(\"var\")\n"
     ]
    },
    {
     "name": "stdout",
     "output_type": "stream",
     "text": [
      "Number of spots: 3285\n",
      "Number of genes: 32284\n"
     ]
    }
   ],
   "source": [
    "#stack spot data together for learning, and MAST DE\n",
    "# Plaque vs no plaque\n",
    "meta = pd.read_csv('/cndd2/agelber/hal/metadata.csv')\n",
    "name_l = ID\n",
    "age='old'\n",
    "dist=150\n",
    "drop = [] #genes with < 10 counts in a single sample to drop\n",
    "\n",
    "#Pull out sex and time for each sample\n",
    "sex_l = [meta['sex'][meta['sample_name'] == i].values[0] for i in sub_ID]\n",
    "\n",
    "for x,name in enumerate(name_l):\n",
    "    name = name_l[x]\n",
    "    spot_df, gene_df = run_(age, dist, ID[x], sub_ID[x])\n",
    "    sample = np.full(len(spot_df), sub_ID[x])\n",
    "    sex = np.full(len(spot_df), sex_l[x])\n",
    "    spot_df['sample'] = sample\n",
    "    spot_df['sex'] = sex\n",
    "\n",
    "    new_df = spot_df[['barcode', 'adj_plq','sample', 'cluster']]\n",
    "    gene_df.index = gene_df.index.astype(str)+'_'+new_df['sample'].astype(str)\n",
    "    drop = np.append(drop, gene_df.T[np.sum(gene_df, axis=0) < 10].index.values)\n",
    "    ind = [i for i in range(len(new_df)) if 'Cortex L' in new_df['cluster'].iloc[i]]\n",
    "    new_df = new_df.iloc[ind]\n",
    "    new_df.drop(['cluster'], axis=1, inplace=True)\n",
    "    gene_df  = gene_df.iloc[ind]\n",
    "\n",
    "    if name == name_l[0]: \n",
    "        gene_all = gene_df\n",
    "        lab = new_df\n",
    "    else: \n",
    "        gene_all = pd.concat([gene_all, gene_df], axis=0)\n",
    "        lab = pd.concat([lab, new_df], axis=0)\n",
    "\n",
    "gene_all = gene_all.T #genes x rows needed for DESEQ\n",
    "gene_all.drop(np.unique(drop), axis=0, inplace=True)\n",
    "lab = lab.set_index('barcode')\n",
    "dm = lab\n",
    "\n",
    "# make design matrix \n",
    "dm.to_csv('/cndd3/dburrows/DATA/spatial_transcriptomics/plaques/prediction/meta.csv')\n",
    "gene_all.to_csv('/cndd3/dburrows/DATA/spatial_transcriptomics/plaques/prediction/combined_genemat_CPM.csv')\n",
    "\n",
    "#Log transform CPMs and plus 1 for MAST\n",
    "gene_mast = np.log2(gene_all+1)\n",
    "#remove header and index from gene_all\n",
    "gene_mast.to_csv('/cndd3/dburrows/DATA/spatial_transcriptomics/plaques/prediction/combined_genemat_log2p1CPM.csv')\n",
    "\n",
    "# Create csv design matrix for MAST -> distance from plaque, donor ID\n",
    "lab['wellKey'] = lab.index\n",
    "curr_lab = lab[['wellKey', 'adj_plq', 'sample']]\n",
    "#drop index from lab_all\n",
    "curr_lab.to_csv('/cndd3/dburrows/DATA/spatial_transcriptomics/plaques/prediction/design.csv', index=False, header=True)\n",
    "\n",
    "# Create csv of gene names for MAST\n",
    "fdata_mast = gene_mast.index.values\n",
    "#save both as csv\n",
    "np.savetxt('/cndd3/dburrows/DATA/spatial_transcriptomics/plaques/prediction/fdata.csv', fdata_mast, delimiter=',', fmt='%s')\n"
   ]
  },
  {
   "cell_type": "code",
   "execution_count": 22,
   "metadata": {},
   "outputs": [
    {
     "data": {
      "text/plain": [
       "{'C':             primerid component contrast  Pr(>Chisq)     ci.hi     ci.lo  \\\n",
       " 1      0610009B22Rik         C  adj_plq    0.280691  0.093800 -0.027195   \n",
       " 9      0610009L18Rik         C  adj_plq    0.404693  0.116336 -0.046917   \n",
       " 17     0610010F05Rik         C  adj_plq    0.138595  0.108386 -0.015073   \n",
       " 25     0610010K14Rik         C  adj_plq    0.930505  0.055678 -0.060864   \n",
       " 33     0610012G03Rik         C  adj_plq    0.654075  0.040847 -0.065064   \n",
       " ...              ...       ...      ...         ...       ...       ...   \n",
       " 83481         mt-Nd3         C  adj_plq    0.000588  0.089147  0.024411   \n",
       " 83489         mt-Nd4         C  adj_plq    1.000000  0.038064 -0.014712   \n",
       " 83497        mt-Nd4l         C  adj_plq    0.759850  0.043638 -0.059769   \n",
       " 83505         mt-Nd5         C  adj_plq    0.421178  0.022072 -0.052803   \n",
       " 83513         mt-Nd6         C  adj_plq    0.243664  0.027070 -0.106587   \n",
       " \n",
       "            coef         z     p_val  \n",
       " 1      0.033302  1.078909  0.280691  \n",
       " 9      0.034710  0.833425  0.404693  \n",
       " 17     0.046657  1.481395  0.138595  \n",
       " 25    -0.002593 -0.087214  0.930505  \n",
       " 33    -0.012108 -0.448146  0.654075  \n",
       " ...         ...       ...       ...  \n",
       " 83481  0.056779  3.438103  0.000588  \n",
       " 83489  0.011676  0.867230  1.000000  \n",
       " 83497 -0.008065 -0.305737  0.759850  \n",
       " 83505 -0.015366 -0.804436  0.421178  \n",
       " 83513 -0.039758 -1.166053  0.243664  \n",
       " \n",
       " [10440 rows x 9 columns],\n",
       " 'D':             primerid component contrast  Pr(>Chisq)         ci.hi  \\\n",
       " 3      0610009B22Rik         D  adj_plq    0.425313      0.180370   \n",
       " 11     0610009L18Rik         D  adj_plq    0.694712      0.190166   \n",
       " 19     0610010F05Rik         D  adj_plq    0.459307      0.081748   \n",
       " 27     0610010K14Rik         D  adj_plq    0.395097      0.074432   \n",
       " 35     0610012G03Rik         D  adj_plq    0.470731      0.125746   \n",
       " ...              ...       ...      ...         ...           ...   \n",
       " 83483         mt-Nd3         D  adj_plq    0.536597  11518.858676   \n",
       " 83491         mt-Nd4         D  adj_plq    1.000000           NaN   \n",
       " 83499        mt-Nd4l         D  adj_plq    0.711861      0.288832   \n",
       " 83507         mt-Nd5         D  adj_plq    0.230873   4263.676744   \n",
       " 83515         mt-Nd6         D  adj_plq    0.584714      0.098259   \n",
       " \n",
       "               ci.lo       coef         z     p_val  \n",
       " 3         -0.076087   0.052141  0.796977  0.425313  \n",
       " 11        -0.126656   0.031755  0.392898  0.694712  \n",
       " 19        -0.180808  -0.049530 -0.739478  0.459307  \n",
       " 27        -0.188583  -0.057076 -0.850647  0.395097  \n",
       " 35        -0.273211  -0.073733 -0.724456  0.470731  \n",
       " ...             ...        ...       ...       ...  \n",
       " 83483 -11485.521571  16.668552  0.002840  0.536597  \n",
       " 83491           NaN        NaN       NaN  1.000000  \n",
       " 83499     -0.423793  -0.067480 -0.371187  0.711861  \n",
       " 83507  -4231.504675  16.086034  0.007423  0.230873  \n",
       " 83515     -0.174211  -0.037976 -0.546342  0.584714  \n",
       " \n",
       " [10440 rows x 9 columns]}"
      ]
     },
     "execution_count": 22,
     "metadata": {},
     "output_type": "execute_result"
    }
   ],
   "source": [
    "de_dict = {'C': pf.extract_p(de_genes, 'C'), 'D': pf.extract_p(de_genes,'D')}\n",
    "de_dict"
   ]
  },
  {
   "cell_type": "code",
   "execution_count": 23,
   "metadata": {},
   "outputs": [
    {
     "data": {
      "text/html": [
       "<div>\n",
       "<style scoped>\n",
       "    .dataframe tbody tr th:only-of-type {\n",
       "        vertical-align: middle;\n",
       "    }\n",
       "\n",
       "    .dataframe tbody tr th {\n",
       "        vertical-align: top;\n",
       "    }\n",
       "\n",
       "    .dataframe thead th {\n",
       "        text-align: right;\n",
       "    }\n",
       "</style>\n",
       "<table border=\"1\" class=\"dataframe\">\n",
       "  <thead>\n",
       "    <tr style=\"text-align: right;\">\n",
       "      <th></th>\n",
       "      <th>primerid</th>\n",
       "      <th>component</th>\n",
       "      <th>contrast</th>\n",
       "      <th>Pr(&gt;Chisq)</th>\n",
       "      <th>ci.hi</th>\n",
       "      <th>ci.lo</th>\n",
       "      <th>coef</th>\n",
       "      <th>z</th>\n",
       "      <th>p_val</th>\n",
       "    </tr>\n",
       "  </thead>\n",
       "  <tbody>\n",
       "    <tr>\n",
       "      <th>27249</th>\n",
       "      <td>Gfap</td>\n",
       "      <td>C</td>\n",
       "      <td>adj_plq</td>\n",
       "      <td>5.804494e-25</td>\n",
       "      <td>0.541111</td>\n",
       "      <td>0.369364</td>\n",
       "      <td>0.455237</td>\n",
       "      <td>10.390232</td>\n",
       "      <td>5.804494e-25</td>\n",
       "    </tr>\n",
       "    <tr>\n",
       "      <th>49457</th>\n",
       "      <td>Pcp4</td>\n",
       "      <td>C</td>\n",
       "      <td>adj_plq</td>\n",
       "      <td>3.896713e-22</td>\n",
       "      <td>0.531256</td>\n",
       "      <td>0.352873</td>\n",
       "      <td>0.442064</td>\n",
       "      <td>9.714233</td>\n",
       "      <td>3.896713e-22</td>\n",
       "    </tr>\n",
       "    <tr>\n",
       "      <th>7713</th>\n",
       "      <td>B2m</td>\n",
       "      <td>C</td>\n",
       "      <td>adj_plq</td>\n",
       "      <td>8.242087e-20</td>\n",
       "      <td>0.321779</td>\n",
       "      <td>0.208126</td>\n",
       "      <td>0.264952</td>\n",
       "      <td>9.138299</td>\n",
       "      <td>8.242087e-20</td>\n",
       "    </tr>\n",
       "    <tr>\n",
       "      <th>16753</th>\n",
       "      <td>Ctsd</td>\n",
       "      <td>C</td>\n",
       "      <td>adj_plq</td>\n",
       "      <td>1.338832e-18</td>\n",
       "      <td>0.306774</td>\n",
       "      <td>0.195303</td>\n",
       "      <td>0.251038</td>\n",
       "      <td>8.827895</td>\n",
       "      <td>1.338832e-18</td>\n",
       "    </tr>\n",
       "    <tr>\n",
       "      <th>34673</th>\n",
       "      <td>Junb</td>\n",
       "      <td>C</td>\n",
       "      <td>adj_plq</td>\n",
       "      <td>4.497052e-18</td>\n",
       "      <td>-0.270682</td>\n",
       "      <td>-0.427950</td>\n",
       "      <td>-0.349316</td>\n",
       "      <td>-8.706765</td>\n",
       "      <td>4.497052e-18</td>\n",
       "    </tr>\n",
       "    <tr>\n",
       "      <th>24641</th>\n",
       "      <td>Fbxl16</td>\n",
       "      <td>C</td>\n",
       "      <td>adj_plq</td>\n",
       "      <td>6.312510e-17</td>\n",
       "      <td>-0.135126</td>\n",
       "      <td>-0.217621</td>\n",
       "      <td>-0.176373</td>\n",
       "      <td>-8.380859</td>\n",
       "      <td>6.312510e-17</td>\n",
       "    </tr>\n",
       "    <tr>\n",
       "      <th>57241</th>\n",
       "      <td>Rasgrf2</td>\n",
       "      <td>C</td>\n",
       "      <td>adj_plq</td>\n",
       "      <td>1.579569e-16</td>\n",
       "      <td>-0.250036</td>\n",
       "      <td>-0.405162</td>\n",
       "      <td>-0.327599</td>\n",
       "      <td>-8.278212</td>\n",
       "      <td>1.579569e-16</td>\n",
       "    </tr>\n",
       "    <tr>\n",
       "      <th>15697</th>\n",
       "      <td>Cplx1</td>\n",
       "      <td>C</td>\n",
       "      <td>adj_plq</td>\n",
       "      <td>7.477600e-16</td>\n",
       "      <td>0.270681</td>\n",
       "      <td>0.165002</td>\n",
       "      <td>0.217842</td>\n",
       "      <td>8.080379</td>\n",
       "      <td>7.477600e-16</td>\n",
       "    </tr>\n",
       "    <tr>\n",
       "      <th>10345</th>\n",
       "      <td>Camk2n2</td>\n",
       "      <td>C</td>\n",
       "      <td>adj_plq</td>\n",
       "      <td>2.993473e-12</td>\n",
       "      <td>-0.152320</td>\n",
       "      <td>-0.270954</td>\n",
       "      <td>-0.211637</td>\n",
       "      <td>-6.992913</td>\n",
       "      <td>2.993473e-12</td>\n",
       "    </tr>\n",
       "    <tr>\n",
       "      <th>9697</th>\n",
       "      <td>C1qb</td>\n",
       "      <td>C</td>\n",
       "      <td>adj_plq</td>\n",
       "      <td>3.030453e-12</td>\n",
       "      <td>0.337061</td>\n",
       "      <td>0.189477</td>\n",
       "      <td>0.263269</td>\n",
       "      <td>6.992580</td>\n",
       "      <td>3.030453e-12</td>\n",
       "    </tr>\n",
       "    <tr>\n",
       "      <th>47881</th>\n",
       "      <td>Olfm1</td>\n",
       "      <td>C</td>\n",
       "      <td>adj_plq</td>\n",
       "      <td>3.364859e-12</td>\n",
       "      <td>-0.104653</td>\n",
       "      <td>-0.186507</td>\n",
       "      <td>-0.145580</td>\n",
       "      <td>-6.971760</td>\n",
       "      <td>3.364859e-12</td>\n",
       "    </tr>\n",
       "    <tr>\n",
       "      <th>17937</th>\n",
       "      <td>Dclk1</td>\n",
       "      <td>C</td>\n",
       "      <td>adj_plq</td>\n",
       "      <td>1.706523e-11</td>\n",
       "      <td>0.204660</td>\n",
       "      <td>0.112442</td>\n",
       "      <td>0.158551</td>\n",
       "      <td>6.739622</td>\n",
       "      <td>1.706523e-11</td>\n",
       "    </tr>\n",
       "    <tr>\n",
       "      <th>9817</th>\n",
       "      <td>C4b</td>\n",
       "      <td>C</td>\n",
       "      <td>adj_plq</td>\n",
       "      <td>2.128407e-11</td>\n",
       "      <td>0.397114</td>\n",
       "      <td>0.218078</td>\n",
       "      <td>0.307596</td>\n",
       "      <td>6.734687</td>\n",
       "      <td>2.128407e-11</td>\n",
       "    </tr>\n",
       "    <tr>\n",
       "      <th>63041</th>\n",
       "      <td>Serpina3n</td>\n",
       "      <td>C</td>\n",
       "      <td>adj_plq</td>\n",
       "      <td>2.926504e-11</td>\n",
       "      <td>0.404373</td>\n",
       "      <td>0.221062</td>\n",
       "      <td>0.312717</td>\n",
       "      <td>6.687180</td>\n",
       "      <td>2.926504e-11</td>\n",
       "    </tr>\n",
       "    <tr>\n",
       "      <th>71641</th>\n",
       "      <td>Thra</td>\n",
       "      <td>C</td>\n",
       "      <td>adj_plq</td>\n",
       "      <td>4.590167e-11</td>\n",
       "      <td>-0.108664</td>\n",
       "      <td>-0.200309</td>\n",
       "      <td>-0.154486</td>\n",
       "      <td>-6.607828</td>\n",
       "      <td>4.590167e-11</td>\n",
       "    </tr>\n",
       "    <tr>\n",
       "      <th>76417</th>\n",
       "      <td>Tyrobp</td>\n",
       "      <td>C</td>\n",
       "      <td>adj_plq</td>\n",
       "      <td>4.642310e-11</td>\n",
       "      <td>0.328002</td>\n",
       "      <td>0.177730</td>\n",
       "      <td>0.252866</td>\n",
       "      <td>6.596142</td>\n",
       "      <td>4.642310e-11</td>\n",
       "    </tr>\n",
       "    <tr>\n",
       "      <th>30513</th>\n",
       "      <td>H2-D1</td>\n",
       "      <td>C</td>\n",
       "      <td>adj_plq</td>\n",
       "      <td>5.444137e-11</td>\n",
       "      <td>0.290320</td>\n",
       "      <td>0.156958</td>\n",
       "      <td>0.223639</td>\n",
       "      <td>6.573463</td>\n",
       "      <td>5.444137e-11</td>\n",
       "    </tr>\n",
       "    <tr>\n",
       "      <th>7049</th>\n",
       "      <td>Atp2b4</td>\n",
       "      <td>C</td>\n",
       "      <td>adj_plq</td>\n",
       "      <td>5.487159e-11</td>\n",
       "      <td>-0.171988</td>\n",
       "      <td>-0.318144</td>\n",
       "      <td>-0.245066</td>\n",
       "      <td>-6.572727</td>\n",
       "      <td>5.487159e-11</td>\n",
       "    </tr>\n",
       "    <tr>\n",
       "      <th>38489</th>\n",
       "      <td>Ly6h</td>\n",
       "      <td>C</td>\n",
       "      <td>adj_plq</td>\n",
       "      <td>5.639129e-11</td>\n",
       "      <td>-0.125850</td>\n",
       "      <td>-0.233033</td>\n",
       "      <td>-0.179441</td>\n",
       "      <td>-6.562607</td>\n",
       "      <td>5.639129e-11</td>\n",
       "    </tr>\n",
       "    <tr>\n",
       "      <th>74697</th>\n",
       "      <td>Trf</td>\n",
       "      <td>C</td>\n",
       "      <td>adj_plq</td>\n",
       "      <td>8.662439e-11</td>\n",
       "      <td>0.315039</td>\n",
       "      <td>0.169052</td>\n",
       "      <td>0.242046</td>\n",
       "      <td>6.499238</td>\n",
       "      <td>8.662439e-11</td>\n",
       "    </tr>\n",
       "    <tr>\n",
       "      <th>9713</th>\n",
       "      <td>C1qc</td>\n",
       "      <td>C</td>\n",
       "      <td>adj_plq</td>\n",
       "      <td>1.016265e-10</td>\n",
       "      <td>0.323193</td>\n",
       "      <td>0.173070</td>\n",
       "      <td>0.248132</td>\n",
       "      <td>6.479094</td>\n",
       "      <td>1.016265e-10</td>\n",
       "    </tr>\n",
       "    <tr>\n",
       "      <th>49481</th>\n",
       "      <td>Pcsk1n</td>\n",
       "      <td>C</td>\n",
       "      <td>adj_plq</td>\n",
       "      <td>1.139532e-10</td>\n",
       "      <td>-0.072423</td>\n",
       "      <td>-0.135571</td>\n",
       "      <td>-0.103997</td>\n",
       "      <td>-6.455718</td>\n",
       "      <td>1.139532e-10</td>\n",
       "    </tr>\n",
       "    <tr>\n",
       "      <th>31705</th>\n",
       "      <td>Hmgcs1</td>\n",
       "      <td>C</td>\n",
       "      <td>adj_plq</td>\n",
       "      <td>2.306342e-10</td>\n",
       "      <td>0.211115</td>\n",
       "      <td>0.111507</td>\n",
       "      <td>0.161311</td>\n",
       "      <td>6.348178</td>\n",
       "      <td>2.306342e-10</td>\n",
       "    </tr>\n",
       "    <tr>\n",
       "      <th>1361</th>\n",
       "      <td>AC149090.1</td>\n",
       "      <td>C</td>\n",
       "      <td>adj_plq</td>\n",
       "      <td>2.549942e-10</td>\n",
       "      <td>-0.114682</td>\n",
       "      <td>-0.217485</td>\n",
       "      <td>-0.166084</td>\n",
       "      <td>-6.332867</td>\n",
       "      <td>2.549942e-10</td>\n",
       "    </tr>\n",
       "    <tr>\n",
       "      <th>66361</th>\n",
       "      <td>Snap25</td>\n",
       "      <td>C</td>\n",
       "      <td>adj_plq</td>\n",
       "      <td>3.128181e-10</td>\n",
       "      <td>0.116803</td>\n",
       "      <td>0.061372</td>\n",
       "      <td>0.089088</td>\n",
       "      <td>6.300025</td>\n",
       "      <td>3.128181e-10</td>\n",
       "    </tr>\n",
       "    <tr>\n",
       "      <th>49697</th>\n",
       "      <td>Pde2a</td>\n",
       "      <td>C</td>\n",
       "      <td>adj_plq</td>\n",
       "      <td>4.196993e-10</td>\n",
       "      <td>-0.114998</td>\n",
       "      <td>-0.219937</td>\n",
       "      <td>-0.167467</td>\n",
       "      <td>-6.255588</td>\n",
       "      <td>4.196993e-10</td>\n",
       "    </tr>\n",
       "    <tr>\n",
       "      <th>69361</th>\n",
       "      <td>Sulf2</td>\n",
       "      <td>C</td>\n",
       "      <td>adj_plq</td>\n",
       "      <td>4.530070e-10</td>\n",
       "      <td>0.281133</td>\n",
       "      <td>0.146896</td>\n",
       "      <td>0.214015</td>\n",
       "      <td>6.249582</td>\n",
       "      <td>4.530070e-10</td>\n",
       "    </tr>\n",
       "    <tr>\n",
       "      <th>16793</th>\n",
       "      <td>Ctss</td>\n",
       "      <td>C</td>\n",
       "      <td>adj_plq</td>\n",
       "      <td>5.467435e-10</td>\n",
       "      <td>0.313997</td>\n",
       "      <td>0.163465</td>\n",
       "      <td>0.238731</td>\n",
       "      <td>6.216642</td>\n",
       "      <td>5.467435e-10</td>\n",
       "    </tr>\n",
       "    <tr>\n",
       "      <th>76049</th>\n",
       "      <td>Tubb4a</td>\n",
       "      <td>C</td>\n",
       "      <td>adj_plq</td>\n",
       "      <td>5.731244e-10</td>\n",
       "      <td>0.190330</td>\n",
       "      <td>0.098964</td>\n",
       "      <td>0.144647</td>\n",
       "      <td>6.205896</td>\n",
       "      <td>5.731244e-10</td>\n",
       "    </tr>\n",
       "    <tr>\n",
       "      <th>16745</th>\n",
       "      <td>Ctsb</td>\n",
       "      <td>C</td>\n",
       "      <td>adj_plq</td>\n",
       "      <td>1.084472e-09</td>\n",
       "      <td>0.165171</td>\n",
       "      <td>0.084901</td>\n",
       "      <td>0.125036</td>\n",
       "      <td>6.106000</td>\n",
       "      <td>1.084472e-09</td>\n",
       "    </tr>\n",
       "  </tbody>\n",
       "</table>\n",
       "</div>"
      ],
      "text/plain": [
       "         primerid component contrast    Pr(>Chisq)     ci.hi     ci.lo  \\\n",
       "27249        Gfap         C  adj_plq  5.804494e-25  0.541111  0.369364   \n",
       "49457        Pcp4         C  adj_plq  3.896713e-22  0.531256  0.352873   \n",
       "7713          B2m         C  adj_plq  8.242087e-20  0.321779  0.208126   \n",
       "16753        Ctsd         C  adj_plq  1.338832e-18  0.306774  0.195303   \n",
       "34673        Junb         C  adj_plq  4.497052e-18 -0.270682 -0.427950   \n",
       "24641      Fbxl16         C  adj_plq  6.312510e-17 -0.135126 -0.217621   \n",
       "57241     Rasgrf2         C  adj_plq  1.579569e-16 -0.250036 -0.405162   \n",
       "15697       Cplx1         C  adj_plq  7.477600e-16  0.270681  0.165002   \n",
       "10345     Camk2n2         C  adj_plq  2.993473e-12 -0.152320 -0.270954   \n",
       "9697         C1qb         C  adj_plq  3.030453e-12  0.337061  0.189477   \n",
       "47881       Olfm1         C  adj_plq  3.364859e-12 -0.104653 -0.186507   \n",
       "17937       Dclk1         C  adj_plq  1.706523e-11  0.204660  0.112442   \n",
       "9817          C4b         C  adj_plq  2.128407e-11  0.397114  0.218078   \n",
       "63041   Serpina3n         C  adj_plq  2.926504e-11  0.404373  0.221062   \n",
       "71641        Thra         C  adj_plq  4.590167e-11 -0.108664 -0.200309   \n",
       "76417      Tyrobp         C  adj_plq  4.642310e-11  0.328002  0.177730   \n",
       "30513       H2-D1         C  adj_plq  5.444137e-11  0.290320  0.156958   \n",
       "7049       Atp2b4         C  adj_plq  5.487159e-11 -0.171988 -0.318144   \n",
       "38489        Ly6h         C  adj_plq  5.639129e-11 -0.125850 -0.233033   \n",
       "74697         Trf         C  adj_plq  8.662439e-11  0.315039  0.169052   \n",
       "9713         C1qc         C  adj_plq  1.016265e-10  0.323193  0.173070   \n",
       "49481      Pcsk1n         C  adj_plq  1.139532e-10 -0.072423 -0.135571   \n",
       "31705      Hmgcs1         C  adj_plq  2.306342e-10  0.211115  0.111507   \n",
       "1361   AC149090.1         C  adj_plq  2.549942e-10 -0.114682 -0.217485   \n",
       "66361      Snap25         C  adj_plq  3.128181e-10  0.116803  0.061372   \n",
       "49697       Pde2a         C  adj_plq  4.196993e-10 -0.114998 -0.219937   \n",
       "69361       Sulf2         C  adj_plq  4.530070e-10  0.281133  0.146896   \n",
       "16793        Ctss         C  adj_plq  5.467435e-10  0.313997  0.163465   \n",
       "76049      Tubb4a         C  adj_plq  5.731244e-10  0.190330  0.098964   \n",
       "16745        Ctsb         C  adj_plq  1.084472e-09  0.165171  0.084901   \n",
       "\n",
       "           coef          z         p_val  \n",
       "27249  0.455237  10.390232  5.804494e-25  \n",
       "49457  0.442064   9.714233  3.896713e-22  \n",
       "7713   0.264952   9.138299  8.242087e-20  \n",
       "16753  0.251038   8.827895  1.338832e-18  \n",
       "34673 -0.349316  -8.706765  4.497052e-18  \n",
       "24641 -0.176373  -8.380859  6.312510e-17  \n",
       "57241 -0.327599  -8.278212  1.579569e-16  \n",
       "15697  0.217842   8.080379  7.477600e-16  \n",
       "10345 -0.211637  -6.992913  2.993473e-12  \n",
       "9697   0.263269   6.992580  3.030453e-12  \n",
       "47881 -0.145580  -6.971760  3.364859e-12  \n",
       "17937  0.158551   6.739622  1.706523e-11  \n",
       "9817   0.307596   6.734687  2.128407e-11  \n",
       "63041  0.312717   6.687180  2.926504e-11  \n",
       "71641 -0.154486  -6.607828  4.590167e-11  \n",
       "76417  0.252866   6.596142  4.642310e-11  \n",
       "30513  0.223639   6.573463  5.444137e-11  \n",
       "7049  -0.245066  -6.572727  5.487159e-11  \n",
       "38489 -0.179441  -6.562607  5.639129e-11  \n",
       "74697  0.242046   6.499238  8.662439e-11  \n",
       "9713   0.248132   6.479094  1.016265e-10  \n",
       "49481 -0.103997  -6.455718  1.139532e-10  \n",
       "31705  0.161311   6.348178  2.306342e-10  \n",
       "1361  -0.166084  -6.332867  2.549942e-10  \n",
       "66361  0.089088   6.300025  3.128181e-10  \n",
       "49697 -0.167467  -6.255588  4.196993e-10  \n",
       "69361  0.214015   6.249582  4.530070e-10  \n",
       "16793  0.238731   6.216642  5.467435e-10  \n",
       "76049  0.144647   6.205896  5.731244e-10  \n",
       "16745  0.125036   6.106000  1.084472e-09  "
      ]
     },
     "execution_count": 23,
     "metadata": {},
     "output_type": "execute_result"
    }
   ],
   "source": [
    "de_dict['C'].sort_values(by='p_val', ascending=True).head(30)"
   ]
  },
  {
   "cell_type": "code",
   "execution_count": 126,
   "metadata": {},
   "outputs": [
    {
     "data": {
      "text/html": [
       "<div>\n",
       "<style scoped>\n",
       "    .dataframe tbody tr th:only-of-type {\n",
       "        vertical-align: middle;\n",
       "    }\n",
       "\n",
       "    .dataframe tbody tr th {\n",
       "        vertical-align: top;\n",
       "    }\n",
       "\n",
       "    .dataframe thead th {\n",
       "        text-align: right;\n",
       "    }\n",
       "</style>\n",
       "<table border=\"1\" class=\"dataframe\">\n",
       "  <thead>\n",
       "    <tr style=\"text-align: right;\">\n",
       "      <th></th>\n",
       "      <th>primerid</th>\n",
       "      <th>component</th>\n",
       "      <th>contrast</th>\n",
       "      <th>Pr(&gt;Chisq)</th>\n",
       "      <th>ci.hi</th>\n",
       "      <th>ci.lo</th>\n",
       "      <th>coef</th>\n",
       "      <th>z</th>\n",
       "      <th>p_val</th>\n",
       "    </tr>\n",
       "  </thead>\n",
       "  <tbody>\n",
       "    <tr>\n",
       "      <th>9819</th>\n",
       "      <td>C4b</td>\n",
       "      <td>D</td>\n",
       "      <td>adj_plq</td>\n",
       "      <td>1.810956e-21</td>\n",
       "      <td>0.849653</td>\n",
       "      <td>0.561353</td>\n",
       "      <td>0.705503</td>\n",
       "      <td>9.592508</td>\n",
       "      <td>1.810956e-21</td>\n",
       "    </tr>\n",
       "    <tr>\n",
       "      <th>16499</th>\n",
       "      <td>Cst7</td>\n",
       "      <td>D</td>\n",
       "      <td>adj_plq</td>\n",
       "      <td>4.971456e-18</td>\n",
       "      <td>0.926235</td>\n",
       "      <td>0.588285</td>\n",
       "      <td>0.757260</td>\n",
       "      <td>8.783557</td>\n",
       "      <td>4.971456e-18</td>\n",
       "    </tr>\n",
       "    <tr>\n",
       "      <th>27251</th>\n",
       "      <td>Gfap</td>\n",
       "      <td>D</td>\n",
       "      <td>adj_plq</td>\n",
       "      <td>5.656316e-18</td>\n",
       "      <td>0.816660</td>\n",
       "      <td>0.511012</td>\n",
       "      <td>0.663836</td>\n",
       "      <td>8.513697</td>\n",
       "      <td>5.656316e-18</td>\n",
       "    </tr>\n",
       "    <tr>\n",
       "      <th>33091</th>\n",
       "      <td>Igfn1</td>\n",
       "      <td>D</td>\n",
       "      <td>adj_plq</td>\n",
       "      <td>1.709340e-17</td>\n",
       "      <td>-0.625911</td>\n",
       "      <td>-1.035312</td>\n",
       "      <td>-0.830612</td>\n",
       "      <td>-7.952933</td>\n",
       "      <td>1.709340e-17</td>\n",
       "    </tr>\n",
       "    <tr>\n",
       "      <th>47115</th>\n",
       "      <td>Ntn5</td>\n",
       "      <td>D</td>\n",
       "      <td>adj_plq</td>\n",
       "      <td>3.485436e-17</td>\n",
       "      <td>-0.510802</td>\n",
       "      <td>-0.838718</td>\n",
       "      <td>-0.674760</td>\n",
       "      <td>-8.066124</td>\n",
       "      <td>3.485436e-17</td>\n",
       "    </tr>\n",
       "    <tr>\n",
       "      <th>37035</th>\n",
       "      <td>Lgals3bp</td>\n",
       "      <td>D</td>\n",
       "      <td>adj_plq</td>\n",
       "      <td>1.994183e-16</td>\n",
       "      <td>0.711182</td>\n",
       "      <td>0.438064</td>\n",
       "      <td>0.574623</td>\n",
       "      <td>8.247277</td>\n",
       "      <td>1.994183e-16</td>\n",
       "    </tr>\n",
       "    <tr>\n",
       "      <th>63043</th>\n",
       "      <td>Serpina3n</td>\n",
       "      <td>D</td>\n",
       "      <td>adj_plq</td>\n",
       "      <td>2.456443e-15</td>\n",
       "      <td>0.698914</td>\n",
       "      <td>0.423281</td>\n",
       "      <td>0.561097</td>\n",
       "      <td>7.979672</td>\n",
       "      <td>2.456443e-15</td>\n",
       "    </tr>\n",
       "    <tr>\n",
       "      <th>32123</th>\n",
       "      <td>Hs3st2</td>\n",
       "      <td>D</td>\n",
       "      <td>adj_plq</td>\n",
       "      <td>1.445283e-14</td>\n",
       "      <td>0.689269</td>\n",
       "      <td>0.405652</td>\n",
       "      <td>0.547461</td>\n",
       "      <td>7.566551</td>\n",
       "      <td>1.445283e-14</td>\n",
       "    </tr>\n",
       "    <tr>\n",
       "      <th>28403</th>\n",
       "      <td>Gm765</td>\n",
       "      <td>D</td>\n",
       "      <td>adj_plq</td>\n",
       "      <td>7.016579e-13</td>\n",
       "      <td>-0.559871</td>\n",
       "      <td>-1.026105</td>\n",
       "      <td>-0.792988</td>\n",
       "      <td>-6.667158</td>\n",
       "      <td>7.016579e-13</td>\n",
       "    </tr>\n",
       "    <tr>\n",
       "      <th>32803</th>\n",
       "      <td>Ifi27l2a</td>\n",
       "      <td>D</td>\n",
       "      <td>adj_plq</td>\n",
       "      <td>5.182839e-12</td>\n",
       "      <td>0.676374</td>\n",
       "      <td>0.380926</td>\n",
       "      <td>0.528650</td>\n",
       "      <td>7.013975</td>\n",
       "      <td>5.182839e-12</td>\n",
       "    </tr>\n",
       "    <tr>\n",
       "      <th>7051</th>\n",
       "      <td>Atp2b4</td>\n",
       "      <td>D</td>\n",
       "      <td>adj_plq</td>\n",
       "      <td>7.201926e-11</td>\n",
       "      <td>-0.325304</td>\n",
       "      <td>-0.603920</td>\n",
       "      <td>-0.464612</td>\n",
       "      <td>-6.536766</td>\n",
       "      <td>7.201926e-11</td>\n",
       "    </tr>\n",
       "    <tr>\n",
       "      <th>43643</th>\n",
       "      <td>Myh7</td>\n",
       "      <td>D</td>\n",
       "      <td>adj_plq</td>\n",
       "      <td>1.353549e-09</td>\n",
       "      <td>-0.328483</td>\n",
       "      <td>-0.657031</td>\n",
       "      <td>-0.492757</td>\n",
       "      <td>-5.879119</td>\n",
       "      <td>1.353549e-09</td>\n",
       "    </tr>\n",
       "    <tr>\n",
       "      <th>31979</th>\n",
       "      <td>Hopx</td>\n",
       "      <td>D</td>\n",
       "      <td>adj_plq</td>\n",
       "      <td>2.055919e-08</td>\n",
       "      <td>-0.240108</td>\n",
       "      <td>-0.498353</td>\n",
       "      <td>-0.369230</td>\n",
       "      <td>-5.604585</td>\n",
       "      <td>2.055919e-08</td>\n",
       "    </tr>\n",
       "    <tr>\n",
       "      <th>27819</th>\n",
       "      <td>Gm13205</td>\n",
       "      <td>D</td>\n",
       "      <td>adj_plq</td>\n",
       "      <td>2.189970e-08</td>\n",
       "      <td>0.535872</td>\n",
       "      <td>0.259959</td>\n",
       "      <td>0.397916</td>\n",
       "      <td>5.653239</td>\n",
       "      <td>2.189970e-08</td>\n",
       "    </tr>\n",
       "    <tr>\n",
       "      <th>9411</th>\n",
       "      <td>Bst2</td>\n",
       "      <td>D</td>\n",
       "      <td>adj_plq</td>\n",
       "      <td>2.450694e-08</td>\n",
       "      <td>0.589851</td>\n",
       "      <td>0.286663</td>\n",
       "      <td>0.438257</td>\n",
       "      <td>5.666243</td>\n",
       "      <td>2.450694e-08</td>\n",
       "    </tr>\n",
       "    <tr>\n",
       "      <th>32315</th>\n",
       "      <td>Hspa1b</td>\n",
       "      <td>D</td>\n",
       "      <td>adj_plq</td>\n",
       "      <td>3.741770e-08</td>\n",
       "      <td>-0.268929</td>\n",
       "      <td>-0.576127</td>\n",
       "      <td>-0.422528</td>\n",
       "      <td>-5.391562</td>\n",
       "      <td>3.741770e-08</td>\n",
       "    </tr>\n",
       "    <tr>\n",
       "      <th>3059</th>\n",
       "      <td>Adra1b</td>\n",
       "      <td>D</td>\n",
       "      <td>adj_plq</td>\n",
       "      <td>4.503767e-08</td>\n",
       "      <td>0.512390</td>\n",
       "      <td>0.242617</td>\n",
       "      <td>0.377503</td>\n",
       "      <td>5.485304</td>\n",
       "      <td>4.503767e-08</td>\n",
       "    </tr>\n",
       "    <tr>\n",
       "      <th>38643</th>\n",
       "      <td>Lyz2</td>\n",
       "      <td>D</td>\n",
       "      <td>adj_plq</td>\n",
       "      <td>1.421246e-07</td>\n",
       "      <td>0.515932</td>\n",
       "      <td>0.237587</td>\n",
       "      <td>0.376759</td>\n",
       "      <td>5.305895</td>\n",
       "      <td>1.421246e-07</td>\n",
       "    </tr>\n",
       "    <tr>\n",
       "      <th>9691</th>\n",
       "      <td>C1qa</td>\n",
       "      <td>D</td>\n",
       "      <td>adj_plq</td>\n",
       "      <td>1.517400e-07</td>\n",
       "      <td>0.585955</td>\n",
       "      <td>0.263312</td>\n",
       "      <td>0.424634</td>\n",
       "      <td>5.159059</td>\n",
       "      <td>1.517400e-07</td>\n",
       "    </tr>\n",
       "    <tr>\n",
       "      <th>41939</th>\n",
       "      <td>Mpeg1</td>\n",
       "      <td>D</td>\n",
       "      <td>adj_plq</td>\n",
       "      <td>1.613477e-07</td>\n",
       "      <td>0.507961</td>\n",
       "      <td>0.232388</td>\n",
       "      <td>0.370175</td>\n",
       "      <td>5.265602</td>\n",
       "      <td>1.613477e-07</td>\n",
       "    </tr>\n",
       "    <tr>\n",
       "      <th>30515</th>\n",
       "      <td>H2-D1</td>\n",
       "      <td>D</td>\n",
       "      <td>adj_plq</td>\n",
       "      <td>2.394464e-07</td>\n",
       "      <td>0.546686</td>\n",
       "      <td>0.242949</td>\n",
       "      <td>0.394818</td>\n",
       "      <td>5.095386</td>\n",
       "      <td>2.394464e-07</td>\n",
       "    </tr>\n",
       "    <tr>\n",
       "      <th>11963</th>\n",
       "      <td>Cd52</td>\n",
       "      <td>D</td>\n",
       "      <td>adj_plq</td>\n",
       "      <td>2.449256e-07</td>\n",
       "      <td>0.512025</td>\n",
       "      <td>0.232382</td>\n",
       "      <td>0.372204</td>\n",
       "      <td>5.217409</td>\n",
       "      <td>2.449256e-07</td>\n",
       "    </tr>\n",
       "    <tr>\n",
       "      <th>7715</th>\n",
       "      <td>B2m</td>\n",
       "      <td>D</td>\n",
       "      <td>adj_plq</td>\n",
       "      <td>2.518490e-07</td>\n",
       "      <td>1.202086</td>\n",
       "      <td>0.501555</td>\n",
       "      <td>0.851821</td>\n",
       "      <td>4.766491</td>\n",
       "      <td>2.518490e-07</td>\n",
       "    </tr>\n",
       "    <tr>\n",
       "      <th>2923</th>\n",
       "      <td>Adgrl2</td>\n",
       "      <td>D</td>\n",
       "      <td>adj_plq</td>\n",
       "      <td>2.687163e-07</td>\n",
       "      <td>0.502377</td>\n",
       "      <td>0.223403</td>\n",
       "      <td>0.362890</td>\n",
       "      <td>5.099043</td>\n",
       "      <td>2.687163e-07</td>\n",
       "    </tr>\n",
       "    <tr>\n",
       "      <th>17163</th>\n",
       "      <td>Cyba</td>\n",
       "      <td>D</td>\n",
       "      <td>adj_plq</td>\n",
       "      <td>2.844709e-07</td>\n",
       "      <td>0.522136</td>\n",
       "      <td>0.236001</td>\n",
       "      <td>0.379068</td>\n",
       "      <td>5.193068</td>\n",
       "      <td>2.844709e-07</td>\n",
       "    </tr>\n",
       "    <tr>\n",
       "      <th>32459</th>\n",
       "      <td>Htr2a</td>\n",
       "      <td>D</td>\n",
       "      <td>adj_plq</td>\n",
       "      <td>5.431571e-07</td>\n",
       "      <td>0.472876</td>\n",
       "      <td>0.206790</td>\n",
       "      <td>0.339833</td>\n",
       "      <td>5.006366</td>\n",
       "      <td>5.431571e-07</td>\n",
       "    </tr>\n",
       "    <tr>\n",
       "      <th>43675</th>\n",
       "      <td>Myl4</td>\n",
       "      <td>D</td>\n",
       "      <td>adj_plq</td>\n",
       "      <td>7.533418e-07</td>\n",
       "      <td>0.469448</td>\n",
       "      <td>0.201424</td>\n",
       "      <td>0.335436</td>\n",
       "      <td>4.905854</td>\n",
       "      <td>7.533418e-07</td>\n",
       "    </tr>\n",
       "    <tr>\n",
       "      <th>26323</th>\n",
       "      <td>Fxyd6</td>\n",
       "      <td>D</td>\n",
       "      <td>adj_plq</td>\n",
       "      <td>7.688103e-07</td>\n",
       "      <td>-0.211066</td>\n",
       "      <td>-0.486153</td>\n",
       "      <td>-0.348610</td>\n",
       "      <td>-4.967616</td>\n",
       "      <td>7.688103e-07</td>\n",
       "    </tr>\n",
       "    <tr>\n",
       "      <th>54971</th>\n",
       "      <td>Psmb8</td>\n",
       "      <td>D</td>\n",
       "      <td>adj_plq</td>\n",
       "      <td>7.827456e-07</td>\n",
       "      <td>0.624962</td>\n",
       "      <td>0.275209</td>\n",
       "      <td>0.450086</td>\n",
       "      <td>5.044432</td>\n",
       "      <td>7.827456e-07</td>\n",
       "    </tr>\n",
       "    <tr>\n",
       "      <th>32843</th>\n",
       "      <td>Ifitm3</td>\n",
       "      <td>D</td>\n",
       "      <td>adj_plq</td>\n",
       "      <td>8.729049e-07</td>\n",
       "      <td>0.463877</td>\n",
       "      <td>0.200439</td>\n",
       "      <td>0.332158</td>\n",
       "      <td>4.942473</td>\n",
       "      <td>8.729049e-07</td>\n",
       "    </tr>\n",
       "  </tbody>\n",
       "</table>\n",
       "</div>"
      ],
      "text/plain": [
       "        primerid component contrast    Pr(>Chisq)     ci.hi     ci.lo  \\\n",
       "9819         C4b         D  adj_plq  1.810956e-21  0.849653  0.561353   \n",
       "16499       Cst7         D  adj_plq  4.971456e-18  0.926235  0.588285   \n",
       "27251       Gfap         D  adj_plq  5.656316e-18  0.816660  0.511012   \n",
       "33091      Igfn1         D  adj_plq  1.709340e-17 -0.625911 -1.035312   \n",
       "47115       Ntn5         D  adj_plq  3.485436e-17 -0.510802 -0.838718   \n",
       "37035   Lgals3bp         D  adj_plq  1.994183e-16  0.711182  0.438064   \n",
       "63043  Serpina3n         D  adj_plq  2.456443e-15  0.698914  0.423281   \n",
       "32123     Hs3st2         D  adj_plq  1.445283e-14  0.689269  0.405652   \n",
       "28403      Gm765         D  adj_plq  7.016579e-13 -0.559871 -1.026105   \n",
       "32803   Ifi27l2a         D  adj_plq  5.182839e-12  0.676374  0.380926   \n",
       "7051      Atp2b4         D  adj_plq  7.201926e-11 -0.325304 -0.603920   \n",
       "43643       Myh7         D  adj_plq  1.353549e-09 -0.328483 -0.657031   \n",
       "31979       Hopx         D  adj_plq  2.055919e-08 -0.240108 -0.498353   \n",
       "27819    Gm13205         D  adj_plq  2.189970e-08  0.535872  0.259959   \n",
       "9411        Bst2         D  adj_plq  2.450694e-08  0.589851  0.286663   \n",
       "32315     Hspa1b         D  adj_plq  3.741770e-08 -0.268929 -0.576127   \n",
       "3059      Adra1b         D  adj_plq  4.503767e-08  0.512390  0.242617   \n",
       "38643       Lyz2         D  adj_plq  1.421246e-07  0.515932  0.237587   \n",
       "9691        C1qa         D  adj_plq  1.517400e-07  0.585955  0.263312   \n",
       "41939      Mpeg1         D  adj_plq  1.613477e-07  0.507961  0.232388   \n",
       "30515      H2-D1         D  adj_plq  2.394464e-07  0.546686  0.242949   \n",
       "11963       Cd52         D  adj_plq  2.449256e-07  0.512025  0.232382   \n",
       "7715         B2m         D  adj_plq  2.518490e-07  1.202086  0.501555   \n",
       "2923      Adgrl2         D  adj_plq  2.687163e-07  0.502377  0.223403   \n",
       "17163       Cyba         D  adj_plq  2.844709e-07  0.522136  0.236001   \n",
       "32459      Htr2a         D  adj_plq  5.431571e-07  0.472876  0.206790   \n",
       "43675       Myl4         D  adj_plq  7.533418e-07  0.469448  0.201424   \n",
       "26323      Fxyd6         D  adj_plq  7.688103e-07 -0.211066 -0.486153   \n",
       "54971      Psmb8         D  adj_plq  7.827456e-07  0.624962  0.275209   \n",
       "32843     Ifitm3         D  adj_plq  8.729049e-07  0.463877  0.200439   \n",
       "\n",
       "           coef         z         p_val  \n",
       "9819   0.705503  9.592508  1.810956e-21  \n",
       "16499  0.757260  8.783557  4.971456e-18  \n",
       "27251  0.663836  8.513697  5.656316e-18  \n",
       "33091 -0.830612 -7.952933  1.709340e-17  \n",
       "47115 -0.674760 -8.066124  3.485436e-17  \n",
       "37035  0.574623  8.247277  1.994183e-16  \n",
       "63043  0.561097  7.979672  2.456443e-15  \n",
       "32123  0.547461  7.566551  1.445283e-14  \n",
       "28403 -0.792988 -6.667158  7.016579e-13  \n",
       "32803  0.528650  7.013975  5.182839e-12  \n",
       "7051  -0.464612 -6.536766  7.201926e-11  \n",
       "43643 -0.492757 -5.879119  1.353549e-09  \n",
       "31979 -0.369230 -5.604585  2.055919e-08  \n",
       "27819  0.397916  5.653239  2.189970e-08  \n",
       "9411   0.438257  5.666243  2.450694e-08  \n",
       "32315 -0.422528 -5.391562  3.741770e-08  \n",
       "3059   0.377503  5.485304  4.503767e-08  \n",
       "38643  0.376759  5.305895  1.421246e-07  \n",
       "9691   0.424634  5.159059  1.517400e-07  \n",
       "41939  0.370175  5.265602  1.613477e-07  \n",
       "30515  0.394818  5.095386  2.394464e-07  \n",
       "11963  0.372204  5.217409  2.449256e-07  \n",
       "7715   0.851821  4.766491  2.518490e-07  \n",
       "2923   0.362890  5.099043  2.687163e-07  \n",
       "17163  0.379068  5.193068  2.844709e-07  \n",
       "32459  0.339833  5.006366  5.431571e-07  \n",
       "43675  0.335436  4.905854  7.533418e-07  \n",
       "26323 -0.348610 -4.967616  7.688103e-07  \n",
       "54971  0.450086  5.044432  7.827456e-07  \n",
       "32843  0.332158  4.942473  8.729049e-07  "
      ]
     },
     "execution_count": 126,
     "metadata": {},
     "output_type": "execute_result"
    }
   ],
   "source": [
    "de_dict['D'].sort_values(by='p_val', ascending=True).head(30)"
   ]
  },
  {
   "cell_type": "code",
   "execution_count": null,
   "metadata": {},
   "outputs": [],
   "source": [
    "#Do PCA\n",
    "from sklearn.decomposition import PCA\n",
    "pca = PCA(n_components=100)\n",
    "pca.fit(gene_all)\n",
    "var = pca.explained_variance_ratio_\n",
    "var1 = np.cumsum(np.round(pca.explained_variance_ratio_, decimals=4)*100)"
   ]
  },
  {
   "attachments": {},
   "cell_type": "markdown",
   "metadata": {},
   "source": [
    "# Build classifier\n",
    "\n"
   ]
  },
  {
   "cell_type": "code",
   "execution_count": 5,
   "metadata": {},
   "outputs": [
    {
     "data": {
      "text/html": [
       "<div>\n",
       "<style scoped>\n",
       "    .dataframe tbody tr th:only-of-type {\n",
       "        vertical-align: middle;\n",
       "    }\n",
       "\n",
       "    .dataframe tbody tr th {\n",
       "        vertical-align: top;\n",
       "    }\n",
       "\n",
       "    .dataframe thead th {\n",
       "        text-align: right;\n",
       "    }\n",
       "</style>\n",
       "<table border=\"1\" class=\"dataframe\">\n",
       "  <thead>\n",
       "    <tr style=\"text-align: right;\">\n",
       "      <th></th>\n",
       "      <th>barcode</th>\n",
       "      <th>adj_plq</th>\n",
       "      <th>sample</th>\n",
       "    </tr>\n",
       "  </thead>\n",
       "  <tbody>\n",
       "    <tr>\n",
       "      <th>0</th>\n",
       "      <td>AAACAGTGTTCCTGGG-1_030-C</td>\n",
       "      <td>0</td>\n",
       "      <td>030-C</td>\n",
       "    </tr>\n",
       "    <tr>\n",
       "      <th>1</th>\n",
       "      <td>AAACCGGGTAGGTACC-1_030-C</td>\n",
       "      <td>0</td>\n",
       "      <td>030-C</td>\n",
       "    </tr>\n",
       "    <tr>\n",
       "      <th>2</th>\n",
       "      <td>AAACCGTTCGTCCAGG-1_030-C</td>\n",
       "      <td>1</td>\n",
       "      <td>030-C</td>\n",
       "    </tr>\n",
       "    <tr>\n",
       "      <th>3</th>\n",
       "      <td>AAACCTCATGAAGTTG-1_030-C</td>\n",
       "      <td>0</td>\n",
       "      <td>030-C</td>\n",
       "    </tr>\n",
       "    <tr>\n",
       "      <th>4</th>\n",
       "      <td>AAACGGGTTGGTATCC-1_030-C</td>\n",
       "      <td>0</td>\n",
       "      <td>030-C</td>\n",
       "    </tr>\n",
       "    <tr>\n",
       "      <th>...</th>\n",
       "      <td>...</td>\n",
       "      <td>...</td>\n",
       "      <td>...</td>\n",
       "    </tr>\n",
       "    <tr>\n",
       "      <th>8312</th>\n",
       "      <td>TTGTTTCACATCCAGG-1_040-D</td>\n",
       "      <td>0</td>\n",
       "      <td>040-D</td>\n",
       "    </tr>\n",
       "    <tr>\n",
       "      <th>8313</th>\n",
       "      <td>TTGTTTCATTAGTCTA-1_040-D</td>\n",
       "      <td>0</td>\n",
       "      <td>040-D</td>\n",
       "    </tr>\n",
       "    <tr>\n",
       "      <th>8314</th>\n",
       "      <td>TTGTTTCCATACAACT-1_040-D</td>\n",
       "      <td>1</td>\n",
       "      <td>040-D</td>\n",
       "    </tr>\n",
       "    <tr>\n",
       "      <th>8315</th>\n",
       "      <td>TTGTTTGTATTACACG-1_040-D</td>\n",
       "      <td>0</td>\n",
       "      <td>040-D</td>\n",
       "    </tr>\n",
       "    <tr>\n",
       "      <th>8316</th>\n",
       "      <td>TTGTTTGTGTAAATTC-1_040-D</td>\n",
       "      <td>0</td>\n",
       "      <td>040-D</td>\n",
       "    </tr>\n",
       "  </tbody>\n",
       "</table>\n",
       "<p>8317 rows × 3 columns</p>\n",
       "</div>"
      ],
      "text/plain": [
       "                       barcode  adj_plq sample\n",
       "0     AAACAGTGTTCCTGGG-1_030-C        0  030-C\n",
       "1     AAACCGGGTAGGTACC-1_030-C        0  030-C\n",
       "2     AAACCGTTCGTCCAGG-1_030-C        1  030-C\n",
       "3     AAACCTCATGAAGTTG-1_030-C        0  030-C\n",
       "4     AAACGGGTTGGTATCC-1_030-C        0  030-C\n",
       "...                        ...      ...    ...\n",
       "8312  TTGTTTCACATCCAGG-1_040-D        0  040-D\n",
       "8313  TTGTTTCATTAGTCTA-1_040-D        0  040-D\n",
       "8314  TTGTTTCCATACAACT-1_040-D        1  040-D\n",
       "8315  TTGTTTGTATTACACG-1_040-D        0  040-D\n",
       "8316  TTGTTTGTGTAAATTC-1_040-D        0  040-D\n",
       "\n",
       "[8317 rows x 3 columns]"
      ]
     },
     "execution_count": 5,
     "metadata": {},
     "output_type": "execute_result"
    }
   ],
   "source": [
    "meta"
   ]
  },
  {
   "cell_type": "code",
   "execution_count": 25,
   "metadata": {},
   "outputs": [],
   "source": [
    "#Find top n DE genes\n",
    "n=50\n",
    "de_dict = {'C': pf.extract_p(de_genes, 'C'), 'D': pf.extract_p(de_genes,'D')}\n",
    "top_de = de_dict['C'].sort_values(by='p_val', ascending=True).head(n)\n",
    "\n",
    "\n",
    "#Filter CPMmat with DE genes\n",
    "sub_gm = logcpm.loc[top_de['primerid']].T"
   ]
  },
  {
   "cell_type": "code",
   "execution_count": null,
   "metadata": {},
   "outputs": [],
   "source": [
    "# get CV working to estimate CIs, compare with test\n",
    "\n",
    "# get CV working to take mean of weights, try on test\n"
   ]
  },
  {
   "cell_type": "code",
   "execution_count": null,
   "metadata": {},
   "outputs": [],
   "source": [
    "# build validation set, get CV to find hyperparameter combinations on validation set, try with test\n",
    "\n",
    "#parameters to optimise\n",
    "#n DE genes\n",
    "# regularisation parameter\n",
    "# class imbalance parameter"
   ]
  },
  {
   "cell_type": "code",
   "execution_count": null,
   "metadata": {},
   "outputs": [],
   "source": [
    "# Find best performance \n",
    "\n",
    "# Learn about issues of logistic regression"
   ]
  },
  {
   "cell_type": "code",
   "execution_count": 30,
   "metadata": {},
   "outputs": [
    {
     "data": {
      "text/plain": [
       "((5572, 50), (2745, 50), (5572,), (2745,))"
      ]
     },
     "execution_count": 30,
     "metadata": {},
     "output_type": "execute_result"
    }
   ],
   "source": [
    "# classify plaque or no plaque spots based gene expression\n",
    "#----------------------------------------------------------------------\n",
    "from sklearn.linear_model import LogisticRegression\n",
    "from sklearn.model_selection import train_test_split\n",
    "import sklearn.metrics\n",
    "from sklearn.model_selection import cross_val_score\n",
    "\n",
    "#Split into train and test\n",
    "X_train, X_test, y_train, y_test = train_test_split(sub_gm, meta['adj_plq'], test_size=0.33)\n",
    "X_train.shape, X_test.shape, y_train.shape, y_test.shape\n",
    "\n",
    "# Do cross validation\n",
    "print(cross_val_score(LogisticRegression(max_iter=1000, penalty='l2'), X_train, y_train, cv=5, scoring='roc_auc'))"
   ]
  },
  {
   "cell_type": "code",
   "execution_count": 65,
   "metadata": {},
   "outputs": [
    {
     "data": {
      "text/plain": [
       "0    7027\n",
       "1    1290\n",
       "Name: adj_plq, dtype: int64"
      ]
     },
     "execution_count": 65,
     "metadata": {},
     "output_type": "execute_result"
    }
   ],
   "source": [
    "meta['adj_plq'].value_counts()"
   ]
  },
  {
   "cell_type": "code",
   "execution_count": 71,
   "metadata": {},
   "outputs": [],
   "source": [
    "def model_cvs(model, X, y, cv):\n",
    "\n",
    "    #NB default pos_label is 1\n",
    "    scores = cross_val_score(model, X, y, cv=cv, scoring='accuracy')\n",
    "    print(scores)\n",
    "    print(\"Accuracy (#correct predictions/#total predictions): %0.3f (+/- %0.3f)\" % (scores.mean(), scores.std()))\n",
    "\n",
    "    scores = cross_val_score(model, X, y, cv=cv, scoring='precision')\n",
    "    print(scores)\n",
    "    print(\"Plaque precision (TP/TP+FP): %0.3f (+/- %0.3f)\" % (scores.mean(), scores.std()))\n",
    "\n",
    "    scores = cross_val_score(model, X, y, cv=cv, scoring='recall')\n",
    "    print(scores)\n",
    "    print(\"Plaque recall (TP/TP+FN): %0.3f (+/- %0.3f)\" % (scores.mean(), scores.std()))\n",
    "\n",
    "    scores = cross_val_score(model, X, y, cv=cv, scoring='f1')\n",
    "    print(scores)\n",
    "    print(\"Plaque f1 (2*(Pre/Pre+Rec)): %0.3f (+/- %0.3f)\" % (scores.mean(), scores.std()))\n",
    "\n",
    "\n",
    "\n",
    "    \n",
    "          "
   ]
  },
  {
   "cell_type": "code",
   "execution_count": 73,
   "metadata": {},
   "outputs": [
    {
     "name": "stdout",
     "output_type": "stream",
     "text": [
      "[0.86188341 0.84843049 0.8491921  0.8518851  0.85547576]\n",
      "Accuracy (#correct predictions/#total predictions): 0.853 (+/- 0.005)\n",
      "[0.63636364 0.546875   0.56521739 0.56716418 0.62962963]\n",
      "Plaque precision (TP/TP+FP): 0.589 (+/- 0.037)\n",
      "[0.28       0.2        0.14942529 0.2183908  0.19428571]\n",
      "Plaque recall (TP/TP+FN): 0.208 (+/- 0.042)\n"
     ]
    }
   ],
   "source": [
    "model_cvs(LogisticRegression(max_iter=1000, penalty='l2'), X_train, y_train, 5)"
   ]
  },
  {
   "cell_type": "code",
   "execution_count": 68,
   "metadata": {},
   "outputs": [
    {
     "name": "stdout",
     "output_type": "stream",
     "text": [
      "[0.28       0.2        0.14942529 0.2183908  0.19428571]\n",
      "Accuracy: 0.208 (+/- 0.042)\n"
     ]
    }
   ],
   "source": [
    "model_cvs(LogisticRegression(max_iter=1000, penalty='l2'), X_train, y_train, 5, 'recall')"
   ]
  },
  {
   "cell_type": "code",
   "execution_count": 43,
   "metadata": {},
   "outputs": [
    {
     "data": {
      "text/plain": [
       "['accuracy',\n",
       " 'adjusted_mutual_info_score',\n",
       " 'adjusted_rand_score',\n",
       " 'average_precision',\n",
       " 'balanced_accuracy',\n",
       " 'completeness_score',\n",
       " 'explained_variance',\n",
       " 'f1',\n",
       " 'f1_macro',\n",
       " 'f1_micro',\n",
       " 'f1_samples',\n",
       " 'f1_weighted',\n",
       " 'fowlkes_mallows_score',\n",
       " 'homogeneity_score',\n",
       " 'jaccard',\n",
       " 'jaccard_macro',\n",
       " 'jaccard_micro',\n",
       " 'jaccard_samples',\n",
       " 'jaccard_weighted',\n",
       " 'max_error',\n",
       " 'mutual_info_score',\n",
       " 'neg_brier_score',\n",
       " 'neg_log_loss',\n",
       " 'neg_mean_absolute_error',\n",
       " 'neg_mean_absolute_percentage_error',\n",
       " 'neg_mean_gamma_deviance',\n",
       " 'neg_mean_poisson_deviance',\n",
       " 'neg_mean_squared_error',\n",
       " 'neg_mean_squared_log_error',\n",
       " 'neg_median_absolute_error',\n",
       " 'neg_root_mean_squared_error',\n",
       " 'normalized_mutual_info_score',\n",
       " 'precision',\n",
       " 'precision_macro',\n",
       " 'precision_micro',\n",
       " 'precision_samples',\n",
       " 'precision_weighted',\n",
       " 'r2',\n",
       " 'rand_score',\n",
       " 'recall',\n",
       " 'recall_macro',\n",
       " 'recall_micro',\n",
       " 'recall_samples',\n",
       " 'recall_weighted',\n",
       " 'roc_auc',\n",
       " 'roc_auc_ovo',\n",
       " 'roc_auc_ovo_weighted',\n",
       " 'roc_auc_ovr',\n",
       " 'roc_auc_ovr_weighted',\n",
       " 'top_k_accuracy',\n",
       " 'v_measure_score']"
      ]
     },
     "execution_count": 43,
     "metadata": {},
     "output_type": "execute_result"
    }
   ],
   "source": [
    "sorted(sklearn.metrics.SCORERS.keys()).values"
   ]
  },
  {
   "cell_type": "code",
   "execution_count": null,
   "metadata": {},
   "outputs": [],
   "source": [
    "# Hyperparameter sampling for regularisation"
   ]
  },
  {
   "cell_type": "code",
   "execution_count": 29,
   "metadata": {},
   "outputs": [
    {
     "name": "stdout",
     "output_type": "stream",
     "text": [
      "TOTAL ACCURACY (#correct predictions/#total predictions) = 0.855 , 2348 of 2745\n",
      "ACCURACY (#correct predictions/#total true non-plaque) non-plaque = 0.973 , 2265 of 2328\n",
      "ACCURACY (#correct predictions/#total true plaque) plaque = 0.2 , 83 of 417\n",
      "PRECISION (TP/TP+FP) non-plaque = 0.871\n",
      "PRECISION (TP/TP+FP) plaque= 0.568\n",
      "RECALL (TP/TP+FN) Non-plaque = 0.973\n",
      "RECALL (TP/TP+FN) plaque = 0.199\n",
      "F1 SCORE(2*(PR/P+R)) non-plaque = 0.919\n",
      "F1 SCORE (2*(PR/P+R)) plaque = 0.295\n",
      "TRUE POSITIVE RATE (TP/TP+FN) non-plaque = 0.973\n",
      "TRUE POSITIVE RATE (TP/TP+FN) plaque = 0.199\n",
      "FALSE POSITIVE RATE (FP/FP+TN) non-plaque  = 0.801\n",
      "FALSE POSITIVE RATE (FP/FP+TN) plaque = 0.027\n",
      "ROC AUC non-plaque = 0.763\n",
      "ROC AUC plaque = 0.763\n"
     ]
    }
   ],
   "source": [
    "#Fit model and predict\n",
    "clf = LogisticRegression(max_iter=1000, penalty='l2').fit(X_train, y_train)\n",
    "pred = clf.predict(X_test)\n",
    "pred_prob = clf.predict_proba(X_test)\n",
    "true = y_test.values\n",
    "pf.report_metrics(true, pred, pred_prob)"
   ]
  },
  {
   "cell_type": "code",
   "execution_count": 14,
   "metadata": {},
   "outputs": [
    {
     "name": "stdout",
     "output_type": "stream",
     "text": [
      "TOTAL ACCURACY (#correct predictions/#total predictions) = 0.85 , 2334 of 2745\n",
      "ACCURACY (#correct predictions/#total true non-plaque) non-plaque = 0.966 , 2243 of 2322\n",
      "ACCURACY (#correct predictions/#total true plaque) plaque = 0.22 , 91 of 423\n",
      "PRECISION (TP/TP+FP) non-plaque = 0.871\n",
      "PRECISION (TP/TP+FP) plaque= 0.535\n",
      "RECALL (TP/TP+FN) Non-plaque = 0.966\n",
      "RECALL (TP/TP+FN) plaque = 0.215\n",
      "F1 SCORE(2*(PR/P+R)) non-plaque = 0.916\n",
      "F1 SCORE (2*(PR/P+R)) plaque = 0.307\n",
      "TRUE POSITIVE RATE (TP/TP+FN) non-plaque = 0.966\n",
      "TRUE POSITIVE RATE (TP/TP+FN) plaque = 0.215\n",
      "FALSE POSITIVE RATE (FP/FP+TN) non-plaque  = 0.785\n",
      "FALSE POSITIVE RATE (FP/FP+TN) plaque = 0.034\n",
      "ROC AUC non-plaque = 0.771\n",
      "ROC AUC plaque = 0.771\n"
     ]
    }
   ],
   "source": [
    "#Fit model and predict\n",
    "clf = LogisticRegression(max_iter=1000, penalty='l2').fit(X_train, y_train)\n",
    "pred = clf.predict(X_test)\n",
    "pred_prob = clf.predict_proba(X_test)\n",
    "true = y_test.values\n",
    "pf.report_metrics(true, pred, pred_prob)"
   ]
  },
  {
   "cell_type": "code",
   "execution_count": 170,
   "metadata": {},
   "outputs": [
    {
     "name": "stdout",
     "output_type": "stream",
     "text": [
      "Original dataset shape: Counter({0: 11269, 1: 127})\n",
      "Resample dataset shape Counter({0: 127, 1: 127})\n"
     ]
    }
   ],
   "source": [
    "#Random under sampling \n",
    "from imblearn.under_sampling import RandomUnderSampler\n",
    "from collections import Counter\n",
    "\n",
    "rus = RandomUnderSampler(replacement=True)# fit predictor and target variable\n",
    "x_rus, y_rus = rus.fit_resample(X_train, y_train)\n",
    "print('Original dataset shape:', Counter(y_train))\n",
    "print('Resample dataset shape', Counter(y_rus))"
   ]
  },
  {
   "cell_type": "code",
   "execution_count": 185,
   "metadata": {},
   "outputs": [
    {
     "name": "stdout",
     "output_type": "stream",
     "text": [
      "TOTAL ACCURACY (#correct predictions/#total predictions) = 0.758 , 4257 of 5613\n",
      "ACCURACY (#correct predictions/#total predictions) non-plaque = 0.757 , 4210 of 5562\n",
      "ACCURACY (#correct predictions/#total predictions) plaque = 0.92 , 47 of 51\n",
      "PRECISION (TP/TP+FP) non-plaque = 0.999\n",
      "PRECISION (TP/TP+FP) plaque= 0.034\n",
      "RECALL (TP/TP+FN) Non-plaque = 0.757\n",
      "RECALL (TP/TP+FN) plaque = 0.922\n",
      "F1 SCORE(2*(PR/P+R)) non-plaque = 0.861\n",
      "F1 SCORE (2*(PR/P+R)) plaque = 0.065\n",
      "TRUE POSITIVE RATE (TP/TP+FN) non-plaque = 0.757\n",
      "TRUE POSITIVE RATE (TP/TP+FN) plaque = 0.922\n",
      "FALSE POSITIVE RATE (FP/FP+TN) non-plaque  = 0.078\n",
      "FALSE POSITIVE RATE (FP/FP+TN) plaque = 0.243\n",
      "ROC AUC non-plaque = 0.914\n",
      "ROC AUC plaque = 0.914\n"
     ]
    }
   ],
   "source": [
    "#Fit model and predict\n",
    "clf = LogisticRegression(max_iter=1000, penalty='l2').fit(x_rus, y_rus)\n",
    "pred = clf.predict(X_test)\n",
    "pred_prob = clf.predict_proba(X_test)\n",
    "true = y_test\n",
    "pf.report_metrics(true, pred, pred_prob)"
   ]
  },
  {
   "cell_type": "code",
   "execution_count": 23,
   "metadata": {},
   "outputs": [
    {
     "data": {
      "image/png": "[encoded data removed]",
      "text/plain": [
       "<Figure size 576x360 with 1 Axes>"
      ]
     },
     "metadata": {
      "needs_background": "light"
     },
     "output_type": "display_data"
    }
   ],
   "source": [
    "from sklearn.metrics import PrecisionRecallDisplay\n",
    "fig, ax = plt.subplots(figsize=(8, 5))\n",
    "PrecisionRecallDisplay.from_estimator(\n",
    "    clf, X_test, y_test, name=\"Plaque\", pos_label=1, ax=ax)\n",
    "plt.show()"
   ]
  },
  {
   "cell_type": "code",
   "execution_count": 27,
   "metadata": {},
   "outputs": [
    {
     "data": {
      "image/png": "[encoded data removed]",
      "text/plain": [
       "<Figure size 576x360 with 1 Axes>"
      ]
     },
     "metadata": {
      "needs_background": "light"
     },
     "output_type": "display_data"
    }
   ],
   "source": [
    "from sklearn.metrics import PrecisionRecallDisplay\n",
    "fig, ax = plt.subplots(figsize=(8, 5))\n",
    "PrecisionRecallDisplay.from_estimator(\n",
    "    clf, X_test, y_test, name=\"Non-plaque\", pos_label=0, ax=ax)\n",
    "plt.show()"
   ]
  },
  {
   "cell_type": "code",
   "execution_count": 28,
   "metadata": {},
   "outputs": [
    {
     "ename": "NameError",
     "evalue": "name 'metrics' is not defined",
     "output_type": "error",
     "traceback": [
      "\u001b[0;31m---------------------------------------------------------------------------\u001b[0m",
      "\u001b[0;31mNameError\u001b[0m                                 Traceback (most recent call last)",
      "\u001b[0;32m/tmp/ipykernel_815400/767444293.py\u001b[0m in \u001b[0;36m<cell line: 1>\u001b[0;34m()\u001b[0m\n\u001b[0;32m----> 1\u001b[0;31m \u001b[0mfpr\u001b[0m\u001b[0;34m,\u001b[0m \u001b[0mtpr\u001b[0m\u001b[0;34m,\u001b[0m \u001b[0mthresholds\u001b[0m \u001b[0;34m=\u001b[0m \u001b[0mmetrics\u001b[0m\u001b[0;34m.\u001b[0m\u001b[0mroc_curve\u001b[0m\u001b[0;34m(\u001b[0m\u001b[0mtrue\u001b[0m\u001b[0;34m,\u001b[0m \u001b[0mpred_prob\u001b[0m\u001b[0;34m[\u001b[0m\u001b[0;34m:\u001b[0m\u001b[0;34m,\u001b[0m\u001b[0;36m1\u001b[0m\u001b[0;34m]\u001b[0m\u001b[0;34m,\u001b[0m \u001b[0mpos_label\u001b[0m\u001b[0;34m=\u001b[0m\u001b[0;36m1\u001b[0m\u001b[0;34m)\u001b[0m\u001b[0;34m\u001b[0m\u001b[0;34m\u001b[0m\u001b[0m\n\u001b[0m\u001b[1;32m      2\u001b[0m \u001b[0mroc_auc\u001b[0m \u001b[0;34m=\u001b[0m \u001b[0mmetrics\u001b[0m\u001b[0;34m.\u001b[0m\u001b[0mauc\u001b[0m\u001b[0;34m(\u001b[0m\u001b[0mfpr\u001b[0m\u001b[0;34m,\u001b[0m \u001b[0mtpr\u001b[0m\u001b[0;34m)\u001b[0m\u001b[0;34m\u001b[0m\u001b[0;34m\u001b[0m\u001b[0m\n\u001b[1;32m      3\u001b[0m \u001b[0mdisplay\u001b[0m \u001b[0;34m=\u001b[0m \u001b[0mmetrics\u001b[0m\u001b[0;34m.\u001b[0m\u001b[0mRocCurveDisplay\u001b[0m\u001b[0;34m(\u001b[0m\u001b[0mfpr\u001b[0m\u001b[0;34m=\u001b[0m\u001b[0mfpr\u001b[0m\u001b[0;34m,\u001b[0m \u001b[0mtpr\u001b[0m\u001b[0;34m=\u001b[0m\u001b[0mtpr\u001b[0m\u001b[0;34m,\u001b[0m \u001b[0mroc_auc\u001b[0m\u001b[0;34m=\u001b[0m\u001b[0mroc_auc\u001b[0m\u001b[0;34m,\u001b[0m \u001b[0mestimator_name\u001b[0m\u001b[0;34m=\u001b[0m\u001b[0;34m'example estimator'\u001b[0m\u001b[0;34m)\u001b[0m\u001b[0;34m\u001b[0m\u001b[0;34m\u001b[0m\u001b[0m\n\u001b[1;32m      4\u001b[0m \u001b[0;31m#set display size\u001b[0m\u001b[0;34m\u001b[0m\u001b[0;34m\u001b[0m\u001b[0m\n\u001b[1;32m      5\u001b[0m \u001b[0mplt\u001b[0m\u001b[0;34m.\u001b[0m\u001b[0mrcParams\u001b[0m\u001b[0;34m[\u001b[0m\u001b[0;34m\"figure.figsize\"\u001b[0m\u001b[0;34m]\u001b[0m \u001b[0;34m=\u001b[0m \u001b[0;34m(\u001b[0m\u001b[0;36m8\u001b[0m\u001b[0;34m,\u001b[0m\u001b[0;36m5\u001b[0m\u001b[0;34m)\u001b[0m\u001b[0;34m\u001b[0m\u001b[0;34m\u001b[0m\u001b[0m\n",
      "\u001b[0;31mNameError\u001b[0m: name 'metrics' is not defined"
     ]
    }
   ],
   "source": [
    "fpr, tpr, thresholds = metrics.roc_curve(true, pred_prob[:,1], pos_label=1)\n",
    "roc_auc = metrics.auc(fpr, tpr)\n",
    "display = metrics.RocCurveDisplay(fpr=fpr, tpr=tpr, roc_auc=roc_auc, estimator_name='example estimator')\n",
    "#set display size\n",
    "plt.rcParams[\"figure.figsize\"] = (8,5)\n",
    "display.plot()\n",
    "plt.show()"
   ]
  },
  {
   "cell_type": "code",
   "execution_count": 15,
   "metadata": {},
   "outputs": [
    {
     "data": {
      "text/plain": [
       "((11396, 32284), (5613, 32284), (11396,), (5613,))"
      ]
     },
     "execution_count": 15,
     "metadata": {},
     "output_type": "execute_result"
    }
   ],
   "source": [
    "#Split into train and test\n",
    "X_train, X_test, y_train, y_test = train_test_split(gene_all, lab, test_size=0.33)\n",
    "X_train.shape, X_test.shape, y_train.shape, y_test.shape"
   ]
  },
  {
   "cell_type": "code",
   "execution_count": 226,
   "metadata": {},
   "outputs": [
    {
     "name": "stdout",
     "output_type": "stream",
     "text": [
      "Original dataset shape: Counter({0: 11271, 1: 125})\n",
      "Resample dataset shape Counter({0: 563, 1: 563})\n"
     ]
    }
   ],
   "source": [
    "# combine over and undersampling \n",
    "from imblearn.pipeline import Pipeline\n",
    "from imblearn.under_sampling import RandomUnderSampler\n",
    "from imblearn.over_sampling import SMOTE\n",
    "\n",
    "ros = SMOTE(sampling_strategy=0.05)# fit predictor and target variable\n",
    "rus = RandomUnderSampler(replacement=False)# fit predictor and target variable\n",
    "pipeline = Pipeline(steps=[('ros', ros), ('rus', rus)])\n",
    "X_mix, y_mix = pipeline.fit_resample(X_train, y_train)\n",
    "print('Original dataset shape:', Counter(y_train))\n",
    "print('Resample dataset shape', Counter(y_mix))\n",
    "\n",
    "#mix_pred = pipeline.predict(X_test)"
   ]
  },
  {
   "cell_type": "code",
   "execution_count": 227,
   "metadata": {},
   "outputs": [
    {
     "name": "stdout",
     "output_type": "stream",
     "text": [
      "TOTAL ACCURACY (#correct predictions/#total predictions) = 0.93 , 5220 of 5613\n",
      "ACCURACY (#correct predictions/#total predictions) non-plaque = 0.933 , 5187 of 5560\n",
      "ACCURACY (#correct predictions/#total predictions) plaque = 0.62 , 33 of 53\n",
      "PRECISION (TP/TP+FP) non-plaque = 0.996\n",
      "PRECISION (TP/TP+FP) plaque= 0.081\n",
      "RECALL (TP/TP+FN) Non-plaque = 0.933\n",
      "RECALL (TP/TP+FN) plaque = 0.623\n",
      "F1 SCORE(2*(PR/P+R)) non-plaque = 0.963\n",
      "F1 SCORE (2*(PR/P+R)) plaque = 0.144\n",
      "TRUE POSITIVE RATE (TP/TP+FN) non-plaque = 0.933\n",
      "TRUE POSITIVE RATE (TP/TP+FN) plaque = 0.623\n",
      "FALSE POSITIVE RATE (FP/FP+TN) non-plaque  = 0.377\n",
      "FALSE POSITIVE RATE (FP/FP+TN) plaque = 0.067\n",
      "ROC AUC non-plaque = 0.91\n",
      "ROC AUC plaque = 0.91\n"
     ]
    }
   ],
   "source": [
    "#Fit model and predict\n",
    "clf = LogisticRegression(max_iter=1000, penalty='l2').fit(X_mix, y_mix)\n",
    "pred = clf.predict(X_test)\n",
    "pred_prob = clf.predict_proba(X_test)\n",
    "true = y_test\n",
    "pf.report_metrics(true, pred, pred_prob)"
   ]
  },
  {
   "cell_type": "code",
   "execution_count": 224,
   "metadata": {},
   "outputs": [
    {
     "name": "stdout",
     "output_type": "stream",
     "text": [
      "TOTAL ACCURACY (#correct predictions/#total predictions) = 0.963 , 5405 of 5613\n",
      "ACCURACY (#correct predictions/#total predictions) non-plaque = 0.969 , 5385 of 5560\n",
      "ACCURACY (#correct predictions/#total predictions) plaque = 0.38 , 20 of 53\n",
      "PRECISION (TP/TP+FP) non-plaque = 0.994\n",
      "PRECISION (TP/TP+FP) plaque= 0.103\n",
      "RECALL (TP/TP+FN) Non-plaque = 0.969\n",
      "RECALL (TP/TP+FN) plaque = 0.377\n",
      "F1 SCORE(2*(PR/P+R)) non-plaque = 0.981\n",
      "F1 SCORE (2*(PR/P+R)) plaque = 0.161\n",
      "TRUE POSITIVE RATE (TP/TP+FN) non-plaque = 0.969\n",
      "TRUE POSITIVE RATE (TP/TP+FN) plaque = 0.377\n",
      "FALSE POSITIVE RATE (FP/FP+TN) non-plaque  = 0.623\n",
      "FALSE POSITIVE RATE (FP/FP+TN) plaque = 0.031\n",
      "ROC AUC non-plaque = 0.912\n",
      "ROC AUC plaque = 0.912\n"
     ]
    }
   ],
   "source": [
    "#Fit model and predict\n",
    "clf = LogisticRegression(max_iter=1000, penalty='l2').fit(X_mix, y_mix)\n",
    "pred = clf.predict(X_test)\n",
    "pred_prob = clf.predict_proba(X_test)\n",
    "true = y_test\n",
    "pf.report_metrics(true, pred, pred_prob)"
   ]
  },
  {
   "cell_type": "code",
   "execution_count": 228,
   "metadata": {},
   "outputs": [
    {
     "data": {
      "image/png": "[encoded data removed]",
      "text/plain": [
       "<Figure size 576x360 with 1 Axes>"
      ]
     },
     "metadata": {
      "needs_background": "light"
     },
     "output_type": "display_data"
    }
   ],
   "source": [
    "from sklearn.metrics import PrecisionRecallDisplay\n",
    "fig, ax = plt.subplots(figsize=(8, 5))\n",
    "PrecisionRecallDisplay.from_estimator(\n",
    "    clf, X_test, y_test, name=\"Plaque\", pos_label=1, ax=ax)\n",
    "plt.show()"
   ]
  },
  {
   "cell_type": "code",
   "execution_count": null,
   "metadata": {},
   "outputs": [],
   "source": [
    "\n",
    "#Check top n DE genes -> 100? \n",
    "gene_all"
   ]
  },
  {
   "cell_type": "code",
   "execution_count": null,
   "metadata": {},
   "outputs": [],
   "source": [
    "# Splitting -> cross validation -> tune some hyperparameters\n"
   ]
  },
  {
   "cell_type": "code",
   "execution_count": null,
   "metadata": {},
   "outputs": [],
   "source": [
    "# Try out a different model? "
   ]
  },
  {
   "cell_type": "code",
   "execution_count": 151,
   "metadata": {},
   "outputs": [
    {
     "name": "stdout",
     "output_type": "stream",
     "text": [
      "Non-plaque accuracy = 0.744 , 4127 of 5545\n",
      "Plaque accuracy = 0.93 , 63 of 68\n"
     ]
    }
   ],
   "source": [
    "#Fit model and predict\n",
    "clf = LogisticRegression(max_iter=1000, penalty='l2').fit(x_rus, y_rus)\n",
    "pred = clf.predict(X_test)\n",
    "true = y_test\n",
    "report_class_acc(true, pred)"
   ]
  },
  {
   "cell_type": "code",
   "execution_count": 138,
   "metadata": {},
   "outputs": [
    {
     "data": {
      "text/plain": [
       "0.8353723545324352"
      ]
     },
     "execution_count": 138,
     "metadata": {},
     "output_type": "execute_result"
    }
   ],
   "source": [
    "accuracy = sklearn.metrics.balanced_accuracy_score(true, pred)\n",
    "accuracy"
   ]
  },
  {
   "cell_type": "code",
   "execution_count": 51,
   "metadata": {},
   "outputs": [],
   "source": [
    "#find the top n PCs of gene data\n",
    "from sklearn.decomposition import PCA\n",
    "pca = PCA(n_components=100)\n",
    "pca.fit(gene_all)\n",
    "var = pca.explained_variance_ratio_\n",
    "var1 = np.cumsum(np.round(pca.explained_variance_ratio_, decimals=4)*100)"
   ]
  },
  {
   "cell_type": "code",
   "execution_count": 52,
   "metadata": {},
   "outputs": [
    {
     "name": "stdout",
     "output_type": "stream",
     "text": [
      "8\n"
     ]
    },
    {
     "data": {
      "image/png": "[encoded data removed]",
      "text/plain": [
       "<Figure size 432x288 with 1 Axes>"
      ]
     },
     "metadata": {
      "needs_background": "light"
     },
     "output_type": "display_data"
    }
   ],
   "source": [
    "minpc = np.where(var1 > 90)[0][0]\n",
    "print(minpc)\n",
    "plt.plot(var1)\n",
    "plt.show()"
   ]
  },
  {
   "cell_type": "code",
   "execution_count": 29,
   "metadata": {},
   "outputs": [
    {
     "data": {
      "text/plain": [
       "((17009,), (17009, 32284))"
      ]
     },
     "execution_count": 29,
     "metadata": {},
     "output_type": "execute_result"
    }
   ],
   "source": [
    "lab.shape, gene_all.shape"
   ]
  },
  {
   "cell_type": "code",
   "execution_count": 110,
   "metadata": {},
   "outputs": [],
   "source": [
    "from sklearn.decomposition import PCA\n",
    "from sklearn.preprocessing import StandardScaler\n",
    "scaler = StandardScaler(with_mean=True, with_std=True)\n",
    "X_sc = scaler.fit_transform(gene_all)\n",
    "\n",
    "#find the top n PCs of gene data\n",
    "pca = PCA(n_components=8)\n",
    "pca.fit(X_sc)\n",
    "X_pc = pca.transform(X_sc)\n"
   ]
  },
  {
   "cell_type": "code",
   "execution_count": 111,
   "metadata": {},
   "outputs": [
    {
     "data": {
      "text/plain": [
       "((11396, 8), (11396,), (5613, 8), (5613,))"
      ]
     },
     "execution_count": 111,
     "metadata": {},
     "output_type": "execute_result"
    }
   ],
   "source": [
    "#Split into train and test\n",
    "X_train, X_test, y_train, y_test = train_test_split(X_pc, lab, test_size=0.33, random_state=42)\n",
    "X_train.shape, y_train.shape, X_test.shape, y_test.shape"
   ]
  },
  {
   "cell_type": "code",
   "execution_count": 112,
   "metadata": {},
   "outputs": [
    {
     "name": "stdout",
     "output_type": "stream",
     "text": [
      "Original dataset shape: Counter({0: 11273, 1: 123})\n",
      "Resample dataset shape Counter({0: 123, 1: 123})\n"
     ]
    }
   ],
   "source": [
    "#Random under sampling\n",
    "from imblearn.under_sampling import RandomUnderSampler\n",
    "from collections import Counter\n",
    "\n",
    "rus = RandomUnderSampler(random_state=42, replacement=True)# fit predictor and target variable\n",
    "x_rus, y_rus = rus.fit_resample(X_train, y_train)\n",
    "print('Original dataset shape:', Counter(y_train))\n",
    "print('Resample dataset shape', Counter(y_rus))"
   ]
  },
  {
   "cell_type": "code",
   "execution_count": 114,
   "metadata": {},
   "outputs": [
    {
     "name": "stdout",
     "output_type": "stream",
     "text": [
      "Non-plaque accuracy = 0.706 , 3923 of 5558\n",
      "Plaque accuracy = 0.87 , 48 of 55\n"
     ]
    }
   ],
   "source": [
    "#Fit model and predict\n",
    "clf = LogisticRegression(max_iter=1000, penalty='l2').fit(x_rus, y_rus)\n",
    "pred = clf.predict(X_test)\n",
    "true = y_test\n",
    "report_class_acc(true, pred)"
   ]
  },
  {
   "cell_type": "code",
   "execution_count": 67,
   "metadata": {},
   "outputs": [
    {
     "data": {
      "text/plain": [
       "3"
      ]
     },
     "execution_count": 67,
     "metadata": {},
     "output_type": "execute_result"
    }
   ],
   "source": [
    "sum(true[np.where(true==1)] == pred[np.where(true==1)]) "
   ]
  },
  {
   "cell_type": "code",
   "execution_count": 41,
   "metadata": {},
   "outputs": [
    {
     "data": {
      "text/plain": [
       "array([0, 1])"
      ]
     },
     "execution_count": 41,
     "metadata": {},
     "output_type": "execute_result"
    }
   ],
   "source": [
    "np.unique(true)"
   ]
  },
  {
   "cell_type": "code",
   "execution_count": 49,
   "metadata": {},
   "outputs": [
    {
     "data": {
      "text/plain": [
       "[<matplotlib.lines.Line2D at 0x7f6e8f285cd0>]"
      ]
     },
     "execution_count": 49,
     "metadata": {},
     "output_type": "execute_result"
    },
    {
     "data": {
      "image/png": "[encoded data removed]",
      "text/plain": [
       "<Figure size 432x288 with 1 Axes>"
      ]
     },
     "metadata": {
      "needs_background": "light"
     },
     "output_type": "display_data"
    }
   ],
   "source": [
    "plt.plot(y_train)\n",
    "plt.plot(pred)"
   ]
  }
 ],
 "metadata": {
  "kernelspec": {
   "display_name": "pymc_conda",
   "language": "python",
   "name": "python3"
  },
  "language_info": {
   "codemirror_mode": {
    "name": "ipython",
    "version": 3
   },
   "file_extension": ".py",
   "mimetype": "text/x-python",
   "name": "python",
   "nbconvert_exporter": "python",
   "pygments_lexer": "ipython3",
   "version": "3.9.7"
  },
  "orig_nbformat": 4
 },
 "nbformat": 4,
 "nbformat_minor": 2
}
