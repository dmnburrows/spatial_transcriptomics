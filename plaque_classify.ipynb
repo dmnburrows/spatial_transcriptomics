{
 "cells": [
  {
   "cell_type": "code",
   "execution_count": 2,
   "metadata": {},
   "outputs": [
    {
     "name": "stdout",
     "output_type": "stream",
     "text": [
      "The autoreload extension is already loaded. To reload it, use:\n",
      "  %reload_ext autoreload\n"
     ]
    },
    {
     "data": {
      "text/plain": [
       "'3.9.16 (main, Jan 11 2023, 16:05:54) \\n[GCC 11.2.0]'"
      ]
     },
     "execution_count": 2,
     "metadata": {},
     "output_type": "execute_result"
    }
   ],
   "source": [
    "#Conda env: py_3916\n",
    "\n",
    "#Import packages\n",
    "#---------------------------------------\n",
    "import sys\n",
    "from matplotlib import pyplot as plt\n",
    "import numpy as np\n",
    "import json\n",
    "import pandas as pd\n",
    "import seaborn as sns\n",
    "import imblearn\n",
    "\n",
    "\n",
    "#Import your modules\n",
    "#---------------------------------------\n",
    "import plaque_f as pf\n",
    "\n",
    "# Define paths\n",
    "#----------------------------------------------------------------------\n",
    "l_code = '/Users/dominicburrows/Dropbox/PhD/Analysis/my_scripts/GitHub/'\n",
    "l_data = '/Users/dominicburrows/Dropbox/PhD/analysis/Project/'\n",
    "l_fig = '/Users/dominicburrows/Dropbox/PhD/figures/'\n",
    "\n",
    "s_code = '/cndd3/dburrows/CODE/'\n",
    "s_data = '/cndd3/dburrows/DATA/'\n",
    "s_fig = '/cndd3/dburrows/FIGS/'\n",
    "\n",
    "%load_ext autoreload\n",
    "sys.version"
   ]
  },
  {
   "attachments": {},
   "cell_type": "markdown",
   "metadata": {},
   "source": [
    "# Load data"
   ]
  },
  {
   "cell_type": "code",
   "execution_count": 16,
   "metadata": {},
   "outputs": [],
   "source": [
    "def run_(name):\n",
    "    # Declare paths\n",
    "    data_path = s_data + 'spatial_transcriptomics/plaques/old/' + name + '.json'\n",
    "    coord_path = '/cndd2/agelber/hal/qc_aligned/' + name + '/outs/spatial/tissue_positions.csv'\n",
    "    genes_path = '/cndd2/agelber/hal/qc_aligned/' + name + '/outs/filtered_feature_bc_matrix.h5'\n",
    "    meta = pd.read_csv('/cndd3/dburrows/DATA/spatial_transcriptomics/plaques/old/allspots_meta.csv') #FILTERED\n",
    "    meta_filt = meta[meta['sample'] == name]\n",
    "\n",
    "    spot_df, gene_df = pf.sort_data(data_path, coord_path, genes_path, \n",
    "                                    meta_filt, min_cell_per_gene=100, norm_factor=1e6)\n",
    "    \n",
    "    #Sanity check\n",
    "    assert spot_df.shape[0] == gene_df.shape[0] == meta_filt.shape[0]\n",
    "    assert 'Thy1' not in gene_df.columns.values or 'humanAPP' not in gene_df.columns.values\n",
    "    print('Number of spots: ' + str(gene_df.shape[0]))\n",
    "    print('Number of genes: ' + str(gene_df.shape[1]))\n",
    "    return(spot_df, gene_df)"
   ]
  },
  {
   "cell_type": "code",
   "execution_count": null,
   "metadata": {},
   "outputs": [],
   "source": [
    "name = '030-D'\n",
    "spot_df, gene_df = run_(name)"
   ]
  },
  {
   "cell_type": "code",
   "execution_count": 13,
   "metadata": {},
   "outputs": [
    {
     "data": {
      "text/html": [
       "<div>\n",
       "<style scoped>\n",
       "    .dataframe tbody tr th:only-of-type {\n",
       "        vertical-align: middle;\n",
       "    }\n",
       "\n",
       "    .dataframe tbody tr th {\n",
       "        vertical-align: top;\n",
       "    }\n",
       "\n",
       "    .dataframe thead th {\n",
       "        text-align: right;\n",
       "    }\n",
       "</style>\n",
       "<table border=\"1\" class=\"dataframe\">\n",
       "  <thead>\n",
       "    <tr style=\"text-align: right;\">\n",
       "      <th></th>\n",
       "      <th>barcode</th>\n",
       "      <th>in_tissue</th>\n",
       "      <th>array_row</th>\n",
       "      <th>array_col</th>\n",
       "      <th>pxl_row_in_fullres</th>\n",
       "      <th>pxl_col_in_fullres</th>\n",
       "      <th>plaque</th>\n",
       "      <th>cluster</th>\n",
       "      <th>anot</th>\n",
       "    </tr>\n",
       "  </thead>\n",
       "  <tbody>\n",
       "    <tr>\n",
       "      <th>120914</th>\n",
       "      <td>AAACAAGTATCTCCCA-1</td>\n",
       "      <td>1</td>\n",
       "      <td>50</td>\n",
       "      <td>102</td>\n",
       "      <td>409</td>\n",
       "      <td>1492</td>\n",
       "      <td>0</td>\n",
       "      <td>17</td>\n",
       "      <td>Piriform Cortex</td>\n",
       "    </tr>\n",
       "    <tr>\n",
       "      <th>120915</th>\n",
       "      <td>AAACAATCTACTAGCA-1</td>\n",
       "      <td>1</td>\n",
       "      <td>3</td>\n",
       "      <td>43</td>\n",
       "      <td>1046</td>\n",
       "      <td>615</td>\n",
       "      <td>0</td>\n",
       "      <td>12</td>\n",
       "      <td>Fiber Tracts 2</td>\n",
       "    </tr>\n",
       "    <tr>\n",
       "      <th>120916</th>\n",
       "      <td>AAACAGAGCGACTCCT-1</td>\n",
       "      <td>1</td>\n",
       "      <td>14</td>\n",
       "      <td>94</td>\n",
       "      <td>497</td>\n",
       "      <td>819</td>\n",
       "      <td>0</td>\n",
       "      <td>2</td>\n",
       "      <td>CA1/Other HPF</td>\n",
       "    </tr>\n",
       "    <tr>\n",
       "      <th>120917</th>\n",
       "      <td>AAACAGTGTTCCTGGG-1</td>\n",
       "      <td>1</td>\n",
       "      <td>73</td>\n",
       "      <td>43</td>\n",
       "      <td>1041</td>\n",
       "      <td>1924</td>\n",
       "      <td>0</td>\n",
       "      <td>7</td>\n",
       "      <td>Cortex Layer 2/3</td>\n",
       "    </tr>\n",
       "    <tr>\n",
       "      <th>120918</th>\n",
       "      <td>AAACATTTCCCGGATT-1</td>\n",
       "      <td>1</td>\n",
       "      <td>61</td>\n",
       "      <td>97</td>\n",
       "      <td>461</td>\n",
       "      <td>1697</td>\n",
       "      <td>0</td>\n",
       "      <td>17</td>\n",
       "      <td>Piriform Cortex</td>\n",
       "    </tr>\n",
       "    <tr>\n",
       "      <th>...</th>\n",
       "      <td>...</td>\n",
       "      <td>...</td>\n",
       "      <td>...</td>\n",
       "      <td>...</td>\n",
       "      <td>...</td>\n",
       "      <td>...</td>\n",
       "      <td>...</td>\n",
       "      <td>...</td>\n",
       "      <td>...</td>\n",
       "    </tr>\n",
       "    <tr>\n",
       "      <th>124291</th>\n",
       "      <td>TTGTTTCACATCCAGG-1</td>\n",
       "      <td>1</td>\n",
       "      <td>58</td>\n",
       "      <td>42</td>\n",
       "      <td>1053</td>\n",
       "      <td>1644</td>\n",
       "      <td>0</td>\n",
       "      <td>1</td>\n",
       "      <td>Cortex Layer 5/6a</td>\n",
       "    </tr>\n",
       "    <tr>\n",
       "      <th>124292</th>\n",
       "      <td>TTGTTTCATTAGTCTA-1</td>\n",
       "      <td>1</td>\n",
       "      <td>60</td>\n",
       "      <td>30</td>\n",
       "      <td>1182</td>\n",
       "      <td>1682</td>\n",
       "      <td>0</td>\n",
       "      <td>7</td>\n",
       "      <td>Cortex Layer 2/3</td>\n",
       "    </tr>\n",
       "    <tr>\n",
       "      <th>124293</th>\n",
       "      <td>TTGTTTCCATACAACT-1</td>\n",
       "      <td>1</td>\n",
       "      <td>45</td>\n",
       "      <td>27</td>\n",
       "      <td>1215</td>\n",
       "      <td>1401</td>\n",
       "      <td>0</td>\n",
       "      <td>7</td>\n",
       "      <td>Cortex Layer 2/3</td>\n",
       "    </tr>\n",
       "    <tr>\n",
       "      <th>124294</th>\n",
       "      <td>TTGTTTGTATTACACG-1</td>\n",
       "      <td>1</td>\n",
       "      <td>73</td>\n",
       "      <td>41</td>\n",
       "      <td>1062</td>\n",
       "      <td>1924</td>\n",
       "      <td>0</td>\n",
       "      <td>7</td>\n",
       "      <td>Cortex Layer 2/3</td>\n",
       "    </tr>\n",
       "    <tr>\n",
       "      <th>124295</th>\n",
       "      <td>TTGTTTGTGTAAATTC-1</td>\n",
       "      <td>1</td>\n",
       "      <td>7</td>\n",
       "      <td>51</td>\n",
       "      <td>960</td>\n",
       "      <td>690</td>\n",
       "      <td>0</td>\n",
       "      <td>2</td>\n",
       "      <td>CA1/Other HPF</td>\n",
       "    </tr>\n",
       "  </tbody>\n",
       "</table>\n",
       "<p>3382 rows × 9 columns</p>\n",
       "</div>"
      ],
      "text/plain": [
       "                   barcode in_tissue array_row array_col pxl_row_in_fullres  \\\n",
       "120914  AAACAAGTATCTCCCA-1         1        50       102                409   \n",
       "120915  AAACAATCTACTAGCA-1         1         3        43               1046   \n",
       "120916  AAACAGAGCGACTCCT-1         1        14        94                497   \n",
       "120917  AAACAGTGTTCCTGGG-1         1        73        43               1041   \n",
       "120918  AAACATTTCCCGGATT-1         1        61        97                461   \n",
       "...                    ...       ...       ...       ...                ...   \n",
       "124291  TTGTTTCACATCCAGG-1         1        58        42               1053   \n",
       "124292  TTGTTTCATTAGTCTA-1         1        60        30               1182   \n",
       "124293  TTGTTTCCATACAACT-1         1        45        27               1215   \n",
       "124294  TTGTTTGTATTACACG-1         1        73        41               1062   \n",
       "124295  TTGTTTGTGTAAATTC-1         1         7        51                960   \n",
       "\n",
       "       pxl_col_in_fullres  plaque  cluster               anot  \n",
       "120914               1492       0       17    Piriform Cortex  \n",
       "120915                615       0       12     Fiber Tracts 2  \n",
       "120916                819       0        2      CA1/Other HPF  \n",
       "120917               1924       0        7   Cortex Layer 2/3  \n",
       "120918               1697       0       17    Piriform Cortex  \n",
       "...                   ...     ...      ...                ...  \n",
       "124291               1644       0        1  Cortex Layer 5/6a  \n",
       "124292               1682       0        7   Cortex Layer 2/3  \n",
       "124293               1401       0        7   Cortex Layer 2/3  \n",
       "124294               1924       0        7   Cortex Layer 2/3  \n",
       "124295                690       0        2      CA1/Other HPF  \n",
       "\n",
       "[3382 rows x 9 columns]"
      ]
     },
     "execution_count": 13,
     "metadata": {},
     "output_type": "execute_result"
    }
   ],
   "source": [
    "spot_df"
   ]
  },
  {
   "cell_type": "code",
   "execution_count": 14,
   "metadata": {},
   "outputs": [
    {
     "data": {
      "text/html": [
       "<div>\n",
       "<style scoped>\n",
       "    .dataframe tbody tr th:only-of-type {\n",
       "        vertical-align: middle;\n",
       "    }\n",
       "\n",
       "    .dataframe tbody tr th {\n",
       "        vertical-align: top;\n",
       "    }\n",
       "\n",
       "    .dataframe thead th {\n",
       "        text-align: right;\n",
       "    }\n",
       "</style>\n",
       "<table border=\"1\" class=\"dataframe\">\n",
       "  <thead>\n",
       "    <tr style=\"text-align: right;\">\n",
       "      <th></th>\n",
       "      <th>Xkr4</th>\n",
       "      <th>Gm1992</th>\n",
       "      <th>Gm19938</th>\n",
       "      <th>Gm37381</th>\n",
       "      <th>Rp1</th>\n",
       "      <th>Sox17</th>\n",
       "      <th>Gm37587</th>\n",
       "      <th>Gm37323</th>\n",
       "      <th>Mrpl15</th>\n",
       "      <th>Lypla1</th>\n",
       "      <th>...</th>\n",
       "      <th>Gm16367</th>\n",
       "      <th>AC163611.1</th>\n",
       "      <th>AC163611.2</th>\n",
       "      <th>AC140365.1</th>\n",
       "      <th>AC124606.2</th>\n",
       "      <th>AC124606.1</th>\n",
       "      <th>AC133095.2</th>\n",
       "      <th>AC133095.1</th>\n",
       "      <th>AC234645.1</th>\n",
       "      <th>AC149090.1</th>\n",
       "    </tr>\n",
       "  </thead>\n",
       "  <tbody>\n",
       "    <tr>\n",
       "      <th>AAACAAGTATCTCCCA-1</th>\n",
       "      <td>0.0</td>\n",
       "      <td>0.0</td>\n",
       "      <td>0.0</td>\n",
       "      <td>0.0</td>\n",
       "      <td>0.0</td>\n",
       "      <td>214.500214</td>\n",
       "      <td>0.0</td>\n",
       "      <td>0.0</td>\n",
       "      <td>0.000000</td>\n",
       "      <td>0.000000</td>\n",
       "      <td>...</td>\n",
       "      <td>0.0</td>\n",
       "      <td>0.0</td>\n",
       "      <td>0.0</td>\n",
       "      <td>0.0</td>\n",
       "      <td>0.0</td>\n",
       "      <td>0.0</td>\n",
       "      <td>0.0</td>\n",
       "      <td>0.0</td>\n",
       "      <td>0.0</td>\n",
       "      <td>143.000137</td>\n",
       "    </tr>\n",
       "    <tr>\n",
       "      <th>AAACAATCTACTAGCA-1</th>\n",
       "      <td>0.0</td>\n",
       "      <td>0.0</td>\n",
       "      <td>0.0</td>\n",
       "      <td>0.0</td>\n",
       "      <td>0.0</td>\n",
       "      <td>0.000000</td>\n",
       "      <td>0.0</td>\n",
       "      <td>0.0</td>\n",
       "      <td>0.000000</td>\n",
       "      <td>0.000000</td>\n",
       "      <td>...</td>\n",
       "      <td>0.0</td>\n",
       "      <td>0.0</td>\n",
       "      <td>0.0</td>\n",
       "      <td>0.0</td>\n",
       "      <td>0.0</td>\n",
       "      <td>0.0</td>\n",
       "      <td>0.0</td>\n",
       "      <td>0.0</td>\n",
       "      <td>0.0</td>\n",
       "      <td>0.000000</td>\n",
       "    </tr>\n",
       "    <tr>\n",
       "      <th>AAACAGAGCGACTCCT-1</th>\n",
       "      <td>0.0</td>\n",
       "      <td>0.0</td>\n",
       "      <td>0.0</td>\n",
       "      <td>0.0</td>\n",
       "      <td>0.0</td>\n",
       "      <td>0.000000</td>\n",
       "      <td>0.0</td>\n",
       "      <td>0.0</td>\n",
       "      <td>0.000000</td>\n",
       "      <td>0.000000</td>\n",
       "      <td>...</td>\n",
       "      <td>0.0</td>\n",
       "      <td>0.0</td>\n",
       "      <td>0.0</td>\n",
       "      <td>0.0</td>\n",
       "      <td>0.0</td>\n",
       "      <td>0.0</td>\n",
       "      <td>0.0</td>\n",
       "      <td>0.0</td>\n",
       "      <td>0.0</td>\n",
       "      <td>156.727539</td>\n",
       "    </tr>\n",
       "    <tr>\n",
       "      <th>AAACAGTGTTCCTGGG-1</th>\n",
       "      <td>0.0</td>\n",
       "      <td>0.0</td>\n",
       "      <td>0.0</td>\n",
       "      <td>0.0</td>\n",
       "      <td>0.0</td>\n",
       "      <td>0.000000</td>\n",
       "      <td>0.0</td>\n",
       "      <td>0.0</td>\n",
       "      <td>0.000000</td>\n",
       "      <td>35.817902</td>\n",
       "      <td>...</td>\n",
       "      <td>0.0</td>\n",
       "      <td>0.0</td>\n",
       "      <td>0.0</td>\n",
       "      <td>0.0</td>\n",
       "      <td>0.0</td>\n",
       "      <td>0.0</td>\n",
       "      <td>0.0</td>\n",
       "      <td>0.0</td>\n",
       "      <td>0.0</td>\n",
       "      <td>286.543213</td>\n",
       "    </tr>\n",
       "    <tr>\n",
       "      <th>AAACATTTCCCGGATT-1</th>\n",
       "      <td>0.0</td>\n",
       "      <td>0.0</td>\n",
       "      <td>0.0</td>\n",
       "      <td>0.0</td>\n",
       "      <td>0.0</td>\n",
       "      <td>0.000000</td>\n",
       "      <td>0.0</td>\n",
       "      <td>0.0</td>\n",
       "      <td>96.331696</td>\n",
       "      <td>38.532677</td>\n",
       "      <td>...</td>\n",
       "      <td>0.0</td>\n",
       "      <td>0.0</td>\n",
       "      <td>0.0</td>\n",
       "      <td>0.0</td>\n",
       "      <td>0.0</td>\n",
       "      <td>0.0</td>\n",
       "      <td>0.0</td>\n",
       "      <td>0.0</td>\n",
       "      <td>0.0</td>\n",
       "      <td>385.326782</td>\n",
       "    </tr>\n",
       "    <tr>\n",
       "      <th>...</th>\n",
       "      <td>...</td>\n",
       "      <td>...</td>\n",
       "      <td>...</td>\n",
       "      <td>...</td>\n",
       "      <td>...</td>\n",
       "      <td>...</td>\n",
       "      <td>...</td>\n",
       "      <td>...</td>\n",
       "      <td>...</td>\n",
       "      <td>...</td>\n",
       "      <td>...</td>\n",
       "      <td>...</td>\n",
       "      <td>...</td>\n",
       "      <td>...</td>\n",
       "      <td>...</td>\n",
       "      <td>...</td>\n",
       "      <td>...</td>\n",
       "      <td>...</td>\n",
       "      <td>...</td>\n",
       "      <td>...</td>\n",
       "      <td>...</td>\n",
       "    </tr>\n",
       "    <tr>\n",
       "      <th>TTGTTTCACATCCAGG-1</th>\n",
       "      <td>0.0</td>\n",
       "      <td>0.0</td>\n",
       "      <td>0.0</td>\n",
       "      <td>0.0</td>\n",
       "      <td>0.0</td>\n",
       "      <td>0.000000</td>\n",
       "      <td>0.0</td>\n",
       "      <td>0.0</td>\n",
       "      <td>73.545631</td>\n",
       "      <td>36.772816</td>\n",
       "      <td>...</td>\n",
       "      <td>0.0</td>\n",
       "      <td>0.0</td>\n",
       "      <td>0.0</td>\n",
       "      <td>0.0</td>\n",
       "      <td>0.0</td>\n",
       "      <td>0.0</td>\n",
       "      <td>0.0</td>\n",
       "      <td>0.0</td>\n",
       "      <td>0.0</td>\n",
       "      <td>257.409698</td>\n",
       "    </tr>\n",
       "    <tr>\n",
       "      <th>TTGTTTCATTAGTCTA-1</th>\n",
       "      <td>0.0</td>\n",
       "      <td>0.0</td>\n",
       "      <td>0.0</td>\n",
       "      <td>0.0</td>\n",
       "      <td>0.0</td>\n",
       "      <td>0.000000</td>\n",
       "      <td>0.0</td>\n",
       "      <td>0.0</td>\n",
       "      <td>0.000000</td>\n",
       "      <td>38.836460</td>\n",
       "      <td>...</td>\n",
       "      <td>0.0</td>\n",
       "      <td>0.0</td>\n",
       "      <td>0.0</td>\n",
       "      <td>0.0</td>\n",
       "      <td>0.0</td>\n",
       "      <td>0.0</td>\n",
       "      <td>0.0</td>\n",
       "      <td>0.0</td>\n",
       "      <td>0.0</td>\n",
       "      <td>310.691681</td>\n",
       "    </tr>\n",
       "    <tr>\n",
       "      <th>TTGTTTCCATACAACT-1</th>\n",
       "      <td>0.0</td>\n",
       "      <td>0.0</td>\n",
       "      <td>0.0</td>\n",
       "      <td>0.0</td>\n",
       "      <td>0.0</td>\n",
       "      <td>0.000000</td>\n",
       "      <td>0.0</td>\n",
       "      <td>0.0</td>\n",
       "      <td>68.051895</td>\n",
       "      <td>113.419830</td>\n",
       "      <td>...</td>\n",
       "      <td>0.0</td>\n",
       "      <td>0.0</td>\n",
       "      <td>0.0</td>\n",
       "      <td>0.0</td>\n",
       "      <td>0.0</td>\n",
       "      <td>0.0</td>\n",
       "      <td>0.0</td>\n",
       "      <td>0.0</td>\n",
       "      <td>0.0</td>\n",
       "      <td>181.471725</td>\n",
       "    </tr>\n",
       "    <tr>\n",
       "      <th>TTGTTTGTATTACACG-1</th>\n",
       "      <td>0.0</td>\n",
       "      <td>0.0</td>\n",
       "      <td>0.0</td>\n",
       "      <td>0.0</td>\n",
       "      <td>0.0</td>\n",
       "      <td>0.000000</td>\n",
       "      <td>0.0</td>\n",
       "      <td>0.0</td>\n",
       "      <td>0.000000</td>\n",
       "      <td>0.000000</td>\n",
       "      <td>...</td>\n",
       "      <td>0.0</td>\n",
       "      <td>0.0</td>\n",
       "      <td>0.0</td>\n",
       "      <td>0.0</td>\n",
       "      <td>0.0</td>\n",
       "      <td>0.0</td>\n",
       "      <td>0.0</td>\n",
       "      <td>0.0</td>\n",
       "      <td>0.0</td>\n",
       "      <td>116.584091</td>\n",
       "    </tr>\n",
       "    <tr>\n",
       "      <th>TTGTTTGTGTAAATTC-1</th>\n",
       "      <td>0.0</td>\n",
       "      <td>0.0</td>\n",
       "      <td>0.0</td>\n",
       "      <td>0.0</td>\n",
       "      <td>0.0</td>\n",
       "      <td>0.000000</td>\n",
       "      <td>0.0</td>\n",
       "      <td>0.0</td>\n",
       "      <td>0.000000</td>\n",
       "      <td>0.000000</td>\n",
       "      <td>...</td>\n",
       "      <td>0.0</td>\n",
       "      <td>0.0</td>\n",
       "      <td>0.0</td>\n",
       "      <td>0.0</td>\n",
       "      <td>0.0</td>\n",
       "      <td>0.0</td>\n",
       "      <td>0.0</td>\n",
       "      <td>0.0</td>\n",
       "      <td>0.0</td>\n",
       "      <td>121.197426</td>\n",
       "    </tr>\n",
       "  </tbody>\n",
       "</table>\n",
       "<p>3382 rows × 32284 columns</p>\n",
       "</div>"
      ],
      "text/plain": [
       "                    Xkr4  Gm1992  Gm19938  Gm37381  Rp1       Sox17  Gm37587  \\\n",
       "AAACAAGTATCTCCCA-1   0.0     0.0      0.0      0.0  0.0  214.500214      0.0   \n",
       "AAACAATCTACTAGCA-1   0.0     0.0      0.0      0.0  0.0    0.000000      0.0   \n",
       "AAACAGAGCGACTCCT-1   0.0     0.0      0.0      0.0  0.0    0.000000      0.0   \n",
       "AAACAGTGTTCCTGGG-1   0.0     0.0      0.0      0.0  0.0    0.000000      0.0   \n",
       "AAACATTTCCCGGATT-1   0.0     0.0      0.0      0.0  0.0    0.000000      0.0   \n",
       "...                  ...     ...      ...      ...  ...         ...      ...   \n",
       "TTGTTTCACATCCAGG-1   0.0     0.0      0.0      0.0  0.0    0.000000      0.0   \n",
       "TTGTTTCATTAGTCTA-1   0.0     0.0      0.0      0.0  0.0    0.000000      0.0   \n",
       "TTGTTTCCATACAACT-1   0.0     0.0      0.0      0.0  0.0    0.000000      0.0   \n",
       "TTGTTTGTATTACACG-1   0.0     0.0      0.0      0.0  0.0    0.000000      0.0   \n",
       "TTGTTTGTGTAAATTC-1   0.0     0.0      0.0      0.0  0.0    0.000000      0.0   \n",
       "\n",
       "                    Gm37323     Mrpl15      Lypla1  ...  Gm16367  AC163611.1  \\\n",
       "AAACAAGTATCTCCCA-1      0.0   0.000000    0.000000  ...      0.0         0.0   \n",
       "AAACAATCTACTAGCA-1      0.0   0.000000    0.000000  ...      0.0         0.0   \n",
       "AAACAGAGCGACTCCT-1      0.0   0.000000    0.000000  ...      0.0         0.0   \n",
       "AAACAGTGTTCCTGGG-1      0.0   0.000000   35.817902  ...      0.0         0.0   \n",
       "AAACATTTCCCGGATT-1      0.0  96.331696   38.532677  ...      0.0         0.0   \n",
       "...                     ...        ...         ...  ...      ...         ...   \n",
       "TTGTTTCACATCCAGG-1      0.0  73.545631   36.772816  ...      0.0         0.0   \n",
       "TTGTTTCATTAGTCTA-1      0.0   0.000000   38.836460  ...      0.0         0.0   \n",
       "TTGTTTCCATACAACT-1      0.0  68.051895  113.419830  ...      0.0         0.0   \n",
       "TTGTTTGTATTACACG-1      0.0   0.000000    0.000000  ...      0.0         0.0   \n",
       "TTGTTTGTGTAAATTC-1      0.0   0.000000    0.000000  ...      0.0         0.0   \n",
       "\n",
       "                    AC163611.2  AC140365.1  AC124606.2  AC124606.1  \\\n",
       "AAACAAGTATCTCCCA-1         0.0         0.0         0.0         0.0   \n",
       "AAACAATCTACTAGCA-1         0.0         0.0         0.0         0.0   \n",
       "AAACAGAGCGACTCCT-1         0.0         0.0         0.0         0.0   \n",
       "AAACAGTGTTCCTGGG-1         0.0         0.0         0.0         0.0   \n",
       "AAACATTTCCCGGATT-1         0.0         0.0         0.0         0.0   \n",
       "...                        ...         ...         ...         ...   \n",
       "TTGTTTCACATCCAGG-1         0.0         0.0         0.0         0.0   \n",
       "TTGTTTCATTAGTCTA-1         0.0         0.0         0.0         0.0   \n",
       "TTGTTTCCATACAACT-1         0.0         0.0         0.0         0.0   \n",
       "TTGTTTGTATTACACG-1         0.0         0.0         0.0         0.0   \n",
       "TTGTTTGTGTAAATTC-1         0.0         0.0         0.0         0.0   \n",
       "\n",
       "                    AC133095.2  AC133095.1  AC234645.1  AC149090.1  \n",
       "AAACAAGTATCTCCCA-1         0.0         0.0         0.0  143.000137  \n",
       "AAACAATCTACTAGCA-1         0.0         0.0         0.0    0.000000  \n",
       "AAACAGAGCGACTCCT-1         0.0         0.0         0.0  156.727539  \n",
       "AAACAGTGTTCCTGGG-1         0.0         0.0         0.0  286.543213  \n",
       "AAACATTTCCCGGATT-1         0.0         0.0         0.0  385.326782  \n",
       "...                        ...         ...         ...         ...  \n",
       "TTGTTTCACATCCAGG-1         0.0         0.0         0.0  257.409698  \n",
       "TTGTTTCATTAGTCTA-1         0.0         0.0         0.0  310.691681  \n",
       "TTGTTTCCATACAACT-1         0.0         0.0         0.0  181.471725  \n",
       "TTGTTTGTATTACACG-1         0.0         0.0         0.0  116.584091  \n",
       "TTGTTTGTGTAAATTC-1         0.0         0.0         0.0  121.197426  \n",
       "\n",
       "[3382 rows x 32284 columns]"
      ]
     },
     "execution_count": 14,
     "metadata": {},
     "output_type": "execute_result"
    }
   ],
   "source": [
    "gene_df"
   ]
  },
  {
   "cell_type": "code",
   "execution_count": 10,
   "metadata": {},
   "outputs": [
    {
     "name": "stderr",
     "output_type": "stream",
     "text": [
      "/home/dburrows/anaconda3/envs/py_3916/lib/python3.9/site-packages/anndata/_core/anndata.py:1830: UserWarning: Variable names are not unique. To make them unique, call `.var_names_make_unique`.\n",
      "  utils.warn_names_duplicates(\"var\")\n"
     ]
    },
    {
     "name": "stdout",
     "output_type": "stream",
     "text": [
      "Number of spots: 2939\n",
      "Number of genes: 32284\n"
     ]
    },
    {
     "name": "stderr",
     "output_type": "stream",
     "text": [
      "/home/dburrows/anaconda3/envs/py_3916/lib/python3.9/site-packages/anndata/_core/anndata.py:1830: UserWarning: Variable names are not unique. To make them unique, call `.var_names_make_unique`.\n",
      "  utils.warn_names_duplicates(\"var\")\n"
     ]
    },
    {
     "name": "stdout",
     "output_type": "stream",
     "text": [
      "Number of spots: 3532\n",
      "Number of genes: 32284\n"
     ]
    },
    {
     "name": "stderr",
     "output_type": "stream",
     "text": [
      "/home/dburrows/anaconda3/envs/py_3916/lib/python3.9/site-packages/anndata/_core/anndata.py:1830: UserWarning: Variable names are not unique. To make them unique, call `.var_names_make_unique`.\n",
      "  utils.warn_names_duplicates(\"var\")\n"
     ]
    },
    {
     "name": "stdout",
     "output_type": "stream",
     "text": [
      "Number of spots: 3465\n",
      "Number of genes: 32284\n"
     ]
    },
    {
     "name": "stderr",
     "output_type": "stream",
     "text": [
      "/home/dburrows/anaconda3/envs/py_3916/lib/python3.9/site-packages/anndata/_core/anndata.py:1830: UserWarning: Variable names are not unique. To make them unique, call `.var_names_make_unique`.\n",
      "  utils.warn_names_duplicates(\"var\")\n"
     ]
    },
    {
     "name": "stdout",
     "output_type": "stream",
     "text": [
      "Number of spots: 3616\n",
      "Number of genes: 32284\n"
     ]
    },
    {
     "name": "stderr",
     "output_type": "stream",
     "text": [
      "/home/dburrows/anaconda3/envs/py_3916/lib/python3.9/site-packages/anndata/_core/anndata.py:1830: UserWarning: Variable names are not unique. To make them unique, call `.var_names_make_unique`.\n",
      "  utils.warn_names_duplicates(\"var\")\n"
     ]
    },
    {
     "name": "stdout",
     "output_type": "stream",
     "text": [
      "Number of spots: 3457\n",
      "Number of genes: 32284\n"
     ]
    }
   ],
   "source": [
    "#group data together\n",
    "name_l = '030-B', '030-C', '040-A', '040-C', '040-D'\n",
    "\n",
    "for name in name_l:\n",
    "    spot_df, gene_df = run_(name)\n",
    "    if name == name_l[0]: \n",
    "        gene_all = gene_df\n",
    "        lab = spot_df['plaque']\n",
    "    else: \n",
    "        gene_all = np.vstack((gene_all, np.asarray(gene_df)))\n",
    "        lab = np.hstack((lab, spot_df['plaque']))"
   ]
  },
  {
   "cell_type": "code",
   "execution_count": 11,
   "metadata": {},
   "outputs": [
    {
     "data": {
      "text/plain": [
       "((17009, 32284), (17009,))"
      ]
     },
     "execution_count": 11,
     "metadata": {},
     "output_type": "execute_result"
    }
   ],
   "source": [
    "gene_all.shape, lab.shape"
   ]
  },
  {
   "cell_type": "code",
   "execution_count": 12,
   "metadata": {},
   "outputs": [
    {
     "name": "stdout",
     "output_type": "stream",
     "text": [
      "1.0% of spots are plaque\n"
     ]
    }
   ],
   "source": [
    "#Ascertain class imbalance\n",
    "u = np.unique(lab,return_counts=True)\n",
    "print(str(np.round(u[1][1]/sum(u[1]) * 100)) + '% of spots are plaque')"
   ]
  },
  {
   "attachments": {},
   "cell_type": "markdown",
   "metadata": {},
   "source": [
    "# Build classifier\n",
    "\n"
   ]
  },
  {
   "cell_type": "code",
   "execution_count": 14,
   "metadata": {},
   "outputs": [
    {
     "data": {
      "text/plain": [
       "((11396, 32284), (5613, 32284), (11396,), (5613,))"
      ]
     },
     "execution_count": 14,
     "metadata": {},
     "output_type": "execute_result"
    }
   ],
   "source": [
    "# classify plaque or no plaque spots based gene expression\n",
    "#----------------------------------------------------------------------\n",
    "from sklearn.linear_model import LogisticRegression\n",
    "from sklearn.model_selection import train_test_split\n",
    "import sklearn.metrics\n",
    "\n",
    "#Split into train and test\n",
    "X_train, X_test, y_train, y_test = train_test_split(gene_all, lab, test_size=0.33)\n",
    "X_train.shape, X_test.shape, y_train.shape, y_test.shape"
   ]
  },
  {
   "cell_type": "code",
   "execution_count": 170,
   "metadata": {},
   "outputs": [
    {
     "name": "stdout",
     "output_type": "stream",
     "text": [
      "Original dataset shape: Counter({0: 11269, 1: 127})\n",
      "Resample dataset shape Counter({0: 127, 1: 127})\n"
     ]
    }
   ],
   "source": [
    "#Random under sampling \n",
    "from imblearn.under_sampling import RandomUnderSampler\n",
    "from collections import Counter\n",
    "\n",
    "rus = RandomUnderSampler(replacement=True)# fit predictor and target variable\n",
    "x_rus, y_rus = rus.fit_resample(X_train, y_train)\n",
    "print('Original dataset shape:', Counter(y_train))\n",
    "print('Resample dataset shape', Counter(y_rus))"
   ]
  },
  {
   "cell_type": "code",
   "execution_count": 185,
   "metadata": {},
   "outputs": [
    {
     "name": "stdout",
     "output_type": "stream",
     "text": [
      "TOTAL ACCURACY (#correct predictions/#total predictions) = 0.758 , 4257 of 5613\n",
      "ACCURACY (#correct predictions/#total predictions) non-plaque = 0.757 , 4210 of 5562\n",
      "ACCURACY (#correct predictions/#total predictions) plaque = 0.92 , 47 of 51\n",
      "PRECISION (TP/TP+FP) non-plaque = 0.999\n",
      "PRECISION (TP/TP+FP) plaque= 0.034\n",
      "RECALL (TP/TP+FN) Non-plaque = 0.757\n",
      "RECALL (TP/TP+FN) plaque = 0.922\n",
      "F1 SCORE(2*(PR/P+R)) non-plaque = 0.861\n",
      "F1 SCORE (2*(PR/P+R)) plaque = 0.065\n",
      "TRUE POSITIVE RATE (TP/TP+FN) non-plaque = 0.757\n",
      "TRUE POSITIVE RATE (TP/TP+FN) plaque = 0.922\n",
      "FALSE POSITIVE RATE (FP/FP+TN) non-plaque  = 0.078\n",
      "FALSE POSITIVE RATE (FP/FP+TN) plaque = 0.243\n",
      "ROC AUC non-plaque = 0.914\n",
      "ROC AUC plaque = 0.914\n"
     ]
    }
   ],
   "source": [
    "#Fit model and predict\n",
    "clf = LogisticRegression(max_iter=1000, penalty='l2').fit(x_rus, y_rus)\n",
    "pred = clf.predict(X_test)\n",
    "pred_prob = clf.predict_proba(X_test)\n",
    "true = y_test\n",
    "pf.report_metrics(true, pred, pred_prob)"
   ]
  },
  {
   "cell_type": "code",
   "execution_count": 172,
   "metadata": {},
   "outputs": [
    {
     "data": {
      "image/png": "[encoded data removed]",
      "text/plain": [
       "<Figure size 576x360 with 1 Axes>"
      ]
     },
     "metadata": {
      "needs_background": "light"
     },
     "output_type": "display_data"
    }
   ],
   "source": [
    "from sklearn.metrics import PrecisionRecallDisplay\n",
    "fig, ax = plt.subplots(figsize=(8, 5))\n",
    "PrecisionRecallDisplay.from_estimator(\n",
    "    clf, X_test, y_test, name=\"Plaque\", pos_label=1, ax=ax)\n",
    "plt.show()"
   ]
  },
  {
   "cell_type": "code",
   "execution_count": 174,
   "metadata": {},
   "outputs": [
    {
     "data": {
      "image/png": "[encoded data removed]",
      "text/plain": [
       "<Figure size 576x360 with 1 Axes>"
      ]
     },
     "metadata": {
      "needs_background": "light"
     },
     "output_type": "display_data"
    }
   ],
   "source": [
    "from sklearn.metrics import PrecisionRecallDisplay\n",
    "fig, ax = plt.subplots(figsize=(8, 5))\n",
    "PrecisionRecallDisplay.from_estimator(\n",
    "    clf, X_test, y_test, name=\"Non-plaque\", pos_label=0, ax=ax)\n",
    "plt.show()"
   ]
  },
  {
   "cell_type": "code",
   "execution_count": 175,
   "metadata": {},
   "outputs": [
    {
     "data": {
      "image/png": "[encoded data removed]",
      "text/plain": [
       "<Figure size 576x360 with 1 Axes>"
      ]
     },
     "metadata": {
      "needs_background": "light"
     },
     "output_type": "display_data"
    }
   ],
   "source": [
    "fpr, tpr, thresholds = metrics.roc_curve(true, pred_prob[:,1], pos_label=1)\n",
    "roc_auc = metrics.auc(fpr, tpr)\n",
    "display = metrics.RocCurveDisplay(fpr=fpr, tpr=tpr, roc_auc=roc_auc, estimator_name='example estimator')\n",
    "#set display size\n",
    "plt.rcParams[\"figure.figsize\"] = (8,5)\n",
    "display.plot()\n",
    "plt.show()"
   ]
  },
  {
   "cell_type": "code",
   "execution_count": 15,
   "metadata": {},
   "outputs": [
    {
     "data": {
      "text/plain": [
       "((11396, 32284), (5613, 32284), (11396,), (5613,))"
      ]
     },
     "execution_count": 15,
     "metadata": {},
     "output_type": "execute_result"
    }
   ],
   "source": [
    "#Split into train and test\n",
    "X_train, X_test, y_train, y_test = train_test_split(gene_all, lab, test_size=0.33)\n",
    "X_train.shape, X_test.shape, y_train.shape, y_test.shape"
   ]
  },
  {
   "cell_type": "code",
   "execution_count": 226,
   "metadata": {},
   "outputs": [
    {
     "name": "stdout",
     "output_type": "stream",
     "text": [
      "Original dataset shape: Counter({0: 11271, 1: 125})\n",
      "Resample dataset shape Counter({0: 563, 1: 563})\n"
     ]
    }
   ],
   "source": [
    "# combine over and undersampling \n",
    "from imblearn.pipeline import Pipeline\n",
    "from imblearn.under_sampling import RandomUnderSampler\n",
    "from imblearn.over_sampling import SMOTE\n",
    "\n",
    "ros = SMOTE(sampling_strategy=0.05)# fit predictor and target variable\n",
    "rus = RandomUnderSampler(replacement=False)# fit predictor and target variable\n",
    "pipeline = Pipeline(steps=[('ros', ros), ('rus', rus)])\n",
    "X_mix, y_mix = pipeline.fit_resample(X_train, y_train)\n",
    "print('Original dataset shape:', Counter(y_train))\n",
    "print('Resample dataset shape', Counter(y_mix))\n",
    "\n",
    "#mix_pred = pipeline.predict(X_test)"
   ]
  },
  {
   "cell_type": "code",
   "execution_count": 227,
   "metadata": {},
   "outputs": [
    {
     "name": "stdout",
     "output_type": "stream",
     "text": [
      "TOTAL ACCURACY (#correct predictions/#total predictions) = 0.93 , 5220 of 5613\n",
      "ACCURACY (#correct predictions/#total predictions) non-plaque = 0.933 , 5187 of 5560\n",
      "ACCURACY (#correct predictions/#total predictions) plaque = 0.62 , 33 of 53\n",
      "PRECISION (TP/TP+FP) non-plaque = 0.996\n",
      "PRECISION (TP/TP+FP) plaque= 0.081\n",
      "RECALL (TP/TP+FN) Non-plaque = 0.933\n",
      "RECALL (TP/TP+FN) plaque = 0.623\n",
      "F1 SCORE(2*(PR/P+R)) non-plaque = 0.963\n",
      "F1 SCORE (2*(PR/P+R)) plaque = 0.144\n",
      "TRUE POSITIVE RATE (TP/TP+FN) non-plaque = 0.933\n",
      "TRUE POSITIVE RATE (TP/TP+FN) plaque = 0.623\n",
      "FALSE POSITIVE RATE (FP/FP+TN) non-plaque  = 0.377\n",
      "FALSE POSITIVE RATE (FP/FP+TN) plaque = 0.067\n",
      "ROC AUC non-plaque = 0.91\n",
      "ROC AUC plaque = 0.91\n"
     ]
    }
   ],
   "source": [
    "#Fit model and predict\n",
    "clf = LogisticRegression(max_iter=1000, penalty='l2').fit(X_mix, y_mix)\n",
    "pred = clf.predict(X_test)\n",
    "pred_prob = clf.predict_proba(X_test)\n",
    "true = y_test\n",
    "pf.report_metrics(true, pred, pred_prob)"
   ]
  },
  {
   "cell_type": "code",
   "execution_count": 224,
   "metadata": {},
   "outputs": [
    {
     "name": "stdout",
     "output_type": "stream",
     "text": [
      "TOTAL ACCURACY (#correct predictions/#total predictions) = 0.963 , 5405 of 5613\n",
      "ACCURACY (#correct predictions/#total predictions) non-plaque = 0.969 , 5385 of 5560\n",
      "ACCURACY (#correct predictions/#total predictions) plaque = 0.38 , 20 of 53\n",
      "PRECISION (TP/TP+FP) non-plaque = 0.994\n",
      "PRECISION (TP/TP+FP) plaque= 0.103\n",
      "RECALL (TP/TP+FN) Non-plaque = 0.969\n",
      "RECALL (TP/TP+FN) plaque = 0.377\n",
      "F1 SCORE(2*(PR/P+R)) non-plaque = 0.981\n",
      "F1 SCORE (2*(PR/P+R)) plaque = 0.161\n",
      "TRUE POSITIVE RATE (TP/TP+FN) non-plaque = 0.969\n",
      "TRUE POSITIVE RATE (TP/TP+FN) plaque = 0.377\n",
      "FALSE POSITIVE RATE (FP/FP+TN) non-plaque  = 0.623\n",
      "FALSE POSITIVE RATE (FP/FP+TN) plaque = 0.031\n",
      "ROC AUC non-plaque = 0.912\n",
      "ROC AUC plaque = 0.912\n"
     ]
    }
   ],
   "source": [
    "#Fit model and predict\n",
    "clf = LogisticRegression(max_iter=1000, penalty='l2').fit(X_mix, y_mix)\n",
    "pred = clf.predict(X_test)\n",
    "pred_prob = clf.predict_proba(X_test)\n",
    "true = y_test\n",
    "pf.report_metrics(true, pred, pred_prob)"
   ]
  },
  {
   "cell_type": "code",
   "execution_count": 228,
   "metadata": {},
   "outputs": [
    {
     "data": {
      "image/png": "[encoded data removed]",
      "text/plain": [
       "<Figure size 576x360 with 1 Axes>"
      ]
     },
     "metadata": {
      "needs_background": "light"
     },
     "output_type": "display_data"
    }
   ],
   "source": [
    "from sklearn.metrics import PrecisionRecallDisplay\n",
    "fig, ax = plt.subplots(figsize=(8, 5))\n",
    "PrecisionRecallDisplay.from_estimator(\n",
    "    clf, X_test, y_test, name=\"Plaque\", pos_label=1, ax=ax)\n",
    "plt.show()"
   ]
  },
  {
   "cell_type": "code",
   "execution_count": null,
   "metadata": {},
   "outputs": [],
   "source": [
    "\n",
    "#Check top n DE genes -> 100? \n",
    "gene_all"
   ]
  },
  {
   "cell_type": "code",
   "execution_count": null,
   "metadata": {},
   "outputs": [],
   "source": [
    "# Splitting -> cross validation -> tune some hyperparameters\n"
   ]
  },
  {
   "cell_type": "code",
   "execution_count": null,
   "metadata": {},
   "outputs": [],
   "source": [
    "# Try out a different model? "
   ]
  },
  {
   "cell_type": "code",
   "execution_count": 151,
   "metadata": {},
   "outputs": [
    {
     "name": "stdout",
     "output_type": "stream",
     "text": [
      "Non-plaque accuracy = 0.744 , 4127 of 5545\n",
      "Plaque accuracy = 0.93 , 63 of 68\n"
     ]
    }
   ],
   "source": [
    "#Fit model and predict\n",
    "clf = LogisticRegression(max_iter=1000, penalty='l2').fit(x_rus, y_rus)\n",
    "pred = clf.predict(X_test)\n",
    "true = y_test\n",
    "report_class_acc(true, pred)"
   ]
  },
  {
   "cell_type": "code",
   "execution_count": 138,
   "metadata": {},
   "outputs": [
    {
     "data": {
      "text/plain": [
       "0.8353723545324352"
      ]
     },
     "execution_count": 138,
     "metadata": {},
     "output_type": "execute_result"
    }
   ],
   "source": [
    "accuracy = sklearn.metrics.balanced_accuracy_score(true, pred)\n",
    "accuracy"
   ]
  },
  {
   "cell_type": "code",
   "execution_count": 51,
   "metadata": {},
   "outputs": [],
   "source": [
    "#find the top n PCs of gene data\n",
    "from sklearn.decomposition import PCA\n",
    "pca = PCA(n_components=100)\n",
    "pca.fit(gene_all)\n",
    "var = pca.explained_variance_ratio_\n",
    "var1 = np.cumsum(np.round(pca.explained_variance_ratio_, decimals=4)*100)"
   ]
  },
  {
   "cell_type": "code",
   "execution_count": 52,
   "metadata": {},
   "outputs": [
    {
     "name": "stdout",
     "output_type": "stream",
     "text": [
      "8\n"
     ]
    },
    {
     "data": {
      "image/png": "[encoded data removed]",
      "text/plain": [
       "<Figure size 432x288 with 1 Axes>"
      ]
     },
     "metadata": {
      "needs_background": "light"
     },
     "output_type": "display_data"
    }
   ],
   "source": [
    "minpc = np.where(var1 > 90)[0][0]\n",
    "print(minpc)\n",
    "plt.plot(var1)\n",
    "plt.show()"
   ]
  },
  {
   "cell_type": "code",
   "execution_count": 29,
   "metadata": {},
   "outputs": [
    {
     "data": {
      "text/plain": [
       "((17009,), (17009, 32284))"
      ]
     },
     "execution_count": 29,
     "metadata": {},
     "output_type": "execute_result"
    }
   ],
   "source": [
    "lab.shape, gene_all.shape"
   ]
  },
  {
   "cell_type": "code",
   "execution_count": 110,
   "metadata": {},
   "outputs": [],
   "source": [
    "from sklearn.decomposition import PCA\n",
    "from sklearn.preprocessing import StandardScaler\n",
    "scaler = StandardScaler(with_mean=True, with_std=True)\n",
    "X_sc = scaler.fit_transform(gene_all)\n",
    "\n",
    "#find the top n PCs of gene data\n",
    "pca = PCA(n_components=8)\n",
    "pca.fit(X_sc)\n",
    "X_pc = pca.transform(X_sc)\n"
   ]
  },
  {
   "cell_type": "code",
   "execution_count": 111,
   "metadata": {},
   "outputs": [
    {
     "data": {
      "text/plain": [
       "((11396, 8), (11396,), (5613, 8), (5613,))"
      ]
     },
     "execution_count": 111,
     "metadata": {},
     "output_type": "execute_result"
    }
   ],
   "source": [
    "#Split into train and test\n",
    "X_train, X_test, y_train, y_test = train_test_split(X_pc, lab, test_size=0.33, random_state=42)\n",
    "X_train.shape, y_train.shape, X_test.shape, y_test.shape"
   ]
  },
  {
   "cell_type": "code",
   "execution_count": 112,
   "metadata": {},
   "outputs": [
    {
     "name": "stdout",
     "output_type": "stream",
     "text": [
      "Original dataset shape: Counter({0: 11273, 1: 123})\n",
      "Resample dataset shape Counter({0: 123, 1: 123})\n"
     ]
    }
   ],
   "source": [
    "#Random under sampling\n",
    "from imblearn.under_sampling import RandomUnderSampler\n",
    "from collections import Counter\n",
    "\n",
    "rus = RandomUnderSampler(random_state=42, replacement=True)# fit predictor and target variable\n",
    "x_rus, y_rus = rus.fit_resample(X_train, y_train)\n",
    "print('Original dataset shape:', Counter(y_train))\n",
    "print('Resample dataset shape', Counter(y_rus))"
   ]
  },
  {
   "cell_type": "code",
   "execution_count": 114,
   "metadata": {},
   "outputs": [
    {
     "name": "stdout",
     "output_type": "stream",
     "text": [
      "Non-plaque accuracy = 0.706 , 3923 of 5558\n",
      "Plaque accuracy = 0.87 , 48 of 55\n"
     ]
    }
   ],
   "source": [
    "#Fit model and predict\n",
    "clf = LogisticRegression(max_iter=1000, penalty='l2').fit(x_rus, y_rus)\n",
    "pred = clf.predict(X_test)\n",
    "true = y_test\n",
    "report_class_acc(true, pred)"
   ]
  },
  {
   "cell_type": "code",
   "execution_count": 67,
   "metadata": {},
   "outputs": [
    {
     "data": {
      "text/plain": [
       "3"
      ]
     },
     "execution_count": 67,
     "metadata": {},
     "output_type": "execute_result"
    }
   ],
   "source": [
    "sum(true[np.where(true==1)] == pred[np.where(true==1)]) "
   ]
  },
  {
   "cell_type": "code",
   "execution_count": 41,
   "metadata": {},
   "outputs": [
    {
     "data": {
      "text/plain": [
       "array([0, 1])"
      ]
     },
     "execution_count": 41,
     "metadata": {},
     "output_type": "execute_result"
    }
   ],
   "source": [
    "np.unique(true)"
   ]
  },
  {
   "cell_type": "code",
   "execution_count": 49,
   "metadata": {},
   "outputs": [
    {
     "data": {
      "text/plain": [
       "[<matplotlib.lines.Line2D at 0x7f6e8f285cd0>]"
      ]
     },
     "execution_count": 49,
     "metadata": {},
     "output_type": "execute_result"
    },
    {
     "data": {
      "image/png": "[encoded data removed]",
      "text/plain": [
       "<Figure size 432x288 with 1 Axes>"
      ]
     },
     "metadata": {
      "needs_background": "light"
     },
     "output_type": "display_data"
    }
   ],
   "source": [
    "plt.plot(y_train)\n",
    "plt.plot(pred)"
   ]
  }
 ],
 "metadata": {
  "kernelspec": {
   "display_name": "pymc_conda",
   "language": "python",
   "name": "python3"
  },
  "language_info": {
   "codemirror_mode": {
    "name": "ipython",
    "version": 3
   },
   "file_extension": ".py",
   "mimetype": "text/x-python",
   "name": "python",
   "nbconvert_exporter": "python",
   "pygments_lexer": "ipython3",
   "version": "3.9.16"
  },
  "orig_nbformat": 4
 },
 "nbformat": 4,
 "nbformat_minor": 2
}
