{
 "cells": [
  {
   "cell_type": "code",
   "execution_count": 1,
   "metadata": {},
   "outputs": [
    {
     "data": {
      "text/plain": [
       "'3.9.16 (main, Jan 11 2023, 16:05:54) \\n[GCC 11.2.0]'"
      ]
     },
     "execution_count": 1,
     "metadata": {},
     "output_type": "execute_result"
    }
   ],
   "source": [
    "#Conda env: py_3916\n",
    "\n",
    "#Import packages\n",
    "#---------------------------------------\n",
    "import sys\n",
    "from matplotlib import pyplot as plt\n",
    "import numpy as np\n",
    "import json\n",
    "import pandas as pd\n",
    "import seaborn as sns\n",
    "\n",
    "\n",
    "#Import your modules\n",
    "#---------------------------------------\n",
    "import plaque_f as pf\n",
    "\n",
    "# Define paths\n",
    "#----------------------------------------------------------------------\n",
    "l_code = '/Users/dominicburrows/Dropbox/PhD/Analysis/my_scripts/GitHub/'\n",
    "l_data = '/Users/dominicburrows/Dropbox/PhD/analysis/Project/'\n",
    "l_fig = '/Users/dominicburrows/Dropbox/PhD/figures/'\n",
    "\n",
    "s_code = '/cndd3/dburrows/CODE/'\n",
    "s_data = '/cndd3/dburrows/DATA/'\n",
    "s_fig = '/cndd3/dburrows/FIGS/'\n",
    "\n",
    "%load_ext autoreload\n",
    "sys.version"
   ]
  },
  {
   "attachments": {},
   "cell_type": "markdown",
   "metadata": {},
   "source": [
    "# Load data"
   ]
  },
  {
   "cell_type": "code",
   "execution_count": 8,
   "metadata": {},
   "outputs": [],
   "source": [
    "def run_(name):\n",
    "    # Declare paths\n",
    "    data_path = s_data + 'spatial_transcriptomics/plaques/' + name + '.json'\n",
    "    coord_path = '/cndd2/agelber/hal/qc_aligned/' + name + '/outs/spatial/tissue_positions.csv'\n",
    "    genes_path = '/cndd2/agelber/hal/qc_aligned/' + name + '/outs/filtered_feature_bc_matrix.h5'\n",
    "    meta = pd.read_csv('/cndd3/dburrows/DATA/spatial_transcriptomics/plaques/allspots_meta.csv') #FILTERED\n",
    "    meta_filt = meta[meta['sample'] == name]\n",
    "\n",
    "    spot_df, gene_df = pf.sort_data(data_path, coord_path, genes_path, \n",
    "                                    meta_filt, min_cell_per_gene=100, norm_factor=1e6)\n",
    "    \n",
    "    #Sanity check\n",
    "    assert spot_df.shape[0] == gene_df.shape[0] == meta_filt.shape[0]\n",
    "    assert 'Thy1' not in gene_df.columns.values or 'humanAPP' not in gene_df.columns.values\n",
    "    print('Number of spots: ' + str(gene_df.shape[0]))\n",
    "    print('Number of genes: ' + str(gene_df.shape[1]))\n",
    "    return(spot_df, gene_df)"
   ]
  },
  {
   "cell_type": "code",
   "execution_count": 9,
   "metadata": {},
   "outputs": [
    {
     "name": "stderr",
     "output_type": "stream",
     "text": [
      "/home/dburrows/anaconda3/envs/py_3916/lib/python3.9/site-packages/anndata/_core/anndata.py:1830: UserWarning: Variable names are not unique. To make them unique, call `.var_names_make_unique`.\n",
      "  utils.warn_names_duplicates(\"var\")\n",
      "/home/dburrows/anaconda3/envs/py_3916/lib/python3.9/site-packages/scanpy/preprocessing/_normalization.py:197: UserWarning: Some cells have zero counts\n",
      "  warn(UserWarning('Some cells have zero counts'))\n"
     ]
    },
    {
     "name": "stdout",
     "output_type": "stream",
     "text": [
      "Number of spots: 3382\n",
      "Number of genes: 13185\n"
     ]
    }
   ],
   "source": [
    "name = '030-D'\n",
    "spot_df, gene_df = run_(name)"
   ]
  },
  {
   "cell_type": "code",
   "execution_count": 382,
   "metadata": {},
   "outputs": [
    {
     "data": {
      "text/html": [
       "<div>\n",
       "<style scoped>\n",
       "    .dataframe tbody tr th:only-of-type {\n",
       "        vertical-align: middle;\n",
       "    }\n",
       "\n",
       "    .dataframe tbody tr th {\n",
       "        vertical-align: top;\n",
       "    }\n",
       "\n",
       "    .dataframe thead th {\n",
       "        text-align: right;\n",
       "    }\n",
       "</style>\n",
       "<table border=\"1\" class=\"dataframe\">\n",
       "  <thead>\n",
       "    <tr style=\"text-align: right;\">\n",
       "      <th></th>\n",
       "      <th>Sox17</th>\n",
       "      <th>Mrpl15</th>\n",
       "      <th>Lypla1</th>\n",
       "      <th>Tcea1</th>\n",
       "      <th>Rgs20</th>\n",
       "      <th>Atp6v1h</th>\n",
       "      <th>Oprk1</th>\n",
       "      <th>Rb1cc1</th>\n",
       "      <th>St18</th>\n",
       "      <th>Pcmtd1</th>\n",
       "      <th>...</th>\n",
       "      <th>mt-Nd4l</th>\n",
       "      <th>mt-Nd4</th>\n",
       "      <th>mt-Nd5</th>\n",
       "      <th>mt-Nd6</th>\n",
       "      <th>mt-Cytb</th>\n",
       "      <th>CAAA01118383.1</th>\n",
       "      <th>Vamp7</th>\n",
       "      <th>Spry3</th>\n",
       "      <th>Tmlhe</th>\n",
       "      <th>AC149090.1</th>\n",
       "    </tr>\n",
       "  </thead>\n",
       "  <tbody>\n",
       "    <tr>\n",
       "      <th>AAACAAGTATCTCCCA-1</th>\n",
       "      <td>214.9151</td>\n",
       "      <td>0.000000</td>\n",
       "      <td>0.000000</td>\n",
       "      <td>71.638367</td>\n",
       "      <td>214.915100</td>\n",
       "      <td>429.830200</td>\n",
       "      <td>0.000000</td>\n",
       "      <td>0.000000</td>\n",
       "      <td>0.000000</td>\n",
       "      <td>71.638367</td>\n",
       "      <td>...</td>\n",
       "      <td>573.106934</td>\n",
       "      <td>18984.167969</td>\n",
       "      <td>3008.811523</td>\n",
       "      <td>71.638367</td>\n",
       "      <td>22924.277344</td>\n",
       "      <td>0.0</td>\n",
       "      <td>0.000000</td>\n",
       "      <td>0.000000</td>\n",
       "      <td>0.000000</td>\n",
       "      <td>143.276733</td>\n",
       "    </tr>\n",
       "    <tr>\n",
       "      <th>AAACAATCTACTAGCA-1</th>\n",
       "      <td>0.0000</td>\n",
       "      <td>0.000000</td>\n",
       "      <td>0.000000</td>\n",
       "      <td>0.000000</td>\n",
       "      <td>0.000000</td>\n",
       "      <td>158.906723</td>\n",
       "      <td>0.000000</td>\n",
       "      <td>0.000000</td>\n",
       "      <td>317.813446</td>\n",
       "      <td>158.906723</td>\n",
       "      <td>...</td>\n",
       "      <td>158.906723</td>\n",
       "      <td>8422.056641</td>\n",
       "      <td>1271.253784</td>\n",
       "      <td>158.906723</td>\n",
       "      <td>12076.911133</td>\n",
       "      <td>0.0</td>\n",
       "      <td>0.000000</td>\n",
       "      <td>0.000000</td>\n",
       "      <td>0.000000</td>\n",
       "      <td>0.000000</td>\n",
       "    </tr>\n",
       "    <tr>\n",
       "      <th>AAACAGAGCGACTCCT-1</th>\n",
       "      <td>0.0000</td>\n",
       "      <td>0.000000</td>\n",
       "      <td>0.000000</td>\n",
       "      <td>0.000000</td>\n",
       "      <td>0.000000</td>\n",
       "      <td>235.478806</td>\n",
       "      <td>0.000000</td>\n",
       "      <td>0.000000</td>\n",
       "      <td>0.000000</td>\n",
       "      <td>0.000000</td>\n",
       "      <td>...</td>\n",
       "      <td>1255.886963</td>\n",
       "      <td>28492.935547</td>\n",
       "      <td>2747.252686</td>\n",
       "      <td>235.478806</td>\n",
       "      <td>30847.722656</td>\n",
       "      <td>0.0</td>\n",
       "      <td>0.000000</td>\n",
       "      <td>0.000000</td>\n",
       "      <td>0.000000</td>\n",
       "      <td>156.985870</td>\n",
       "    </tr>\n",
       "    <tr>\n",
       "      <th>AAACAGTGTTCCTGGG-1</th>\n",
       "      <td>0.0000</td>\n",
       "      <td>0.000000</td>\n",
       "      <td>35.880875</td>\n",
       "      <td>0.000000</td>\n",
       "      <td>35.880875</td>\n",
       "      <td>215.285248</td>\n",
       "      <td>0.000000</td>\n",
       "      <td>35.880875</td>\n",
       "      <td>0.000000</td>\n",
       "      <td>143.523499</td>\n",
       "      <td>...</td>\n",
       "      <td>502.332245</td>\n",
       "      <td>19949.765625</td>\n",
       "      <td>2870.469971</td>\n",
       "      <td>35.880875</td>\n",
       "      <td>20452.097656</td>\n",
       "      <td>0.0</td>\n",
       "      <td>35.880875</td>\n",
       "      <td>35.880875</td>\n",
       "      <td>0.000000</td>\n",
       "      <td>287.046997</td>\n",
       "    </tr>\n",
       "    <tr>\n",
       "      <th>AAACATTTCCCGGATT-1</th>\n",
       "      <td>0.0000</td>\n",
       "      <td>96.547470</td>\n",
       "      <td>38.618988</td>\n",
       "      <td>57.928482</td>\n",
       "      <td>19.309494</td>\n",
       "      <td>193.094940</td>\n",
       "      <td>19.309494</td>\n",
       "      <td>96.547470</td>\n",
       "      <td>0.000000</td>\n",
       "      <td>154.475952</td>\n",
       "      <td>...</td>\n",
       "      <td>77.237976</td>\n",
       "      <td>4383.255371</td>\n",
       "      <td>617.903809</td>\n",
       "      <td>38.618988</td>\n",
       "      <td>6082.490723</td>\n",
       "      <td>0.0</td>\n",
       "      <td>77.237976</td>\n",
       "      <td>19.309494</td>\n",
       "      <td>0.000000</td>\n",
       "      <td>386.189880</td>\n",
       "    </tr>\n",
       "    <tr>\n",
       "      <th>...</th>\n",
       "      <td>...</td>\n",
       "      <td>...</td>\n",
       "      <td>...</td>\n",
       "      <td>...</td>\n",
       "      <td>...</td>\n",
       "      <td>...</td>\n",
       "      <td>...</td>\n",
       "      <td>...</td>\n",
       "      <td>...</td>\n",
       "      <td>...</td>\n",
       "      <td>...</td>\n",
       "      <td>...</td>\n",
       "      <td>...</td>\n",
       "      <td>...</td>\n",
       "      <td>...</td>\n",
       "      <td>...</td>\n",
       "      <td>...</td>\n",
       "      <td>...</td>\n",
       "      <td>...</td>\n",
       "      <td>...</td>\n",
       "      <td>...</td>\n",
       "    </tr>\n",
       "    <tr>\n",
       "      <th>TTGTTTCACATCCAGG-1</th>\n",
       "      <td>0.0000</td>\n",
       "      <td>73.686539</td>\n",
       "      <td>36.843269</td>\n",
       "      <td>110.529808</td>\n",
       "      <td>36.843269</td>\n",
       "      <td>257.902893</td>\n",
       "      <td>0.000000</td>\n",
       "      <td>0.000000</td>\n",
       "      <td>0.000000</td>\n",
       "      <td>73.686539</td>\n",
       "      <td>...</td>\n",
       "      <td>184.216339</td>\n",
       "      <td>8916.071289</td>\n",
       "      <td>1289.514404</td>\n",
       "      <td>73.686539</td>\n",
       "      <td>12931.987305</td>\n",
       "      <td>0.0</td>\n",
       "      <td>36.843269</td>\n",
       "      <td>0.000000</td>\n",
       "      <td>0.000000</td>\n",
       "      <td>257.902893</td>\n",
       "    </tr>\n",
       "    <tr>\n",
       "      <th>TTGTTTCATTAGTCTA-1</th>\n",
       "      <td>0.0000</td>\n",
       "      <td>0.000000</td>\n",
       "      <td>38.908993</td>\n",
       "      <td>38.908993</td>\n",
       "      <td>77.817986</td>\n",
       "      <td>194.544968</td>\n",
       "      <td>0.000000</td>\n",
       "      <td>0.000000</td>\n",
       "      <td>0.000000</td>\n",
       "      <td>116.726974</td>\n",
       "      <td>...</td>\n",
       "      <td>194.544968</td>\n",
       "      <td>10855.609375</td>\n",
       "      <td>1283.996704</td>\n",
       "      <td>38.908993</td>\n",
       "      <td>12606.513672</td>\n",
       "      <td>0.0</td>\n",
       "      <td>38.908993</td>\n",
       "      <td>0.000000</td>\n",
       "      <td>38.908993</td>\n",
       "      <td>311.271942</td>\n",
       "    </tr>\n",
       "    <tr>\n",
       "      <th>TTGTTTCCATACAACT-1</th>\n",
       "      <td>0.0000</td>\n",
       "      <td>68.189560</td>\n",
       "      <td>113.649277</td>\n",
       "      <td>45.459709</td>\n",
       "      <td>22.729855</td>\n",
       "      <td>113.649277</td>\n",
       "      <td>22.729855</td>\n",
       "      <td>90.919418</td>\n",
       "      <td>0.000000</td>\n",
       "      <td>68.189560</td>\n",
       "      <td>...</td>\n",
       "      <td>204.568695</td>\n",
       "      <td>11637.685547</td>\n",
       "      <td>1545.630127</td>\n",
       "      <td>22.729855</td>\n",
       "      <td>14319.808594</td>\n",
       "      <td>0.0</td>\n",
       "      <td>45.459709</td>\n",
       "      <td>0.000000</td>\n",
       "      <td>0.000000</td>\n",
       "      <td>181.838837</td>\n",
       "    </tr>\n",
       "    <tr>\n",
       "      <th>TTGTTTGTATTACACG-1</th>\n",
       "      <td>0.0000</td>\n",
       "      <td>0.000000</td>\n",
       "      <td>0.000000</td>\n",
       "      <td>58.414627</td>\n",
       "      <td>0.000000</td>\n",
       "      <td>175.243881</td>\n",
       "      <td>0.000000</td>\n",
       "      <td>0.000000</td>\n",
       "      <td>0.000000</td>\n",
       "      <td>175.243881</td>\n",
       "      <td>...</td>\n",
       "      <td>700.975525</td>\n",
       "      <td>24183.656250</td>\n",
       "      <td>3329.633789</td>\n",
       "      <td>116.829254</td>\n",
       "      <td>24358.900391</td>\n",
       "      <td>0.0</td>\n",
       "      <td>0.000000</td>\n",
       "      <td>0.000000</td>\n",
       "      <td>0.000000</td>\n",
       "      <td>116.829254</td>\n",
       "    </tr>\n",
       "    <tr>\n",
       "      <th>TTGTTTGTGTAAATTC-1</th>\n",
       "      <td>0.0000</td>\n",
       "      <td>0.000000</td>\n",
       "      <td>0.000000</td>\n",
       "      <td>0.000000</td>\n",
       "      <td>0.000000</td>\n",
       "      <td>0.000000</td>\n",
       "      <td>0.000000</td>\n",
       "      <td>0.000000</td>\n",
       "      <td>0.000000</td>\n",
       "      <td>121.506683</td>\n",
       "      <td>...</td>\n",
       "      <td>1215.066895</td>\n",
       "      <td>24665.857422</td>\n",
       "      <td>2308.626953</td>\n",
       "      <td>0.000000</td>\n",
       "      <td>28554.070312</td>\n",
       "      <td>0.0</td>\n",
       "      <td>0.000000</td>\n",
       "      <td>0.000000</td>\n",
       "      <td>0.000000</td>\n",
       "      <td>121.506683</td>\n",
       "    </tr>\n",
       "  </tbody>\n",
       "</table>\n",
       "<p>3382 rows × 13185 columns</p>\n",
       "</div>"
      ],
      "text/plain": [
       "                       Sox17     Mrpl15      Lypla1       Tcea1       Rgs20  \\\n",
       "AAACAAGTATCTCCCA-1  214.9151   0.000000    0.000000   71.638367  214.915100   \n",
       "AAACAATCTACTAGCA-1    0.0000   0.000000    0.000000    0.000000    0.000000   \n",
       "AAACAGAGCGACTCCT-1    0.0000   0.000000    0.000000    0.000000    0.000000   \n",
       "AAACAGTGTTCCTGGG-1    0.0000   0.000000   35.880875    0.000000   35.880875   \n",
       "AAACATTTCCCGGATT-1    0.0000  96.547470   38.618988   57.928482   19.309494   \n",
       "...                      ...        ...         ...         ...         ...   \n",
       "TTGTTTCACATCCAGG-1    0.0000  73.686539   36.843269  110.529808   36.843269   \n",
       "TTGTTTCATTAGTCTA-1    0.0000   0.000000   38.908993   38.908993   77.817986   \n",
       "TTGTTTCCATACAACT-1    0.0000  68.189560  113.649277   45.459709   22.729855   \n",
       "TTGTTTGTATTACACG-1    0.0000   0.000000    0.000000   58.414627    0.000000   \n",
       "TTGTTTGTGTAAATTC-1    0.0000   0.000000    0.000000    0.000000    0.000000   \n",
       "\n",
       "                       Atp6v1h      Oprk1     Rb1cc1        St18      Pcmtd1  \\\n",
       "AAACAAGTATCTCCCA-1  429.830200   0.000000   0.000000    0.000000   71.638367   \n",
       "AAACAATCTACTAGCA-1  158.906723   0.000000   0.000000  317.813446  158.906723   \n",
       "AAACAGAGCGACTCCT-1  235.478806   0.000000   0.000000    0.000000    0.000000   \n",
       "AAACAGTGTTCCTGGG-1  215.285248   0.000000  35.880875    0.000000  143.523499   \n",
       "AAACATTTCCCGGATT-1  193.094940  19.309494  96.547470    0.000000  154.475952   \n",
       "...                        ...        ...        ...         ...         ...   \n",
       "TTGTTTCACATCCAGG-1  257.902893   0.000000   0.000000    0.000000   73.686539   \n",
       "TTGTTTCATTAGTCTA-1  194.544968   0.000000   0.000000    0.000000  116.726974   \n",
       "TTGTTTCCATACAACT-1  113.649277  22.729855  90.919418    0.000000   68.189560   \n",
       "TTGTTTGTATTACACG-1  175.243881   0.000000   0.000000    0.000000  175.243881   \n",
       "TTGTTTGTGTAAATTC-1    0.000000   0.000000   0.000000    0.000000  121.506683   \n",
       "\n",
       "                    ...      mt-Nd4l        mt-Nd4       mt-Nd5      mt-Nd6  \\\n",
       "AAACAAGTATCTCCCA-1  ...   573.106934  18984.167969  3008.811523   71.638367   \n",
       "AAACAATCTACTAGCA-1  ...   158.906723   8422.056641  1271.253784  158.906723   \n",
       "AAACAGAGCGACTCCT-1  ...  1255.886963  28492.935547  2747.252686  235.478806   \n",
       "AAACAGTGTTCCTGGG-1  ...   502.332245  19949.765625  2870.469971   35.880875   \n",
       "AAACATTTCCCGGATT-1  ...    77.237976   4383.255371   617.903809   38.618988   \n",
       "...                 ...          ...           ...          ...         ...   \n",
       "TTGTTTCACATCCAGG-1  ...   184.216339   8916.071289  1289.514404   73.686539   \n",
       "TTGTTTCATTAGTCTA-1  ...   194.544968  10855.609375  1283.996704   38.908993   \n",
       "TTGTTTCCATACAACT-1  ...   204.568695  11637.685547  1545.630127   22.729855   \n",
       "TTGTTTGTATTACACG-1  ...   700.975525  24183.656250  3329.633789  116.829254   \n",
       "TTGTTTGTGTAAATTC-1  ...  1215.066895  24665.857422  2308.626953    0.000000   \n",
       "\n",
       "                         mt-Cytb  CAAA01118383.1      Vamp7      Spry3  \\\n",
       "AAACAAGTATCTCCCA-1  22924.277344             0.0   0.000000   0.000000   \n",
       "AAACAATCTACTAGCA-1  12076.911133             0.0   0.000000   0.000000   \n",
       "AAACAGAGCGACTCCT-1  30847.722656             0.0   0.000000   0.000000   \n",
       "AAACAGTGTTCCTGGG-1  20452.097656             0.0  35.880875  35.880875   \n",
       "AAACATTTCCCGGATT-1   6082.490723             0.0  77.237976  19.309494   \n",
       "...                          ...             ...        ...        ...   \n",
       "TTGTTTCACATCCAGG-1  12931.987305             0.0  36.843269   0.000000   \n",
       "TTGTTTCATTAGTCTA-1  12606.513672             0.0  38.908993   0.000000   \n",
       "TTGTTTCCATACAACT-1  14319.808594             0.0  45.459709   0.000000   \n",
       "TTGTTTGTATTACACG-1  24358.900391             0.0   0.000000   0.000000   \n",
       "TTGTTTGTGTAAATTC-1  28554.070312             0.0   0.000000   0.000000   \n",
       "\n",
       "                        Tmlhe  AC149090.1  \n",
       "AAACAAGTATCTCCCA-1   0.000000  143.276733  \n",
       "AAACAATCTACTAGCA-1   0.000000    0.000000  \n",
       "AAACAGAGCGACTCCT-1   0.000000  156.985870  \n",
       "AAACAGTGTTCCTGGG-1   0.000000  287.046997  \n",
       "AAACATTTCCCGGATT-1   0.000000  386.189880  \n",
       "...                       ...         ...  \n",
       "TTGTTTCACATCCAGG-1   0.000000  257.902893  \n",
       "TTGTTTCATTAGTCTA-1  38.908993  311.271942  \n",
       "TTGTTTCCATACAACT-1   0.000000  181.838837  \n",
       "TTGTTTGTATTACACG-1   0.000000  116.829254  \n",
       "TTGTTTGTGTAAATTC-1   0.000000  121.506683  \n",
       "\n",
       "[3382 rows x 13185 columns]"
      ]
     },
     "execution_count": 382,
     "metadata": {},
     "output_type": "execute_result"
    }
   ],
   "source": [
    "spot_df\n",
    "gene_df"
   ]
  },
  {
   "cell_type": "code",
   "execution_count": null,
   "metadata": {},
   "outputs": [],
   "source": []
  },
  {
   "attachments": {},
   "cell_type": "markdown",
   "metadata": {},
   "source": [
    "# Split data"
   ]
  },
  {
   "cell_type": "code",
   "execution_count": null,
   "metadata": {},
   "outputs": [],
   "source": []
  },
  {
   "attachments": {},
   "cell_type": "markdown",
   "metadata": {},
   "source": [
    "# Build classifier\n",
    "\n"
   ]
  },
  {
   "cell_type": "code",
   "execution_count": 2,
   "metadata": {},
   "outputs": [],
   "source": [
    "# classify plaque or no plaque spots based gene expression\n",
    "#----------------------------------------------------------------------\n",
    "from sklearn.linear_model import LogisticRegression"
   ]
  },
  {
   "cell_type": "code",
   "execution_count": 5,
   "metadata": {},
   "outputs": [
    {
     "data": {
      "text/plain": [
       "((150, 4),\n",
       " array([0, 0, 0, 0, 0, 0, 0, 0, 0, 0, 0, 0, 0, 0, 0, 0, 0, 0, 0, 0, 0, 0,\n",
       "        0, 0, 0, 0, 0, 0, 0, 0, 0, 0, 0, 0, 0, 0, 0, 0, 0, 0, 0, 0, 0, 0,\n",
       "        0, 0, 0, 0, 0, 0, 1, 1, 1, 1, 1, 1, 1, 1, 1, 1, 1, 1, 1, 1, 1, 1,\n",
       "        1, 1, 1, 1, 1, 1, 1, 1, 1, 1, 1, 1, 1, 1, 1, 1, 1, 1, 1, 1, 1, 1,\n",
       "        1, 1, 1, 1, 1, 1, 1, 1, 1, 1, 1, 1, 2, 2, 2, 2, 2, 2, 2, 2, 2, 2,\n",
       "        2, 2, 2, 2, 2, 2, 2, 2, 2, 2, 2, 2, 2, 2, 2, 2, 2, 2, 2, 2, 2, 2,\n",
       "        2, 2, 2, 2, 2, 2, 2, 2, 2, 2, 2, 2, 2, 2, 2, 2, 2, 2]))"
      ]
     },
     "execution_count": 5,
     "metadata": {},
     "output_type": "execute_result"
    }
   ],
   "source": [
    "from sklearn.datasets import load_iris\n",
    "X, y = load_iris(return_X_y=True)\n",
    "X.shape, y"
   ]
  },
  {
   "cell_type": "code",
   "execution_count": 6,
   "metadata": {},
   "outputs": [
    {
     "name": "stderr",
     "output_type": "stream",
     "text": [
      "/home/dburrows/anaconda3/envs/py_3916/lib/python3.9/site-packages/sklearn/linear_model/_logistic.py:458: ConvergenceWarning: lbfgs failed to converge (status=1):\n",
      "STOP: TOTAL NO. of ITERATIONS REACHED LIMIT.\n",
      "\n",
      "Increase the number of iterations (max_iter) or scale the data as shown in:\n",
      "    https://scikit-learn.org/stable/modules/preprocessing.html\n",
      "Please also refer to the documentation for alternative solver options:\n",
      "    https://scikit-learn.org/stable/modules/linear_model.html#logistic-regression\n",
      "  n_iter_i = _check_optimize_result(\n"
     ]
    }
   ],
   "source": [
    "clf = LogisticRegression(random_state=0).fit(X, y)"
   ]
  },
  {
   "cell_type": "code",
   "execution_count": 7,
   "metadata": {},
   "outputs": [
    {
     "data": {
      "text/plain": [
       "array([0, 0, 0, 0, 0, 0, 0, 0, 0, 0, 0, 0, 0, 0, 0, 0, 0, 0, 0, 0, 0, 0,\n",
       "       0, 0, 0, 0, 0, 0, 0, 0, 0, 0, 0, 0, 0, 0, 0, 0, 0, 0, 0, 0, 0, 0,\n",
       "       0, 0, 0, 0, 0, 0, 1, 1, 1, 1, 1, 1, 1, 1, 1, 1, 1, 1, 1, 1, 1, 1,\n",
       "       1, 1, 1, 1, 2, 1, 1, 1, 1, 1, 1, 2, 1, 1, 1, 1, 1, 2, 1, 1, 1, 1,\n",
       "       1, 1, 1, 1, 1, 1, 1, 1, 1, 1, 1, 1, 2, 2, 2, 2, 2, 2, 1, 2, 2, 2,\n",
       "       2, 2, 2, 2, 2, 2, 2, 2, 2, 2, 2, 2, 2, 2, 2, 2, 2, 2, 2, 2, 2, 2,\n",
       "       2, 2, 2, 2, 2, 2, 2, 2, 2, 2, 2, 2, 2, 2, 2, 2, 2, 2])"
      ]
     },
     "execution_count": 7,
     "metadata": {},
     "output_type": "execute_result"
    }
   ],
   "source": [
    "clf.predict(X)"
   ]
  },
  {
   "cell_type": "code",
   "execution_count": 11,
   "metadata": {},
   "outputs": [
    {
     "data": {
      "text/plain": [
       "array([[9.81815537e-01, 1.81844486e-02, 1.44032759e-08],\n",
       "       [9.71757371e-01, 2.82425992e-02, 3.01211473e-08]])"
      ]
     },
     "execution_count": 11,
     "metadata": {},
     "output_type": "execute_result"
    }
   ],
   "source": [
    "clf.predict_proba(X[:2, :])"
   ]
  },
  {
   "cell_type": "code",
   "execution_count": 20,
   "metadata": {},
   "outputs": [],
   "source": [
    "%autoreload\n",
    "#group data together\n",
    "name_l = '030-B', '030-C', '040-A', '040-C', '040-D'\n"
   ]
  },
  {
   "cell_type": "code",
   "execution_count": 36,
   "metadata": {},
   "outputs": [
    {
     "name": "stderr",
     "output_type": "stream",
     "text": [
      "/home/dburrows/anaconda3/envs/py_3916/lib/python3.9/site-packages/anndata/_core/anndata.py:1830: UserWarning: Variable names are not unique. To make them unique, call `.var_names_make_unique`.\n",
      "  utils.warn_names_duplicates(\"var\")\n"
     ]
    },
    {
     "name": "stdout",
     "output_type": "stream",
     "text": [
      "Number of spots: 2939\n",
      "Number of genes: 32284\n"
     ]
    },
    {
     "name": "stderr",
     "output_type": "stream",
     "text": [
      "/home/dburrows/anaconda3/envs/py_3916/lib/python3.9/site-packages/anndata/_core/anndata.py:1830: UserWarning: Variable names are not unique. To make them unique, call `.var_names_make_unique`.\n",
      "  utils.warn_names_duplicates(\"var\")\n"
     ]
    },
    {
     "name": "stdout",
     "output_type": "stream",
     "text": [
      "Number of spots: 3532\n",
      "Number of genes: 32284\n"
     ]
    },
    {
     "name": "stderr",
     "output_type": "stream",
     "text": [
      "/home/dburrows/anaconda3/envs/py_3916/lib/python3.9/site-packages/anndata/_core/anndata.py:1830: UserWarning: Variable names are not unique. To make them unique, call `.var_names_make_unique`.\n",
      "  utils.warn_names_duplicates(\"var\")\n"
     ]
    },
    {
     "name": "stdout",
     "output_type": "stream",
     "text": [
      "Number of spots: 3465\n",
      "Number of genes: 32284\n"
     ]
    },
    {
     "name": "stderr",
     "output_type": "stream",
     "text": [
      "/home/dburrows/anaconda3/envs/py_3916/lib/python3.9/site-packages/anndata/_core/anndata.py:1830: UserWarning: Variable names are not unique. To make them unique, call `.var_names_make_unique`.\n",
      "  utils.warn_names_duplicates(\"var\")\n"
     ]
    },
    {
     "name": "stdout",
     "output_type": "stream",
     "text": [
      "Number of spots: 3616\n",
      "Number of genes: 32284\n"
     ]
    },
    {
     "name": "stderr",
     "output_type": "stream",
     "text": [
      "/home/dburrows/anaconda3/envs/py_3916/lib/python3.9/site-packages/anndata/_core/anndata.py:1830: UserWarning: Variable names are not unique. To make them unique, call `.var_names_make_unique`.\n",
      "  utils.warn_names_duplicates(\"var\")\n"
     ]
    },
    {
     "name": "stdout",
     "output_type": "stream",
     "text": [
      "Number of spots: 3457\n",
      "Number of genes: 32284\n"
     ]
    }
   ],
   "source": [
    "for name in name_l:\n",
    "    spot_df, gene_df = run_(name)\n",
    "    if name == name_l[0]: \n",
    "        gene_all = gene_df\n",
    "        lab = spot_df['plaque']\n",
    "    else: \n",
    "        gene_all = np.vstack((gene_all, np.asarray(gene_df)))\n",
    "        lab = np.hstack((lab, spot_df['plaque']))"
   ]
  },
  {
   "cell_type": "code",
   "execution_count": 37,
   "metadata": {},
   "outputs": [
    {
     "data": {
      "text/plain": [
       "((17009,), (17009, 32284))"
      ]
     },
     "execution_count": 37,
     "metadata": {},
     "output_type": "execute_result"
    }
   ],
   "source": [
    "lab.shape, gene_all.shape"
   ]
  },
  {
   "cell_type": "code",
   "execution_count": 38,
   "metadata": {},
   "outputs": [],
   "source": [
    "#Split into train and test\n",
    "    \n",
    "from sklearn.model_selection import train_test_split\n",
    "X_train, X_test, y_train, y_test = train_test_split(gene_all, lab, test_size=0.33, random_state=42)"
   ]
  },
  {
   "cell_type": "code",
   "execution_count": 41,
   "metadata": {},
   "outputs": [
    {
     "data": {
      "text/plain": [
       "((11396, 32284), (11396,))"
      ]
     },
     "execution_count": 41,
     "metadata": {},
     "output_type": "execute_result"
    }
   ],
   "source": [
    "X_train.shape, y_train.shape"
   ]
  },
  {
   "cell_type": "code",
   "execution_count": 42,
   "metadata": {},
   "outputs": [
    {
     "data": {
      "text/plain": [
       "((5613, 32284), (5613,))"
      ]
     },
     "execution_count": 42,
     "metadata": {},
     "output_type": "execute_result"
    }
   ],
   "source": [
    "X_test.shape, y_test.shape"
   ]
  },
  {
   "cell_type": "code",
   "execution_count": 72,
   "metadata": {},
   "outputs": [],
   "source": [
    "clf = LogisticRegression(max_iter=1000, penalty='l2').fit(X_train, y_train)"
   ]
  },
  {
   "cell_type": "code",
   "execution_count": 73,
   "metadata": {},
   "outputs": [],
   "source": [
    "pred = clf.predict(X_test)\n",
    "true = y_test"
   ]
  },
  {
   "cell_type": "code",
   "execution_count": 74,
   "metadata": {},
   "outputs": [
    {
     "data": {
      "text/plain": [
       "array([[ 1.        , -0.00440805],\n",
       "       [-0.00440805,  1.        ]])"
      ]
     },
     "execution_count": 74,
     "metadata": {},
     "output_type": "execute_result"
    }
   ],
   "source": [
    "np.corrcoef(pred, true)"
   ]
  },
  {
   "cell_type": "code",
   "execution_count": 76,
   "metadata": {},
   "outputs": [
    {
     "data": {
      "text/plain": [
       "(array([], dtype=int64),)"
      ]
     },
     "execution_count": 76,
     "metadata": {},
     "output_type": "execute_result"
    }
   ],
   "source": [
    "np.where((pred == 1) & (true == 1))"
   ]
  },
  {
   "cell_type": "code",
   "execution_count": 77,
   "metadata": {},
   "outputs": [
    {
     "data": {
      "text/plain": [
       "[<matplotlib.lines.Line2D at 0x7f25181a8790>]"
      ]
     },
     "execution_count": 77,
     "metadata": {},
     "output_type": "execute_result"
    },
    {
     "data": {
      "image/png": "[encoded data removed]",
      "text/plain": [
       "<Figure size 432x288 with 1 Axes>"
      ]
     },
     "metadata": {
      "needs_background": "light"
     },
     "output_type": "display_data"
    }
   ],
   "source": [
    "plt.plot(y_train)\n",
    "plt.plot(pred)"
   ]
  }
 ],
 "metadata": {
  "kernelspec": {
   "display_name": "pymc_conda",
   "language": "python",
   "name": "python3"
  },
  "language_info": {
   "codemirror_mode": {
    "name": "ipython",
    "version": 3
   },
   "file_extension": ".py",
   "mimetype": "text/x-python",
   "name": "python",
   "nbconvert_exporter": "python",
   "pygments_lexer": "ipython3",
   "version": "3.9.16"
  },
  "orig_nbformat": 4
 },
 "nbformat": 4,
 "nbformat_minor": 2
}
