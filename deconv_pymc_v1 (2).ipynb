{
 "cells": [
  {
   "cell_type": "code",
   "execution_count": 30,
   "id": "256a14d7",
   "metadata": {},
   "outputs": [
    {
     "name": "stdout",
     "output_type": "stream",
     "text": [
      "The autoreload extension is already loaded. To reload it, use:\n",
      "  %reload_ext autoreload\n"
     ]
    },
    {
     "data": {
      "text/plain": [
       "'3.7.16 (default, Jan 17 2023, 09:28:58) \\n[Clang 14.0.6 ]'"
      ]
     },
     "execution_count": 30,
     "metadata": {},
     "output_type": "execute_result"
    }
   ],
   "source": [
    "#Import packages\n",
    "#---------------------------------------\n",
    "import sys\n",
    "import os\n",
    "import pandas as pd\n",
    "from matplotlib import pyplot as plt\n",
    "import numpy as np\n",
    "import matplotlib\n",
    "import warnings\n",
    "import random\n",
    "import arviz as az\n",
    "import pymc as pm\n",
    "warnings.filterwarnings(\"ignore\", category=RuntimeWarning) \n",
    "\n",
    "#Import your modules\n",
    "#---------------------------------------\n",
    "\n",
    "import admin_functions as adfn\n",
    "\n",
    "# Define paths\n",
    "#----------------------------------------------------------------------\n",
    "Fcode = '/Users/dominicburrows/Dropbox/PhD/Analysis/my_scripts/GitHub/'\n",
    "Fdata = '/Users/dominicburrows/Dropbox/PhD/analysis/Project/'\n",
    "Fdoc = '/Users/dominicburrows/Documents/'\n",
    "F10t = '/Volumes/Dominic 10tb/'\n",
    "F10t2 = '/Volumes/Dominic 10tb2/'\n",
    "Ftm = '/Volumes/Dominic Time Machine/'\n",
    "Ffig = '/Users/dominicburrows/Dropbox/PhD/figures/'\n",
    "\n",
    "%load_ext autoreload\n",
    "sys.version"
   ]
  },
  {
   "cell_type": "code",
   "execution_count": 31,
   "id": "90585822",
   "metadata": {},
   "outputs": [],
   "source": [
    "def proportions(inp, n_clusts):\n",
    "    props = np.zeros(n_clusts)\n",
    "    prac = prac = np.unique(inp, return_counts=True)\n",
    "    partial_props = prac[1]/sum(prac[1])\n",
    "    count=0\n",
    "    for o in range(len(props)):\n",
    "        if o in prac[0]: \n",
    "            props[o] = partial_props[count]\n",
    "            count+=1\n",
    "    return(props)"
   ]
  },
  {
   "cell_type": "code",
   "execution_count": 32,
   "id": "1c8b3403",
   "metadata": {},
   "outputs": [],
   "source": [
    "n_clusts = 10\n",
    "n_genes = 500\n",
    "n_cells = 600\n",
    "\n",
    "#Sample random rates from a uniform distribution for each class and each gene\n",
    "rate_mat = np.zeros((n_clusts, n_genes))\n",
    "rate_mat = np.random.uniform(low=0, high=50, size=(rate_mat.shape)).astype(int)\n",
    "cell_rate_mat = np.repeat(rate_mat, 60, axis=0) #get the rates for each cell - 60 cells in each group with same rates\n",
    "\n",
    "#Sample from Poisson for each cell given its cell type\n",
    "cell_counts = np.random.poisson(cell_rate_mat, size=cell_rate_mat.shape)"
   ]
  },
  {
   "cell_type": "code",
   "execution_count": 33,
   "id": "e4367d5e",
   "metadata": {},
   "outputs": [],
   "source": [
    "#Generate spots\n",
    "n_spots = 200\n",
    "\n",
    "orig_cells = np.arange(0,cell_counts.shape[0]) \n",
    "random.seed(10)\n",
    "random.shuffle(orig_cells) #randomly shuffle indeces\n",
    "\n",
    "#Define partioning - split into different groups of varying sizes\n",
    "chunk_size = [np.ones(50), np.full(40, 2), np.full(47, 3), np.full(1, 4), np.full(61, 5)]\n",
    "groups = np.split(orig_cells, np.cumsum(np.concatenate(chunk_size)).astype(int)) #group by chunk size"
   ]
  },
  {
   "cell_type": "code",
   "execution_count": 34,
   "id": "24ba6228",
   "metadata": {},
   "outputs": [],
   "source": [
    "#Create simulated spots and calculate true proportions\n",
    "spots = np.zeros((len(groups), cell_counts.shape[1])) #spots x genes\n",
    "prop_vec = np.zeros((len(groups),n_clusts))\n",
    "\n",
    "#loop over each group\n",
    "for g in range(len(groups)):\n",
    "    spots[g] = np.sum(cell_counts[groups[g]], axis=0) #generate mix of gene expression\n",
    "    prop_vec[g] = proportions((groups[g]/60).astype(int), n_clusts) #calculate the true proportions"
   ]
  },
  {
   "cell_type": "code",
   "execution_count": 35,
   "id": "30d9aae3",
   "metadata": {},
   "outputs": [],
   "source": [
    "#Calculate mean gene expression per group\n",
    "curr = 0\n",
    "ref_exp = np.zeros((n_clusts, n_genes))\n",
    "for i in range(n_clusts):\n",
    "    ref_exp[i] = np.mean(cell_counts[curr:curr+60,:], axis=0)\n",
    "    curr+=60"
   ]
  },
  {
   "cell_type": "code",
   "execution_count": 36,
   "id": "9e122f73",
   "metadata": {},
   "outputs": [],
   "source": [
    "#Run without logs\n",
    "basic_model=pm.Model()\n",
    "\n",
    "with basic_model:\n",
    "    \n",
    "    # alpha=pm.MvNormal(\"alpha\", mu=0, cov=np.ones((200,200)), shape=(200,50))\n",
    "    beta=pm.HalfNormal(\"beta\", sigma=1, shape=(n_spots, n_clusts))\n",
    "    \n",
    "    lmd=pm.math.dot(beta, ref_exp)    \n",
    "\n",
    "    #Calculate total counts to get Poisson rates\n",
    "    N = np.sum(spots, axis=1) \n",
    "    N = np.asarray([N for i in range(n_genes)]).T #Repeat total counts across columns for elementwise multiplication\n",
    "\n",
    "    #Likelihood of observed data given Poisson rates\n",
    "    y=pm.Poisson(\"y\", mu=lmd*N, observed=spots)\n",
    "    "
   ]
  },
  {
   "cell_type": "code",
   "execution_count": 8,
   "id": "10703728",
   "metadata": {},
   "outputs": [
    {
     "data": {
      "text/latex": [
       "$$\n",
       "            \\begin{array}{rcl}\n",
       "            \\text{beta} &\\sim & \\operatorname{N^{+}}(0,~1)\\\\\\text{y} &\\sim & \\operatorname{Pois}(f(\\text{beta}))\n",
       "            \\end{array}\n",
       "            $$"
      ],
      "text/plain": [
       "beta ~ N**+(0, 1)\n",
       "   y ~ Pois(f(beta))"
      ]
     },
     "execution_count": 8,
     "metadata": {},
     "output_type": "execute_result"
    }
   ],
   "source": [
    "basic_model"
   ]
  },
  {
   "cell_type": "code",
   "execution_count": 37,
   "id": "84446b59",
   "metadata": {},
   "outputs": [
    {
     "name": "stderr",
     "output_type": "stream",
     "text": [
      "Auto-assigning NUTS sampler...\n",
      "Initializing NUTS using jitter+adapt_diag...\n",
      "Sequential sampling (1 chains in 1 job)\n",
      "NUTS: [beta]\n"
     ]
    },
    {
     "data": {
      "text/html": [
       "\n",
       "<style>\n",
       "    /* Turns off some styling */\n",
       "    progress {\n",
       "        /* gets rid of default border in Firefox and Opera. */\n",
       "        border: none;\n",
       "        /* Needs to be in here for Safari polyfill so background images work as expected. */\n",
       "        background-size: auto;\n",
       "    }\n",
       "    progress:not([value]), progress:not([value])::-webkit-progress-bar {\n",
       "        background: repeating-linear-gradient(45deg, #7e7e7e, #7e7e7e 10px, #5c5c5c 10px, #5c5c5c 20px);\n",
       "    }\n",
       "    .progress-bar-interrupted, .progress-bar-interrupted::-webkit-progress-bar {\n",
       "        background: #F44336;\n",
       "    }\n",
       "</style>\n"
      ],
      "text/plain": [
       "<IPython.core.display.HTML object>"
      ]
     },
     "metadata": {},
     "output_type": "display_data"
    },
    {
     "data": {
      "text/html": [
       "\n",
       "    <div>\n",
       "      <progress value='2000' class='' max='2000' style='width:300px; height:20px; vertical-align: middle;'></progress>\n",
       "      100.00% [2000/2000 05:23&lt;00:00 Sampling chain 0, 0 divergences]\n",
       "    </div>\n",
       "    "
      ],
      "text/plain": [
       "<IPython.core.display.HTML object>"
      ]
     },
     "metadata": {},
     "output_type": "display_data"
    },
    {
     "name": "stderr",
     "output_type": "stream",
     "text": [
      "Sampling 1 chain for 1_000 tune and 1_000 draw iterations (1_000 + 1_000 draws total) took 324 seconds.\n"
     ]
    }
   ],
   "source": [
    "with basic_model:\n",
    "    idata=pm.sample(draws=1000, chains=1)"
   ]
  },
  {
   "cell_type": "code",
   "execution_count": 38,
   "id": "d5c54260",
   "metadata": {},
   "outputs": [
    {
     "data": {
      "text/plain": [
       "array([[<AxesSubplot:title={'center':'beta'}>,\n",
       "        <AxesSubplot:title={'center':'beta'}>]], dtype=object)"
      ]
     },
     "execution_count": 38,
     "metadata": {},
     "output_type": "execute_result"
    },
    {
     "data": {
      "image/png": "[encoded data removed]",
      "text/plain": [
       "<Figure size 1200x200 with 2 Axes>"
      ]
     },
     "metadata": {},
     "output_type": "display_data"
    }
   ],
   "source": [
    "from arviz.utils import Numba\n",
    "Numba.disable_numba()\n",
    "Numba.numba_flag\n",
    "az.plot_trace(idata,combined=True)"
   ]
  },
  {
   "cell_type": "code",
   "execution_count": 16,
   "id": "7ebcef38-91e1-4794-b0ab-bd139fb1b4e8",
   "metadata": {},
   "outputs": [
    {
     "data": {
      "text/plain": [
       "8e-05"
      ]
     },
     "execution_count": 16,
     "metadata": {},
     "output_type": "execute_result"
    }
   ],
   "source": [
    "8*1e-5"
   ]
  },
  {
   "cell_type": "code",
   "execution_count": 39,
   "id": "39496f9b-2679-4b0f-9c6f-58e23eb95964",
   "metadata": {},
   "outputs": [],
   "source": [
    "mean_post = np.mean(idata.posterior['beta'][0],axis=0)"
   ]
  },
  {
   "cell_type": "code",
   "execution_count": 40,
   "id": "ec57d896",
   "metadata": {},
   "outputs": [
    {
     "data": {
      "image/png": "[encoded data removed]",
      "text/plain": [
       "<Figure size 640x480 with 1 Axes>"
      ]
     },
     "metadata": {},
     "output_type": "display_data"
    }
   ],
   "source": [
    "plt.scatter(np.ravel(prop_vec), np.ravel(mean_post))\n",
    "plt.xlabel(\"True Weight\")\n",
    "plt.ylabel(\"Estimated Weight\")\n",
    "\n",
    "line_fit=scp.stats.linregress(np.ravel(prop_vec), np.ravel(mean_post))\n",
    "\n",
    "# Create sequence of 100 numbers from 0 to 100 \n",
    "xseq = np.linspace(0, 1, num=100)\n",
    "\n",
    "# Plot regression line\n",
    "plt.plot(xseq, line_fit.intercept + line_fit.slope*xseq, 'r',)\n",
    "plt.annotate(\"r-squared = {:.3f}\".format(line_fit.rvalue**2), (0, 1))\n",
    "plt.show()\n"
   ]
  },
  {
   "cell_type": "code",
   "execution_count": 43,
   "id": "56a38ce0",
   "metadata": {},
   "outputs": [
    {
     "data": {
      "text/html": [
       "<div><svg style=\"position: absolute; width: 0; height: 0; overflow: hidden\">\n",
       "<defs>\n",
       "<symbol id=\"icon-database\" viewBox=\"0 0 32 32\">\n",
       "<path d=\"M16 0c-8.837 0-16 2.239-16 5v4c0 2.761 7.163 5 16 5s16-2.239 16-5v-4c0-2.761-7.163-5-16-5z\"></path>\n",
       "<path d=\"M16 17c-8.837 0-16-2.239-16-5v6c0 2.761 7.163 5 16 5s16-2.239 16-5v-6c0 2.761-7.163 5-16 5z\"></path>\n",
       "<path d=\"M16 26c-8.837 0-16-2.239-16-5v6c0 2.761 7.163 5 16 5s16-2.239 16-5v-6c0 2.761-7.163 5-16 5z\"></path>\n",
       "</symbol>\n",
       "<symbol id=\"icon-file-text2\" viewBox=\"0 0 32 32\">\n",
       "<path d=\"M28.681 7.159c-0.694-0.947-1.662-2.053-2.724-3.116s-2.169-2.030-3.116-2.724c-1.612-1.182-2.393-1.319-2.841-1.319h-15.5c-1.378 0-2.5 1.121-2.5 2.5v27c0 1.378 1.122 2.5 2.5 2.5h23c1.378 0 2.5-1.122 2.5-2.5v-19.5c0-0.448-0.137-1.23-1.319-2.841zM24.543 5.457c0.959 0.959 1.712 1.825 2.268 2.543h-4.811v-4.811c0.718 0.556 1.584 1.309 2.543 2.268zM28 29.5c0 0.271-0.229 0.5-0.5 0.5h-23c-0.271 0-0.5-0.229-0.5-0.5v-27c0-0.271 0.229-0.5 0.5-0.5 0 0 15.499-0 15.5 0v7c0 0.552 0.448 1 1 1h7v19.5z\"></path>\n",
       "<path d=\"M23 26h-14c-0.552 0-1-0.448-1-1s0.448-1 1-1h14c0.552 0 1 0.448 1 1s-0.448 1-1 1z\"></path>\n",
       "<path d=\"M23 22h-14c-0.552 0-1-0.448-1-1s0.448-1 1-1h14c0.552 0 1 0.448 1 1s-0.448 1-1 1z\"></path>\n",
       "<path d=\"M23 18h-14c-0.552 0-1-0.448-1-1s0.448-1 1-1h14c0.552 0 1 0.448 1 1s-0.448 1-1 1z\"></path>\n",
       "</symbol>\n",
       "</defs>\n",
       "</svg>\n",
       "<style>/* CSS stylesheet for displaying xarray objects in jupyterlab.\n",
       " *\n",
       " */\n",
       "\n",
       ":root {\n",
       "  --xr-font-color0: var(--jp-content-font-color0, rgba(0, 0, 0, 1));\n",
       "  --xr-font-color2: var(--jp-content-font-color2, rgba(0, 0, 0, 0.54));\n",
       "  --xr-font-color3: var(--jp-content-font-color3, rgba(0, 0, 0, 0.38));\n",
       "  --xr-border-color: var(--jp-border-color2, #e0e0e0);\n",
       "  --xr-disabled-color: var(--jp-layout-color3, #bdbdbd);\n",
       "  --xr-background-color: var(--jp-layout-color0, white);\n",
       "  --xr-background-color-row-even: var(--jp-layout-color1, white);\n",
       "  --xr-background-color-row-odd: var(--jp-layout-color2, #eeeeee);\n",
       "}\n",
       "\n",
       "html[theme=dark],\n",
       "body.vscode-dark {\n",
       "  --xr-font-color0: rgba(255, 255, 255, 1);\n",
       "  --xr-font-color2: rgba(255, 255, 255, 0.54);\n",
       "  --xr-font-color3: rgba(255, 255, 255, 0.38);\n",
       "  --xr-border-color: #1F1F1F;\n",
       "  --xr-disabled-color: #515151;\n",
       "  --xr-background-color: #111111;\n",
       "  --xr-background-color-row-even: #111111;\n",
       "  --xr-background-color-row-odd: #313131;\n",
       "}\n",
       "\n",
       ".xr-wrap {\n",
       "  display: block !important;\n",
       "  min-width: 300px;\n",
       "  max-width: 700px;\n",
       "}\n",
       "\n",
       ".xr-text-repr-fallback {\n",
       "  /* fallback to plain text repr when CSS is not injected (untrusted notebook) */\n",
       "  display: none;\n",
       "}\n",
       "\n",
       ".xr-header {\n",
       "  padding-top: 6px;\n",
       "  padding-bottom: 6px;\n",
       "  margin-bottom: 4px;\n",
       "  border-bottom: solid 1px var(--xr-border-color);\n",
       "}\n",
       "\n",
       ".xr-header > div,\n",
       ".xr-header > ul {\n",
       "  display: inline;\n",
       "  margin-top: 0;\n",
       "  margin-bottom: 0;\n",
       "}\n",
       "\n",
       ".xr-obj-type,\n",
       ".xr-array-name {\n",
       "  margin-left: 2px;\n",
       "  margin-right: 10px;\n",
       "}\n",
       "\n",
       ".xr-obj-type {\n",
       "  color: var(--xr-font-color2);\n",
       "}\n",
       "\n",
       ".xr-sections {\n",
       "  padding-left: 0 !important;\n",
       "  display: grid;\n",
       "  grid-template-columns: 150px auto auto 1fr 20px 20px;\n",
       "}\n",
       "\n",
       ".xr-section-item {\n",
       "  display: contents;\n",
       "}\n",
       "\n",
       ".xr-section-item input {\n",
       "  display: none;\n",
       "}\n",
       "\n",
       ".xr-section-item input + label {\n",
       "  color: var(--xr-disabled-color);\n",
       "}\n",
       "\n",
       ".xr-section-item input:enabled + label {\n",
       "  cursor: pointer;\n",
       "  color: var(--xr-font-color2);\n",
       "}\n",
       "\n",
       ".xr-section-item input:enabled + label:hover {\n",
       "  color: var(--xr-font-color0);\n",
       "}\n",
       "\n",
       ".xr-section-summary {\n",
       "  grid-column: 1;\n",
       "  color: var(--xr-font-color2);\n",
       "  font-weight: 500;\n",
       "}\n",
       "\n",
       ".xr-section-summary > span {\n",
       "  display: inline-block;\n",
       "  padding-left: 0.5em;\n",
       "}\n",
       "\n",
       ".xr-section-summary-in:disabled + label {\n",
       "  color: var(--xr-font-color2);\n",
       "}\n",
       "\n",
       ".xr-section-summary-in + label:before {\n",
       "  display: inline-block;\n",
       "  content: '►';\n",
       "  font-size: 11px;\n",
       "  width: 15px;\n",
       "  text-align: center;\n",
       "}\n",
       "\n",
       ".xr-section-summary-in:disabled + label:before {\n",
       "  color: var(--xr-disabled-color);\n",
       "}\n",
       "\n",
       ".xr-section-summary-in:checked + label:before {\n",
       "  content: '▼';\n",
       "}\n",
       "\n",
       ".xr-section-summary-in:checked + label > span {\n",
       "  display: none;\n",
       "}\n",
       "\n",
       ".xr-section-summary,\n",
       ".xr-section-inline-details {\n",
       "  padding-top: 4px;\n",
       "  padding-bottom: 4px;\n",
       "}\n",
       "\n",
       ".xr-section-inline-details {\n",
       "  grid-column: 2 / -1;\n",
       "}\n",
       "\n",
       ".xr-section-details {\n",
       "  display: none;\n",
       "  grid-column: 1 / -1;\n",
       "  margin-bottom: 5px;\n",
       "}\n",
       "\n",
       ".xr-section-summary-in:checked ~ .xr-section-details {\n",
       "  display: contents;\n",
       "}\n",
       "\n",
       ".xr-array-wrap {\n",
       "  grid-column: 1 / -1;\n",
       "  display: grid;\n",
       "  grid-template-columns: 20px auto;\n",
       "}\n",
       "\n",
       ".xr-array-wrap > label {\n",
       "  grid-column: 1;\n",
       "  vertical-align: top;\n",
       "}\n",
       "\n",
       ".xr-preview {\n",
       "  color: var(--xr-font-color3);\n",
       "}\n",
       "\n",
       ".xr-array-preview,\n",
       ".xr-array-data {\n",
       "  padding: 0 5px !important;\n",
       "  grid-column: 2;\n",
       "}\n",
       "\n",
       ".xr-array-data,\n",
       ".xr-array-in:checked ~ .xr-array-preview {\n",
       "  display: none;\n",
       "}\n",
       "\n",
       ".xr-array-in:checked ~ .xr-array-data,\n",
       ".xr-array-preview {\n",
       "  display: inline-block;\n",
       "}\n",
       "\n",
       ".xr-dim-list {\n",
       "  display: inline-block !important;\n",
       "  list-style: none;\n",
       "  padding: 0 !important;\n",
       "  margin: 0;\n",
       "}\n",
       "\n",
       ".xr-dim-list li {\n",
       "  display: inline-block;\n",
       "  padding: 0;\n",
       "  margin: 0;\n",
       "}\n",
       "\n",
       ".xr-dim-list:before {\n",
       "  content: '(';\n",
       "}\n",
       "\n",
       ".xr-dim-list:after {\n",
       "  content: ')';\n",
       "}\n",
       "\n",
       ".xr-dim-list li:not(:last-child):after {\n",
       "  content: ',';\n",
       "  padding-right: 5px;\n",
       "}\n",
       "\n",
       ".xr-has-index {\n",
       "  font-weight: bold;\n",
       "}\n",
       "\n",
       ".xr-var-list,\n",
       ".xr-var-item {\n",
       "  display: contents;\n",
       "}\n",
       "\n",
       ".xr-var-item > div,\n",
       ".xr-var-item label,\n",
       ".xr-var-item > .xr-var-name span {\n",
       "  background-color: var(--xr-background-color-row-even);\n",
       "  margin-bottom: 0;\n",
       "}\n",
       "\n",
       ".xr-var-item > .xr-var-name:hover span {\n",
       "  padding-right: 5px;\n",
       "}\n",
       "\n",
       ".xr-var-list > li:nth-child(odd) > div,\n",
       ".xr-var-list > li:nth-child(odd) > label,\n",
       ".xr-var-list > li:nth-child(odd) > .xr-var-name span {\n",
       "  background-color: var(--xr-background-color-row-odd);\n",
       "}\n",
       "\n",
       ".xr-var-name {\n",
       "  grid-column: 1;\n",
       "}\n",
       "\n",
       ".xr-var-dims {\n",
       "  grid-column: 2;\n",
       "}\n",
       "\n",
       ".xr-var-dtype {\n",
       "  grid-column: 3;\n",
       "  text-align: right;\n",
       "  color: var(--xr-font-color2);\n",
       "}\n",
       "\n",
       ".xr-var-preview {\n",
       "  grid-column: 4;\n",
       "}\n",
       "\n",
       ".xr-var-name,\n",
       ".xr-var-dims,\n",
       ".xr-var-dtype,\n",
       ".xr-preview,\n",
       ".xr-attrs dt {\n",
       "  white-space: nowrap;\n",
       "  overflow: hidden;\n",
       "  text-overflow: ellipsis;\n",
       "  padding-right: 10px;\n",
       "}\n",
       "\n",
       ".xr-var-name:hover,\n",
       ".xr-var-dims:hover,\n",
       ".xr-var-dtype:hover,\n",
       ".xr-attrs dt:hover {\n",
       "  overflow: visible;\n",
       "  width: auto;\n",
       "  z-index: 1;\n",
       "}\n",
       "\n",
       ".xr-var-attrs,\n",
       ".xr-var-data {\n",
       "  display: none;\n",
       "  background-color: var(--xr-background-color) !important;\n",
       "  padding-bottom: 5px !important;\n",
       "}\n",
       "\n",
       ".xr-var-attrs-in:checked ~ .xr-var-attrs,\n",
       ".xr-var-data-in:checked ~ .xr-var-data {\n",
       "  display: block;\n",
       "}\n",
       "\n",
       ".xr-var-data > table {\n",
       "  float: right;\n",
       "}\n",
       "\n",
       ".xr-var-name span,\n",
       ".xr-var-data,\n",
       ".xr-attrs {\n",
       "  padding-left: 25px !important;\n",
       "}\n",
       "\n",
       ".xr-attrs,\n",
       ".xr-var-attrs,\n",
       ".xr-var-data {\n",
       "  grid-column: 1 / -1;\n",
       "}\n",
       "\n",
       "dl.xr-attrs {\n",
       "  padding: 0;\n",
       "  margin: 0;\n",
       "  display: grid;\n",
       "  grid-template-columns: 125px auto;\n",
       "}\n",
       "\n",
       ".xr-attrs dt,\n",
       ".xr-attrs dd {\n",
       "  padding: 0;\n",
       "  margin: 0;\n",
       "  float: left;\n",
       "  padding-right: 10px;\n",
       "  width: auto;\n",
       "}\n",
       "\n",
       ".xr-attrs dt {\n",
       "  font-weight: normal;\n",
       "  grid-column: 1;\n",
       "}\n",
       "\n",
       ".xr-attrs dt:hover span {\n",
       "  display: inline-block;\n",
       "  background: var(--xr-background-color);\n",
       "  padding-right: 10px;\n",
       "}\n",
       "\n",
       ".xr-attrs dd {\n",
       "  grid-column: 2;\n",
       "  white-space: pre-wrap;\n",
       "  word-break: break-all;\n",
       "}\n",
       "\n",
       ".xr-icon-database,\n",
       ".xr-icon-file-text2 {\n",
       "  display: inline-block;\n",
       "  vertical-align: middle;\n",
       "  width: 1em;\n",
       "  height: 1.5em !important;\n",
       "  stroke-width: 0;\n",
       "  stroke: currentColor;\n",
       "  fill: currentColor;\n",
       "}\n",
       "</style><pre class='xr-text-repr-fallback'>&lt;xarray.DataArray &#x27;beta&#x27; (beta_dim_0: 200, beta_dim_1: 10)&gt;\n",
       "array([[7.70537829e-05, 1.26001026e-07, 1.83178577e-07, ...,\n",
       "        3.26455128e-07, 2.23969149e-07, 3.64569135e-07],\n",
       "       [1.68193047e-07, 1.55447327e-07, 1.51181311e-07, ...,\n",
       "        1.64776981e-07, 1.64286212e-07, 1.84377643e-07],\n",
       "       [1.79176055e-07, 1.89860413e-07, 2.05494372e-07, ...,\n",
       "        2.11882049e-07, 2.67728489e-07, 1.76008536e-07],\n",
       "       ...,\n",
       "       [2.94076836e-07, 7.20435383e-07, 1.61837132e-05, ...,\n",
       "        1.57934425e-05, 3.31787100e-07, 1.83227078e-07],\n",
       "       [1.95094809e-07, 3.76328825e-07, 1.50349510e-05, ...,\n",
       "        1.60030801e-05, 2.78282090e-07, 2.78640627e-07],\n",
       "       [1.59284945e-05, 4.27661269e-06, 4.09232761e-06, ...,\n",
       "        1.23457777e-05, 1.62674852e-05, 8.21780133e-06]])\n",
       "Coordinates:\n",
       "    chain       int64 0\n",
       "  * beta_dim_0  (beta_dim_0) int64 0 1 2 3 4 5 6 ... 193 194 195 196 197 198 199\n",
       "  * beta_dim_1  (beta_dim_1) int64 0 1 2 3 4 5 6 7 8 9</pre><div class='xr-wrap' style='display:none'><div class='xr-header'><div class='xr-obj-type'>xarray.DataArray</div><div class='xr-array-name'>'beta'</div><ul class='xr-dim-list'><li><span class='xr-has-index'>beta_dim_0</span>: 200</li><li><span class='xr-has-index'>beta_dim_1</span>: 10</li></ul></div><ul class='xr-sections'><li class='xr-section-item'><div class='xr-array-wrap'><input id='section-c6231507-1a02-450a-b301-e0c53bafc5e4' class='xr-array-in' type='checkbox' checked><label for='section-c6231507-1a02-450a-b301-e0c53bafc5e4' title='Show/hide data repr'><svg class='icon xr-icon-database'><use xlink:href='#icon-database'></use></svg></label><div class='xr-array-preview xr-preview'><span>7.705e-05 1.26e-07 1.832e-07 ... 1.235e-05 1.627e-05 8.218e-06</span></div><div class='xr-array-data'><pre>array([[7.70537829e-05, 1.26001026e-07, 1.83178577e-07, ...,\n",
       "        3.26455128e-07, 2.23969149e-07, 3.64569135e-07],\n",
       "       [1.68193047e-07, 1.55447327e-07, 1.51181311e-07, ...,\n",
       "        1.64776981e-07, 1.64286212e-07, 1.84377643e-07],\n",
       "       [1.79176055e-07, 1.89860413e-07, 2.05494372e-07, ...,\n",
       "        2.11882049e-07, 2.67728489e-07, 1.76008536e-07],\n",
       "       ...,\n",
       "       [2.94076836e-07, 7.20435383e-07, 1.61837132e-05, ...,\n",
       "        1.57934425e-05, 3.31787100e-07, 1.83227078e-07],\n",
       "       [1.95094809e-07, 3.76328825e-07, 1.50349510e-05, ...,\n",
       "        1.60030801e-05, 2.78282090e-07, 2.78640627e-07],\n",
       "       [1.59284945e-05, 4.27661269e-06, 4.09232761e-06, ...,\n",
       "        1.23457777e-05, 1.62674852e-05, 8.21780133e-06]])</pre></div></div></li><li class='xr-section-item'><input id='section-5889a302-6221-45eb-a641-03d4418798b6' class='xr-section-summary-in' type='checkbox'  checked><label for='section-5889a302-6221-45eb-a641-03d4418798b6' class='xr-section-summary' >Coordinates: <span>(3)</span></label><div class='xr-section-inline-details'></div><div class='xr-section-details'><ul class='xr-var-list'><li class='xr-var-item'><div class='xr-var-name'><span>chain</span></div><div class='xr-var-dims'>()</div><div class='xr-var-dtype'>int64</div><div class='xr-var-preview xr-preview'>0</div><input id='attrs-b397a787-6ca4-4c5c-81c5-a1eea8a9334d' class='xr-var-attrs-in' type='checkbox' disabled><label for='attrs-b397a787-6ca4-4c5c-81c5-a1eea8a9334d' title='Show/Hide attributes'><svg class='icon xr-icon-file-text2'><use xlink:href='#icon-file-text2'></use></svg></label><input id='data-13ec45c5-e1b3-4ab3-9156-e984797d3224' class='xr-var-data-in' type='checkbox'><label for='data-13ec45c5-e1b3-4ab3-9156-e984797d3224' title='Show/Hide data repr'><svg class='icon xr-icon-database'><use xlink:href='#icon-database'></use></svg></label><div class='xr-var-attrs'><dl class='xr-attrs'></dl></div><div class='xr-var-data'><pre>array(0)</pre></div></li><li class='xr-var-item'><div class='xr-var-name'><span class='xr-has-index'>beta_dim_0</span></div><div class='xr-var-dims'>(beta_dim_0)</div><div class='xr-var-dtype'>int64</div><div class='xr-var-preview xr-preview'>0 1 2 3 4 5 ... 195 196 197 198 199</div><input id='attrs-06b6a77b-17a4-4a8b-9f5a-d82f9dc30956' class='xr-var-attrs-in' type='checkbox' disabled><label for='attrs-06b6a77b-17a4-4a8b-9f5a-d82f9dc30956' title='Show/Hide attributes'><svg class='icon xr-icon-file-text2'><use xlink:href='#icon-file-text2'></use></svg></label><input id='data-ce1c1dd8-da0d-4187-9589-1e8bc07fa7f7' class='xr-var-data-in' type='checkbox'><label for='data-ce1c1dd8-da0d-4187-9589-1e8bc07fa7f7' title='Show/Hide data repr'><svg class='icon xr-icon-database'><use xlink:href='#icon-database'></use></svg></label><div class='xr-var-attrs'><dl class='xr-attrs'></dl></div><div class='xr-var-data'><pre>array([  0,   1,   2,   3,   4,   5,   6,   7,   8,   9,  10,  11,  12,  13,\n",
       "        14,  15,  16,  17,  18,  19,  20,  21,  22,  23,  24,  25,  26,  27,\n",
       "        28,  29,  30,  31,  32,  33,  34,  35,  36,  37,  38,  39,  40,  41,\n",
       "        42,  43,  44,  45,  46,  47,  48,  49,  50,  51,  52,  53,  54,  55,\n",
       "        56,  57,  58,  59,  60,  61,  62,  63,  64,  65,  66,  67,  68,  69,\n",
       "        70,  71,  72,  73,  74,  75,  76,  77,  78,  79,  80,  81,  82,  83,\n",
       "        84,  85,  86,  87,  88,  89,  90,  91,  92,  93,  94,  95,  96,  97,\n",
       "        98,  99, 100, 101, 102, 103, 104, 105, 106, 107, 108, 109, 110, 111,\n",
       "       112, 113, 114, 115, 116, 117, 118, 119, 120, 121, 122, 123, 124, 125,\n",
       "       126, 127, 128, 129, 130, 131, 132, 133, 134, 135, 136, 137, 138, 139,\n",
       "       140, 141, 142, 143, 144, 145, 146, 147, 148, 149, 150, 151, 152, 153,\n",
       "       154, 155, 156, 157, 158, 159, 160, 161, 162, 163, 164, 165, 166, 167,\n",
       "       168, 169, 170, 171, 172, 173, 174, 175, 176, 177, 178, 179, 180, 181,\n",
       "       182, 183, 184, 185, 186, 187, 188, 189, 190, 191, 192, 193, 194, 195,\n",
       "       196, 197, 198, 199])</pre></div></li><li class='xr-var-item'><div class='xr-var-name'><span class='xr-has-index'>beta_dim_1</span></div><div class='xr-var-dims'>(beta_dim_1)</div><div class='xr-var-dtype'>int64</div><div class='xr-var-preview xr-preview'>0 1 2 3 4 5 6 7 8 9</div><input id='attrs-181dcd47-657b-451b-8555-0cb855eaf9c8' class='xr-var-attrs-in' type='checkbox' disabled><label for='attrs-181dcd47-657b-451b-8555-0cb855eaf9c8' title='Show/Hide attributes'><svg class='icon xr-icon-file-text2'><use xlink:href='#icon-file-text2'></use></svg></label><input id='data-21a5b7b3-3a70-4d9f-a7ba-a3e3d9a9e4e8' class='xr-var-data-in' type='checkbox'><label for='data-21a5b7b3-3a70-4d9f-a7ba-a3e3d9a9e4e8' title='Show/Hide data repr'><svg class='icon xr-icon-database'><use xlink:href='#icon-database'></use></svg></label><div class='xr-var-attrs'><dl class='xr-attrs'></dl></div><div class='xr-var-data'><pre>array([0, 1, 2, 3, 4, 5, 6, 7, 8, 9])</pre></div></li></ul></div></li><li class='xr-section-item'><input id='section-151a37f0-7ced-4508-841d-44effcf2f0b4' class='xr-section-summary-in' type='checkbox' disabled ><label for='section-151a37f0-7ced-4508-841d-44effcf2f0b4' class='xr-section-summary'  title='Expand/collapse section'>Attributes: <span>(0)</span></label><div class='xr-section-inline-details'></div><div class='xr-section-details'><dl class='xr-attrs'></dl></div></li></ul></div></div>"
      ],
      "text/plain": [
       "<xarray.DataArray 'beta' (beta_dim_0: 200, beta_dim_1: 10)>\n",
       "array([[7.70537829e-05, 1.26001026e-07, 1.83178577e-07, ...,\n",
       "        3.26455128e-07, 2.23969149e-07, 3.64569135e-07],\n",
       "       [1.68193047e-07, 1.55447327e-07, 1.51181311e-07, ...,\n",
       "        1.64776981e-07, 1.64286212e-07, 1.84377643e-07],\n",
       "       [1.79176055e-07, 1.89860413e-07, 2.05494372e-07, ...,\n",
       "        2.11882049e-07, 2.67728489e-07, 1.76008536e-07],\n",
       "       ...,\n",
       "       [2.94076836e-07, 7.20435383e-07, 1.61837132e-05, ...,\n",
       "        1.57934425e-05, 3.31787100e-07, 1.83227078e-07],\n",
       "       [1.95094809e-07, 3.76328825e-07, 1.50349510e-05, ...,\n",
       "        1.60030801e-05, 2.78282090e-07, 2.78640627e-07],\n",
       "       [1.59284945e-05, 4.27661269e-06, 4.09232761e-06, ...,\n",
       "        1.23457777e-05, 1.62674852e-05, 8.21780133e-06]])\n",
       "Coordinates:\n",
       "    chain       int64 0\n",
       "  * beta_dim_0  (beta_dim_0) int64 0 1 2 3 4 5 6 ... 193 194 195 196 197 198 199\n",
       "  * beta_dim_1  (beta_dim_1) int64 0 1 2 3 4 5 6 7 8 9"
      ]
     },
     "execution_count": 43,
     "metadata": {},
     "output_type": "execute_result"
    }
   ],
   "source": [
    "mean_beta"
   ]
  },
  {
   "cell_type": "code",
   "execution_count": 53,
   "id": "38a36ef4",
   "metadata": {},
   "outputs": [
    {
     "data": {
      "text/plain": [
       "(200, 10)"
      ]
     },
     "execution_count": 53,
     "metadata": {},
     "output_type": "execute_result"
    }
   ],
   "source": [
    "mean_beta = np.mean(chain1,axis=0)\n",
    "mean_beta.shape"
   ]
  },
  {
   "cell_type": "code",
   "execution_count": 35,
   "id": "025d384f",
   "metadata": {},
   "outputs": [
    {
     "data": {
      "text/plain": [
       "(200, 10)"
      ]
     },
     "execution_count": 35,
     "metadata": {},
     "output_type": "execute_result"
    }
   ],
   "source": [
    "prop_vec.shape"
   ]
  },
  {
   "cell_type": "code",
   "execution_count": 21,
   "id": "d9f043f6",
   "metadata": {},
   "outputs": [
    {
     "ename": "NameError",
     "evalue": "name 'mean_beta' is not defined",
     "output_type": "error",
     "traceback": [
      "\u001b[0;31m---------------------------------------------------------------------------\u001b[0m",
      "\u001b[0;31mNameError\u001b[0m                                 Traceback (most recent call last)",
      "\u001b[0;32m/var/folders/dg/6h9j_y2j1qg7gy2bdfrg5_lh0000gn/T/ipykernel_53138/2861401679.py\u001b[0m in \u001b[0;36m<module>\u001b[0;34m\u001b[0m\n\u001b[0;32m----> 1\u001b[0;31m \u001b[0mplt\u001b[0m\u001b[0;34m.\u001b[0m\u001b[0mscatter\u001b[0m\u001b[0;34m(\u001b[0m\u001b[0mnp\u001b[0m\u001b[0;34m.\u001b[0m\u001b[0mravel\u001b[0m\u001b[0;34m(\u001b[0m\u001b[0mprop_vec\u001b[0m\u001b[0;34m)\u001b[0m\u001b[0;34m,\u001b[0m \u001b[0mnp\u001b[0m\u001b[0;34m.\u001b[0m\u001b[0mravel\u001b[0m\u001b[0;34m(\u001b[0m\u001b[0mmean_beta\u001b[0m\u001b[0;34m)\u001b[0m\u001b[0;34m)\u001b[0m\u001b[0;34m\u001b[0m\u001b[0;34m\u001b[0m\u001b[0m\n\u001b[0m\u001b[1;32m      2\u001b[0m \u001b[0mplt\u001b[0m\u001b[0;34m.\u001b[0m\u001b[0mxlabel\u001b[0m\u001b[0;34m(\u001b[0m\u001b[0;34m\"True Weight\"\u001b[0m\u001b[0;34m)\u001b[0m\u001b[0;34m\u001b[0m\u001b[0;34m\u001b[0m\u001b[0m\n\u001b[1;32m      3\u001b[0m \u001b[0mplt\u001b[0m\u001b[0;34m.\u001b[0m\u001b[0mylabel\u001b[0m\u001b[0;34m(\u001b[0m\u001b[0;34m\"Estimated Weight\"\u001b[0m\u001b[0;34m)\u001b[0m\u001b[0;34m\u001b[0m\u001b[0;34m\u001b[0m\u001b[0m\n",
      "\u001b[0;31mNameError\u001b[0m: name 'mean_beta' is not defined"
     ]
    }
   ],
   "source": [
    "plt.scatter(np.ravel(prop_vec), np.ravel(mean_beta))\n",
    "plt.xlabel(\"True Weight\")\n",
    "plt.ylabel(\"Estimated Weight\")"
   ]
  },
  {
   "cell_type": "code",
   "execution_count": null,
   "id": "4b872007",
   "metadata": {},
   "outputs": [],
   "source": []
  },
  {
   "cell_type": "code",
   "execution_count": null,
   "id": "c525a67a",
   "metadata": {},
   "outputs": [],
   "source": [
    "plt.scatter(np.ravel(tw_arr), np.ravel(normalized_mean_beta))\n",
    "plt.xlabel(\"True Weight\")\n",
    "plt.ylabel(\"Estimated Weight\")\n",
    "\n",
    "line_fit=scp.linregress(np.ravel(tw_arr), np.ravel(normalized_mean_beta))\n",
    "\n",
    "# Create sequence of 100 numbers from 0 to 100 \n",
    "xseq = np.linspace(0, 1, num=100)\n",
    "\n",
    "# Plot regression line\n",
    "plt.plot(xseq, line_fit.intercept + line_fit.slope*xseq, 'r',)\n",
    "plt.annotate(\"r-squared = {:.3f}\".format(line_fit.rvalue**2), (0, 1))\n",
    "plt.show()\n"
   ]
  },
  {
   "cell_type": "code",
   "execution_count": 32,
   "id": "25362d29",
   "metadata": {},
   "outputs": [
    {
     "data": {
      "text/plain": [
       "(200, 10)"
      ]
     },
     "execution_count": 32,
     "metadata": {},
     "output_type": "execute_result"
    }
   ],
   "source": [
    "mean_beta.shape"
   ]
  },
  {
   "cell_type": "code",
   "execution_count": 6,
   "id": "bfec116e",
   "metadata": {},
   "outputs": [],
   "source": [
    "import scipy.stats as scp"
   ]
  },
  {
   "cell_type": "code",
   "execution_count": 7,
   "id": "fd96b783",
   "metadata": {},
   "outputs": [],
   "source": [
    "orig_counts=pd.read_csv(\"original_counts.csv\")\n",
    "ref=pd.read_csv(\"reference.csv\")\n",
    "metadata=pd.read_csv(\"simulated_metadata.csv\")\n",
    "spots=pd.read_csv(\"simulated_spots.csv\")"
   ]
  },
  {
   "cell_type": "code",
   "execution_count": 8,
   "id": "28688e26",
   "metadata": {
    "scrolled": true
   },
   "outputs": [
    {
     "data": {
      "text/plain": [
       "14    NKG7\n",
       "Name: gene, dtype: object"
      ]
     },
     "execution_count": 8,
     "metadata": {},
     "output_type": "execute_result"
    }
   ],
   "source": [
    "spots[\"gene\"][spots[\"gene\"]==\"NKG7\"]"
   ]
  },
  {
   "cell_type": "code",
   "execution_count": 9,
   "id": "0fccf5de",
   "metadata": {},
   "outputs": [],
   "source": [
    "rates = np.asarray(spots)[:,1:]/np.sum(np.asarray(spots)[:,1:], axis=0)"
   ]
  },
  {
   "cell_type": "code",
   "execution_count": 10,
   "id": "7fcebf6e",
   "metadata": {},
   "outputs": [],
   "source": [
    "rates=rates*1e4\n",
    "\n",
    "#log_rate=np.log(rates.astype('float64'))\n",
    "\n"
   ]
  },
  {
   "cell_type": "code",
   "execution_count": 11,
   "id": "07a6d6a4",
   "metadata": {},
   "outputs": [],
   "source": [
    "#plt.hist(log_rate[14,:], bins = 100)\n",
    "#plt.show()"
   ]
  },
  {
   "cell_type": "code",
   "execution_count": 12,
   "id": "1502d18b",
   "metadata": {},
   "outputs": [],
   "source": [
    "ref = np.asarray(ref)*1e4"
   ]
  },
  {
   "cell_type": "code",
   "execution_count": 13,
   "id": "cd78b8aa",
   "metadata": {
    "scrolled": true
   },
   "outputs": [
    {
     "data": {
      "text/html": [
       "<div>\n",
       "<style scoped>\n",
       "    .dataframe tbody tr th:only-of-type {\n",
       "        vertical-align: middle;\n",
       "    }\n",
       "\n",
       "    .dataframe tbody tr th {\n",
       "        vertical-align: top;\n",
       "    }\n",
       "\n",
       "    .dataframe thead th {\n",
       "        text-align: right;\n",
       "    }\n",
       "</style>\n",
       "<table border=\"1\" class=\"dataframe\">\n",
       "  <thead>\n",
       "    <tr style=\"text-align: right;\">\n",
       "      <th></th>\n",
       "      <th>0</th>\n",
       "      <th>1</th>\n",
       "      <th>2</th>\n",
       "      <th>3</th>\n",
       "      <th>4</th>\n",
       "      <th>5</th>\n",
       "      <th>6</th>\n",
       "      <th>7</th>\n",
       "      <th>8</th>\n",
       "    </tr>\n",
       "  </thead>\n",
       "  <tbody>\n",
       "    <tr>\n",
       "      <th>0</th>\n",
       "      <td>253.164557</td>\n",
       "      <td>729.166667</td>\n",
       "      <td>169.491525</td>\n",
       "      <td>145.348837</td>\n",
       "      <td>143.369176</td>\n",
       "      <td>864.197531</td>\n",
       "      <td>0.000000</td>\n",
       "      <td>312.5</td>\n",
       "      <td>407857.142857</td>\n",
       "    </tr>\n",
       "    <tr>\n",
       "      <th>1</th>\n",
       "      <td>6455.696203</td>\n",
       "      <td>462583.333333</td>\n",
       "      <td>8199.152542</td>\n",
       "      <td>6250.000000</td>\n",
       "      <td>5770.609319</td>\n",
       "      <td>109135.802469</td>\n",
       "      <td>5625.000000</td>\n",
       "      <td>673125.0</td>\n",
       "      <td>20000.000000</td>\n",
       "    </tr>\n",
       "    <tr>\n",
       "      <th>2</th>\n",
       "      <td>1533.052039</td>\n",
       "      <td>312020.833333</td>\n",
       "      <td>1970.338983</td>\n",
       "      <td>1569.767442</td>\n",
       "      <td>1648.745520</td>\n",
       "      <td>45432.098765</td>\n",
       "      <td>1388.888889</td>\n",
       "      <td>52500.0</td>\n",
       "      <td>7857.142857</td>\n",
       "    </tr>\n",
       "    <tr>\n",
       "      <th>3</th>\n",
       "      <td>84.388186</td>\n",
       "      <td>41.666667</td>\n",
       "      <td>148.305085</td>\n",
       "      <td>19854.651163</td>\n",
       "      <td>71.684588</td>\n",
       "      <td>1543.209877</td>\n",
       "      <td>138.888889</td>\n",
       "      <td>625.0</td>\n",
       "      <td>714.285714</td>\n",
       "    </tr>\n",
       "    <tr>\n",
       "      <th>4</th>\n",
       "      <td>1054.852321</td>\n",
       "      <td>1729.166667</td>\n",
       "      <td>1355.932203</td>\n",
       "      <td>843.023256</td>\n",
       "      <td>36881.720430</td>\n",
       "      <td>1358.024691</td>\n",
       "      <td>201944.444444</td>\n",
       "      <td>2500.0</td>\n",
       "      <td>714.285714</td>\n",
       "    </tr>\n",
       "    <tr>\n",
       "      <th>...</th>\n",
       "      <td>...</td>\n",
       "      <td>...</td>\n",
       "      <td>...</td>\n",
       "      <td>...</td>\n",
       "      <td>...</td>\n",
       "      <td>...</td>\n",
       "      <td>...</td>\n",
       "      <td>...</td>\n",
       "      <td>...</td>\n",
       "    </tr>\n",
       "    <tr>\n",
       "      <th>495</th>\n",
       "      <td>98.452883</td>\n",
       "      <td>479.166667</td>\n",
       "      <td>127.118644</td>\n",
       "      <td>58.139535</td>\n",
       "      <td>179.211470</td>\n",
       "      <td>1543.209877</td>\n",
       "      <td>277.777778</td>\n",
       "      <td>625.0</td>\n",
       "      <td>0.000000</td>\n",
       "    </tr>\n",
       "    <tr>\n",
       "      <th>496</th>\n",
       "      <td>506.329114</td>\n",
       "      <td>708.333333</td>\n",
       "      <td>487.288136</td>\n",
       "      <td>1569.767442</td>\n",
       "      <td>501.792115</td>\n",
       "      <td>1049.382716</td>\n",
       "      <td>416.666667</td>\n",
       "      <td>1562.5</td>\n",
       "      <td>0.000000</td>\n",
       "    </tr>\n",
       "    <tr>\n",
       "      <th>497</th>\n",
       "      <td>2869.198312</td>\n",
       "      <td>44000.000000</td>\n",
       "      <td>4216.101695</td>\n",
       "      <td>3808.139535</td>\n",
       "      <td>4480.286738</td>\n",
       "      <td>21790.123457</td>\n",
       "      <td>10694.444444</td>\n",
       "      <td>75625.0</td>\n",
       "      <td>9285.714286</td>\n",
       "    </tr>\n",
       "    <tr>\n",
       "      <th>498</th>\n",
       "      <td>42.194093</td>\n",
       "      <td>270.833333</td>\n",
       "      <td>254.237288</td>\n",
       "      <td>406.976744</td>\n",
       "      <td>35.842294</td>\n",
       "      <td>123.456790</td>\n",
       "      <td>0.000000</td>\n",
       "      <td>0.0</td>\n",
       "      <td>0.000000</td>\n",
       "    </tr>\n",
       "    <tr>\n",
       "      <th>499</th>\n",
       "      <td>267.229255</td>\n",
       "      <td>250.000000</td>\n",
       "      <td>190.677966</td>\n",
       "      <td>261.627907</td>\n",
       "      <td>143.369176</td>\n",
       "      <td>308.641975</td>\n",
       "      <td>763.888889</td>\n",
       "      <td>0.0</td>\n",
       "      <td>0.000000</td>\n",
       "    </tr>\n",
       "  </tbody>\n",
       "</table>\n",
       "<p>500 rows × 9 columns</p>\n",
       "</div>"
      ],
      "text/plain": [
       "               0              1            2             3             4  \\\n",
       "0     253.164557     729.166667   169.491525    145.348837    143.369176   \n",
       "1    6455.696203  462583.333333  8199.152542   6250.000000   5770.609319   \n",
       "2    1533.052039  312020.833333  1970.338983   1569.767442   1648.745520   \n",
       "3      84.388186      41.666667   148.305085  19854.651163     71.684588   \n",
       "4    1054.852321    1729.166667  1355.932203    843.023256  36881.720430   \n",
       "..           ...            ...          ...           ...           ...   \n",
       "495    98.452883     479.166667   127.118644     58.139535    179.211470   \n",
       "496   506.329114     708.333333   487.288136   1569.767442    501.792115   \n",
       "497  2869.198312   44000.000000  4216.101695   3808.139535   4480.286738   \n",
       "498    42.194093     270.833333   254.237288    406.976744     35.842294   \n",
       "499   267.229255     250.000000   190.677966    261.627907    143.369176   \n",
       "\n",
       "                 5              6         7              8  \n",
       "0       864.197531       0.000000     312.5  407857.142857  \n",
       "1    109135.802469    5625.000000  673125.0   20000.000000  \n",
       "2     45432.098765    1388.888889   52500.0    7857.142857  \n",
       "3      1543.209877     138.888889     625.0     714.285714  \n",
       "4      1358.024691  201944.444444    2500.0     714.285714  \n",
       "..             ...            ...       ...            ...  \n",
       "495    1543.209877     277.777778     625.0       0.000000  \n",
       "496    1049.382716     416.666667    1562.5       0.000000  \n",
       "497   21790.123457   10694.444444   75625.0    9285.714286  \n",
       "498     123.456790       0.000000       0.0       0.000000  \n",
       "499     308.641975     763.888889       0.0       0.000000  \n",
       "\n",
       "[500 rows x 9 columns]"
      ]
     },
     "execution_count": 13,
     "metadata": {},
     "output_type": "execute_result"
    }
   ],
   "source": [
    "pd.DataFrame(ref)"
   ]
  },
  {
   "cell_type": "code",
   "execution_count": 14,
   "id": "721ccda3",
   "metadata": {},
   "outputs": [
    {
     "data": {
      "text/html": [
       "<div>\n",
       "<style scoped>\n",
       "    .dataframe tbody tr th:only-of-type {\n",
       "        vertical-align: middle;\n",
       "    }\n",
       "\n",
       "    .dataframe tbody tr th {\n",
       "        vertical-align: top;\n",
       "    }\n",
       "\n",
       "    .dataframe thead th {\n",
       "        text-align: right;\n",
       "    }\n",
       "</style>\n",
       "<table border=\"1\" class=\"dataframe\">\n",
       "  <thead>\n",
       "    <tr style=\"text-align: right;\">\n",
       "      <th></th>\n",
       "      <th>0</th>\n",
       "      <th>1</th>\n",
       "      <th>2</th>\n",
       "      <th>3</th>\n",
       "      <th>4</th>\n",
       "      <th>5</th>\n",
       "      <th>6</th>\n",
       "      <th>7</th>\n",
       "      <th>8</th>\n",
       "      <th>9</th>\n",
       "      <th>...</th>\n",
       "      <th>835</th>\n",
       "      <th>836</th>\n",
       "      <th>837</th>\n",
       "      <th>838</th>\n",
       "      <th>839</th>\n",
       "      <th>840</th>\n",
       "      <th>841</th>\n",
       "      <th>842</th>\n",
       "      <th>843</th>\n",
       "      <th>844</th>\n",
       "    </tr>\n",
       "  </thead>\n",
       "  <tbody>\n",
       "    <tr>\n",
       "      <th>0</th>\n",
       "      <td>0.0</td>\n",
       "      <td>0.0</td>\n",
       "      <td>0.0</td>\n",
       "      <td>0.0</td>\n",
       "      <td>0.0</td>\n",
       "      <td>0.0</td>\n",
       "      <td>0.0</td>\n",
       "      <td>0.0</td>\n",
       "      <td>0.0</td>\n",
       "      <td>0.0</td>\n",
       "      <td>...</td>\n",
       "      <td>22.222222</td>\n",
       "      <td>0.0</td>\n",
       "      <td>0.0</td>\n",
       "      <td>0.0</td>\n",
       "      <td>0.0</td>\n",
       "      <td>0.0</td>\n",
       "      <td>0.0</td>\n",
       "      <td>0.0</td>\n",
       "      <td>0.0</td>\n",
       "      <td>0.0</td>\n",
       "    </tr>\n",
       "    <tr>\n",
       "      <th>1</th>\n",
       "      <td>93.457944</td>\n",
       "      <td>375.93985</td>\n",
       "      <td>0.0</td>\n",
       "      <td>736.196319</td>\n",
       "      <td>746.812386</td>\n",
       "      <td>635.294118</td>\n",
       "      <td>458.715596</td>\n",
       "      <td>106.382979</td>\n",
       "      <td>671.378092</td>\n",
       "      <td>0.0</td>\n",
       "      <td>...</td>\n",
       "      <td>888.888889</td>\n",
       "      <td>813.953488</td>\n",
       "      <td>1108.033241</td>\n",
       "      <td>63.291139</td>\n",
       "      <td>64.102564</td>\n",
       "      <td>123.45679</td>\n",
       "      <td>0.0</td>\n",
       "      <td>95.541401</td>\n",
       "      <td>0.0</td>\n",
       "      <td>81.967213</td>\n",
       "    </tr>\n",
       "    <tr>\n",
       "      <th>2</th>\n",
       "      <td>0.0</td>\n",
       "      <td>0.0</td>\n",
       "      <td>0.0</td>\n",
       "      <td>613.496933</td>\n",
       "      <td>346.083789</td>\n",
       "      <td>352.941176</td>\n",
       "      <td>114.678899</td>\n",
       "      <td>53.191489</td>\n",
       "      <td>459.363958</td>\n",
       "      <td>0.0</td>\n",
       "      <td>...</td>\n",
       "      <td>511.111111</td>\n",
       "      <td>581.395349</td>\n",
       "      <td>1246.537396</td>\n",
       "      <td>0.0</td>\n",
       "      <td>0.0</td>\n",
       "      <td>0.0</td>\n",
       "      <td>0.0</td>\n",
       "      <td>159.235669</td>\n",
       "      <td>0.0</td>\n",
       "      <td>40.983607</td>\n",
       "    </tr>\n",
       "    <tr>\n",
       "      <th>3</th>\n",
       "      <td>0.0</td>\n",
       "      <td>0.0</td>\n",
       "      <td>0.0</td>\n",
       "      <td>0.0</td>\n",
       "      <td>0.0</td>\n",
       "      <td>0.0</td>\n",
       "      <td>0.0</td>\n",
       "      <td>0.0</td>\n",
       "      <td>0.0</td>\n",
       "      <td>0.0</td>\n",
       "      <td>...</td>\n",
       "      <td>0.0</td>\n",
       "      <td>0.0</td>\n",
       "      <td>0.0</td>\n",
       "      <td>0.0</td>\n",
       "      <td>0.0</td>\n",
       "      <td>0.0</td>\n",
       "      <td>0.0</td>\n",
       "      <td>0.0</td>\n",
       "      <td>0.0</td>\n",
       "      <td>0.0</td>\n",
       "    </tr>\n",
       "    <tr>\n",
       "      <th>4</th>\n",
       "      <td>0.0</td>\n",
       "      <td>0.0</td>\n",
       "      <td>581.395349</td>\n",
       "      <td>122.699387</td>\n",
       "      <td>0.0</td>\n",
       "      <td>0.0</td>\n",
       "      <td>0.0</td>\n",
       "      <td>0.0</td>\n",
       "      <td>0.0</td>\n",
       "      <td>0.0</td>\n",
       "      <td>...</td>\n",
       "      <td>0.0</td>\n",
       "      <td>0.0</td>\n",
       "      <td>0.0</td>\n",
       "      <td>0.0</td>\n",
       "      <td>0.0</td>\n",
       "      <td>0.0</td>\n",
       "      <td>0.0</td>\n",
       "      <td>0.0</td>\n",
       "      <td>0.0</td>\n",
       "      <td>40.983607</td>\n",
       "    </tr>\n",
       "    <tr>\n",
       "      <th>...</th>\n",
       "      <td>...</td>\n",
       "      <td>...</td>\n",
       "      <td>...</td>\n",
       "      <td>...</td>\n",
       "      <td>...</td>\n",
       "      <td>...</td>\n",
       "      <td>...</td>\n",
       "      <td>...</td>\n",
       "      <td>...</td>\n",
       "      <td>...</td>\n",
       "      <td>...</td>\n",
       "      <td>...</td>\n",
       "      <td>...</td>\n",
       "      <td>...</td>\n",
       "      <td>...</td>\n",
       "      <td>...</td>\n",
       "      <td>...</td>\n",
       "      <td>...</td>\n",
       "      <td>...</td>\n",
       "      <td>...</td>\n",
       "      <td>...</td>\n",
       "    </tr>\n",
       "    <tr>\n",
       "      <th>495</th>\n",
       "      <td>0.0</td>\n",
       "      <td>0.0</td>\n",
       "      <td>0.0</td>\n",
       "      <td>0.0</td>\n",
       "      <td>0.0</td>\n",
       "      <td>0.0</td>\n",
       "      <td>22.93578</td>\n",
       "      <td>0.0</td>\n",
       "      <td>0.0</td>\n",
       "      <td>0.0</td>\n",
       "      <td>...</td>\n",
       "      <td>0.0</td>\n",
       "      <td>0.0</td>\n",
       "      <td>0.0</td>\n",
       "      <td>0.0</td>\n",
       "      <td>0.0</td>\n",
       "      <td>0.0</td>\n",
       "      <td>0.0</td>\n",
       "      <td>0.0</td>\n",
       "      <td>0.0</td>\n",
       "      <td>0.0</td>\n",
       "    </tr>\n",
       "    <tr>\n",
       "      <th>496</th>\n",
       "      <td>0.0</td>\n",
       "      <td>0.0</td>\n",
       "      <td>0.0</td>\n",
       "      <td>0.0</td>\n",
       "      <td>0.0</td>\n",
       "      <td>0.0</td>\n",
       "      <td>0.0</td>\n",
       "      <td>0.0</td>\n",
       "      <td>0.0</td>\n",
       "      <td>0.0</td>\n",
       "      <td>...</td>\n",
       "      <td>0.0</td>\n",
       "      <td>0.0</td>\n",
       "      <td>0.0</td>\n",
       "      <td>0.0</td>\n",
       "      <td>0.0</td>\n",
       "      <td>0.0</td>\n",
       "      <td>0.0</td>\n",
       "      <td>0.0</td>\n",
       "      <td>0.0</td>\n",
       "      <td>0.0</td>\n",
       "    </tr>\n",
       "    <tr>\n",
       "      <th>497</th>\n",
       "      <td>0.0</td>\n",
       "      <td>75.18797</td>\n",
       "      <td>0.0</td>\n",
       "      <td>30.674847</td>\n",
       "      <td>109.289617</td>\n",
       "      <td>47.058824</td>\n",
       "      <td>114.678899</td>\n",
       "      <td>53.191489</td>\n",
       "      <td>70.671378</td>\n",
       "      <td>68.027211</td>\n",
       "      <td>...</td>\n",
       "      <td>133.333333</td>\n",
       "      <td>0.0</td>\n",
       "      <td>55.401662</td>\n",
       "      <td>63.291139</td>\n",
       "      <td>0.0</td>\n",
       "      <td>123.45679</td>\n",
       "      <td>0.0</td>\n",
       "      <td>63.694268</td>\n",
       "      <td>137.931034</td>\n",
       "      <td>40.983607</td>\n",
       "    </tr>\n",
       "    <tr>\n",
       "      <th>498</th>\n",
       "      <td>0.0</td>\n",
       "      <td>0.0</td>\n",
       "      <td>0.0</td>\n",
       "      <td>0.0</td>\n",
       "      <td>0.0</td>\n",
       "      <td>0.0</td>\n",
       "      <td>0.0</td>\n",
       "      <td>0.0</td>\n",
       "      <td>0.0</td>\n",
       "      <td>0.0</td>\n",
       "      <td>...</td>\n",
       "      <td>0.0</td>\n",
       "      <td>0.0</td>\n",
       "      <td>0.0</td>\n",
       "      <td>0.0</td>\n",
       "      <td>0.0</td>\n",
       "      <td>0.0</td>\n",
       "      <td>0.0</td>\n",
       "      <td>0.0</td>\n",
       "      <td>0.0</td>\n",
       "      <td>0.0</td>\n",
       "    </tr>\n",
       "    <tr>\n",
       "      <th>499</th>\n",
       "      <td>0.0</td>\n",
       "      <td>0.0</td>\n",
       "      <td>0.0</td>\n",
       "      <td>0.0</td>\n",
       "      <td>0.0</td>\n",
       "      <td>0.0</td>\n",
       "      <td>0.0</td>\n",
       "      <td>0.0</td>\n",
       "      <td>0.0</td>\n",
       "      <td>0.0</td>\n",
       "      <td>...</td>\n",
       "      <td>0.0</td>\n",
       "      <td>0.0</td>\n",
       "      <td>0.0</td>\n",
       "      <td>0.0</td>\n",
       "      <td>0.0</td>\n",
       "      <td>0.0</td>\n",
       "      <td>0.0</td>\n",
       "      <td>0.0</td>\n",
       "      <td>0.0</td>\n",
       "      <td>0.0</td>\n",
       "    </tr>\n",
       "  </tbody>\n",
       "</table>\n",
       "<p>500 rows × 845 columns</p>\n",
       "</div>"
      ],
      "text/plain": [
       "           0          1           2           3           4           5    \\\n",
       "0          0.0        0.0         0.0         0.0         0.0         0.0   \n",
       "1    93.457944  375.93985         0.0  736.196319  746.812386  635.294118   \n",
       "2          0.0        0.0         0.0  613.496933  346.083789  352.941176   \n",
       "3          0.0        0.0         0.0         0.0         0.0         0.0   \n",
       "4          0.0        0.0  581.395349  122.699387         0.0         0.0   \n",
       "..         ...        ...         ...         ...         ...         ...   \n",
       "495        0.0        0.0         0.0         0.0         0.0         0.0   \n",
       "496        0.0        0.0         0.0         0.0         0.0         0.0   \n",
       "497        0.0   75.18797         0.0   30.674847  109.289617   47.058824   \n",
       "498        0.0        0.0         0.0         0.0         0.0         0.0   \n",
       "499        0.0        0.0         0.0         0.0         0.0         0.0   \n",
       "\n",
       "            6           7           8          9    ...         835  \\\n",
       "0           0.0         0.0         0.0        0.0  ...   22.222222   \n",
       "1    458.715596  106.382979  671.378092        0.0  ...  888.888889   \n",
       "2    114.678899   53.191489  459.363958        0.0  ...  511.111111   \n",
       "3           0.0         0.0         0.0        0.0  ...         0.0   \n",
       "4           0.0         0.0         0.0        0.0  ...         0.0   \n",
       "..          ...         ...         ...        ...  ...         ...   \n",
       "495    22.93578         0.0         0.0        0.0  ...         0.0   \n",
       "496         0.0         0.0         0.0        0.0  ...         0.0   \n",
       "497  114.678899   53.191489   70.671378  68.027211  ...  133.333333   \n",
       "498         0.0         0.0         0.0        0.0  ...         0.0   \n",
       "499         0.0         0.0         0.0        0.0  ...         0.0   \n",
       "\n",
       "            836          837        838        839        840  841  \\\n",
       "0           0.0          0.0        0.0        0.0        0.0  0.0   \n",
       "1    813.953488  1108.033241  63.291139  64.102564  123.45679  0.0   \n",
       "2    581.395349  1246.537396        0.0        0.0        0.0  0.0   \n",
       "3           0.0          0.0        0.0        0.0        0.0  0.0   \n",
       "4           0.0          0.0        0.0        0.0        0.0  0.0   \n",
       "..          ...          ...        ...        ...        ...  ...   \n",
       "495         0.0          0.0        0.0        0.0        0.0  0.0   \n",
       "496         0.0          0.0        0.0        0.0        0.0  0.0   \n",
       "497         0.0    55.401662  63.291139        0.0  123.45679  0.0   \n",
       "498         0.0          0.0        0.0        0.0        0.0  0.0   \n",
       "499         0.0          0.0        0.0        0.0        0.0  0.0   \n",
       "\n",
       "            842         843        844  \n",
       "0           0.0         0.0        0.0  \n",
       "1     95.541401         0.0  81.967213  \n",
       "2    159.235669         0.0  40.983607  \n",
       "3           0.0         0.0        0.0  \n",
       "4           0.0         0.0  40.983607  \n",
       "..          ...         ...        ...  \n",
       "495         0.0         0.0        0.0  \n",
       "496         0.0         0.0        0.0  \n",
       "497   63.694268  137.931034  40.983607  \n",
       "498         0.0         0.0        0.0  \n",
       "499         0.0         0.0        0.0  \n",
       "\n",
       "[500 rows x 845 columns]"
      ]
     },
     "execution_count": 14,
     "metadata": {},
     "output_type": "execute_result"
    }
   ],
   "source": [
    "pd.DataFrame(rates)"
   ]
  },
  {
   "cell_type": "code",
   "execution_count": 15,
   "id": "ed58781f",
   "metadata": {},
   "outputs": [
    {
     "data": {
      "text/plain": [
       "((500, 9), (500, 845))"
      ]
     },
     "execution_count": 15,
     "metadata": {},
     "output_type": "execute_result"
    }
   ],
   "source": [
    "ref.shape, rates.shape"
   ]
  },
  {
   "cell_type": "code",
   "execution_count": 16,
   "id": "dd635344",
   "metadata": {},
   "outputs": [],
   "source": [
    "rates=rates.astype('float64')\n",
    "ref=ref.astype('float64')"
   ]
  },
  {
   "cell_type": "code",
   "execution_count": 39,
   "id": "4cc86980",
   "metadata": {
    "scrolled": true
   },
   "outputs": [],
   "source": [
    "ncell=50\n",
    "basic_model=pm.Model()\n",
    "\n",
    "with basic_model:\n",
    "    #alpha=pm.Normal(\"alpha\", mu=0, sigma=1, shape=ncell)\n",
    "    beta=pm.HalfNormal(\"beta\",sigma=1, shape=(9, ncell))\n",
    "    \n",
    "    mu= pm.math.dot(ref, beta)\n",
    "    \n",
    "    y=pm.Poisson(\"y\", mu, observed=rates[:,0:ncell])\n",
    "    "
   ]
  },
  {
   "cell_type": "code",
   "execution_count": 40,
   "id": "fd88e24b",
   "metadata": {},
   "outputs": [
    {
     "data": {
      "text/plain": [
       "(500, 9)"
      ]
     },
     "execution_count": 40,
     "metadata": {},
     "output_type": "execute_result"
    }
   ],
   "source": [
    "ref.shape\n"
   ]
  },
  {
   "cell_type": "code",
   "execution_count": 41,
   "id": "f74b3b0c",
   "metadata": {},
   "outputs": [
    {
     "data": {
      "image/svg+xml": [
       "<?xml version=\"1.0\" encoding=\"UTF-8\" standalone=\"no\"?>\n",
       "<!DOCTYPE svg PUBLIC \"-//W3C//DTD SVG 1.1//EN\"\n",
       " \"http://www.w3.org/Graphics/SVG/1.1/DTD/svg11.dtd\">\n",
       "<!-- Generated by graphviz version 7.1.0 (20230122.1345)\n",
       " -->\n",
       "<!-- Pages: 1 -->\n",
       "<svg width=\"182pt\" height=\"260pt\"\n",
       " viewBox=\"0.00 0.00 182.00 259.91\" xmlns=\"http://www.w3.org/2000/svg\" xmlns:xlink=\"http://www.w3.org/1999/xlink\">\n",
       "<g id=\"graph0\" class=\"graph\" transform=\"scale(1 1) rotate(0) translate(4 255.91)\">\n",
       "<polygon fill=\"white\" stroke=\"none\" points=\"-4,4 -4,-255.91 178,-255.91 178,4 -4,4\"/>\n",
       "<g id=\"clust1\" class=\"cluster\">\n",
       "<title>cluster9 x 50</title>\n",
       "<path fill=\"none\" stroke=\"black\" d=\"M20,-129.95C20,-129.95 154,-129.95 154,-129.95 160,-129.95 166,-135.95 166,-141.95 166,-141.95 166,-231.91 166,-231.91 166,-237.91 160,-243.91 154,-243.91 154,-243.91 20,-243.91 20,-243.91 14,-243.91 8,-237.91 8,-231.91 8,-231.91 8,-141.95 8,-141.95 8,-135.95 14,-129.95 20,-129.95\"/>\n",
       "<text text-anchor=\"middle\" x=\"135.5\" y=\"-137.75\" font-family=\"Times,serif\" font-size=\"14.00\">9 x 50</text>\n",
       "</g>\n",
       "<g id=\"clust2\" class=\"cluster\">\n",
       "<title>cluster500 x 50</title>\n",
       "<path fill=\"none\" stroke=\"black\" d=\"M41,-8C41,-8 133,-8 133,-8 139,-8 145,-14 145,-20 145,-20 145,-109.95 145,-109.95 145,-115.95 139,-121.95 133,-121.95 133,-121.95 41,-121.95 41,-121.95 35,-121.95 29,-115.95 29,-109.95 29,-109.95 29,-20 29,-20 29,-14 35,-8 41,-8\"/>\n",
       "<text text-anchor=\"middle\" x=\"105.5\" y=\"-15.8\" font-family=\"Times,serif\" font-size=\"14.00\">500 x 50</text>\n",
       "</g>\n",
       "<!-- beta -->\n",
       "<g id=\"node1\" class=\"node\">\n",
       "<title>beta</title>\n",
       "<ellipse fill=\"none\" stroke=\"black\" cx=\"87\" cy=\"-198.43\" rx=\"70.92\" ry=\"37.45\"/>\n",
       "<text text-anchor=\"middle\" x=\"87\" y=\"-209.73\" font-family=\"Times,serif\" font-size=\"14.00\">beta</text>\n",
       "<text text-anchor=\"middle\" x=\"87\" y=\"-194.73\" font-family=\"Times,serif\" font-size=\"14.00\">~</text>\n",
       "<text text-anchor=\"middle\" x=\"87\" y=\"-179.73\" font-family=\"Times,serif\" font-size=\"14.00\">HalfNormal</text>\n",
       "</g>\n",
       "<!-- y -->\n",
       "<g id=\"node2\" class=\"node\">\n",
       "<title>y</title>\n",
       "<ellipse fill=\"lightgrey\" stroke=\"black\" cx=\"87\" cy=\"-76.48\" rx=\"50.41\" ry=\"37.45\"/>\n",
       "<text text-anchor=\"middle\" x=\"87\" y=\"-87.78\" font-family=\"Times,serif\" font-size=\"14.00\">y</text>\n",
       "<text text-anchor=\"middle\" x=\"87\" y=\"-72.78\" font-family=\"Times,serif\" font-size=\"14.00\">~</text>\n",
       "<text text-anchor=\"middle\" x=\"87\" y=\"-57.78\" font-family=\"Times,serif\" font-size=\"14.00\">Poisson</text>\n",
       "</g>\n",
       "<!-- beta&#45;&gt;y -->\n",
       "<g id=\"edge1\" class=\"edge\">\n",
       "<title>beta&#45;&gt;y</title>\n",
       "<path fill=\"none\" stroke=\"black\" d=\"M87,-160.79C87,-149.73 87,-137.42 87,-125.72\"/>\n",
       "<polygon fill=\"black\" stroke=\"black\" points=\"90.5,-125.82 87,-115.82 83.5,-125.82 90.5,-125.82\"/>\n",
       "</g>\n",
       "</g>\n",
       "</svg>\n"
      ],
      "text/plain": [
       "<graphviz.graphs.Digraph at 0x7f8c1235bc50>"
      ]
     },
     "execution_count": 41,
     "metadata": {},
     "output_type": "execute_result"
    }
   ],
   "source": [
    "pm.model_to_graphviz(basic_model)"
   ]
  },
  {
   "cell_type": "code",
   "execution_count": null,
   "id": "18e987dd",
   "metadata": {},
   "outputs": [
    {
     "name": "stderr",
     "output_type": "stream",
     "text": [
      "Auto-assigning NUTS sampler...\n",
      "Initializing NUTS using jitter+adapt_diag...\n",
      "Multiprocess sampling (2 chains in 2 jobs)\n",
      "NUTS: [beta]\n"
     ]
    },
    {
     "data": {
      "text/html": [
       "\n",
       "<style>\n",
       "    /* Turns off some styling */\n",
       "    progress {\n",
       "        /* gets rid of default border in Firefox and Opera. */\n",
       "        border: none;\n",
       "        /* Needs to be in here for Safari polyfill so background images work as expected. */\n",
       "        background-size: auto;\n",
       "    }\n",
       "    progress:not([value]), progress:not([value])::-webkit-progress-bar {\n",
       "        background: repeating-linear-gradient(45deg, #7e7e7e, #7e7e7e 10px, #5c5c5c 10px, #5c5c5c 20px);\n",
       "    }\n",
       "    .progress-bar-interrupted, .progress-bar-interrupted::-webkit-progress-bar {\n",
       "        background: #F44336;\n",
       "    }\n",
       "</style>\n"
      ],
      "text/plain": [
       "<IPython.core.display.HTML object>"
      ]
     },
     "metadata": {},
     "output_type": "display_data"
    },
    {
     "data": {
      "text/html": [
       "\n",
       "    <div>\n",
       "      <progress value='1030' class='' max='4000' style='width:300px; height:20px; vertical-align: middle;'></progress>\n",
       "      25.75% [1030/4000 01:36&lt;04:36 Sampling 2 chains, 0 divergences]\n",
       "    </div>\n",
       "    "
      ],
      "text/plain": [
       "<IPython.core.display.HTML object>"
      ]
     },
     "metadata": {},
     "output_type": "display_data"
    }
   ],
   "source": [
    "with basic_model:\n",
    "    idata=pm.sample()"
   ]
  },
  {
   "cell_type": "code",
   "execution_count": null,
   "id": "a667826c",
   "metadata": {},
   "outputs": [],
   "source": [
    "from arviz.utils import Numba\n",
    "Numba.disable_numba()\n",
    "Numba.numba_flag\n",
    "az.plot_trace(idata,combined=True)"
   ]
  },
  {
   "cell_type": "code",
   "execution_count": null,
   "id": "c49474af",
   "metadata": {},
   "outputs": [],
   "source": [
    "true_weights=pd.read_csv(\"true_weights.csv\").iloc[:,0:ncell+1]"
   ]
  },
  {
   "cell_type": "code",
   "execution_count": null,
   "id": "fedacdd0",
   "metadata": {},
   "outputs": [],
   "source": [
    "true_weights"
   ]
  },
  {
   "cell_type": "code",
   "execution_count": null,
   "id": "929a9400",
   "metadata": {},
   "outputs": [],
   "source": [
    "chain1 = idata.posterior[\"beta\"][0]\n",
    "chain1.shape"
   ]
  },
  {
   "cell_type": "code",
   "execution_count": null,
   "id": "0e297da9",
   "metadata": {
    "scrolled": true
   },
   "outputs": [],
   "source": [
    "chain1=np.mean(chain1,axis=0)"
   ]
  },
  {
   "cell_type": "code",
   "execution_count": null,
   "id": "cb7a1a2d",
   "metadata": {},
   "outputs": [],
   "source": [
    "chain2 = idata.posterior[\"beta\"][1]\n",
    "chain2=np.mean(chain2,axis=0)"
   ]
  },
  {
   "cell_type": "code",
   "execution_count": null,
   "id": "11763b59",
   "metadata": {},
   "outputs": [],
   "source": [
    "mean_beta=chain1+chain2"
   ]
  },
  {
   "cell_type": "code",
   "execution_count": null,
   "id": "dd3d3db4",
   "metadata": {},
   "outputs": [],
   "source": [
    "pd.DataFrame(mean_beta)"
   ]
  },
  {
   "cell_type": "code",
   "execution_count": null,
   "id": "9378d152",
   "metadata": {},
   "outputs": [],
   "source": [
    "normalized_mean_beta=np.asarray(mean_beta)/np.sum(np.asarray(mean_beta), axis=0)"
   ]
  },
  {
   "cell_type": "code",
   "execution_count": null,
   "id": "21633222",
   "metadata": {},
   "outputs": [],
   "source": [
    "pd.DataFrame(normalized_mean_beta)\n"
   ]
  },
  {
   "cell_type": "code",
   "execution_count": null,
   "id": "b88008e2",
   "metadata": {},
   "outputs": [],
   "source": [
    "true_weights.shape, normalized_mean_beta.shape"
   ]
  },
  {
   "cell_type": "code",
   "execution_count": null,
   "id": "a8054815",
   "metadata": {},
   "outputs": [],
   "source": [
    "true_weights"
   ]
  },
  {
   "cell_type": "code",
   "execution_count": null,
   "id": "f34b44a4",
   "metadata": {},
   "outputs": [],
   "source": [
    "tw_arr = np.asarray(true_weights)[:,1:]\n",
    "tw_arr.shape, normalized_mean_beta.shape"
   ]
  },
  {
   "cell_type": "code",
   "execution_count": null,
   "id": "93ddb8c8",
   "metadata": {},
   "outputs": [],
   "source": [
    "plt.scatter(np.ravel(tw_arr), np.ravel(normalized_mean_beta))\n",
    "plt.xlabel(\"True Weight\")\n",
    "plt.ylabel(\"Estimated Weight\")\n",
    "\n",
    "line_fit=scp.linregress(np.ravel(tw_arr), np.ravel(normalized_mean_beta))\n",
    "\n",
    "# Create sequence of 100 numbers from 0 to 100 \n",
    "xseq = np.linspace(0, 1, num=100)\n",
    "\n",
    "# Plot regression line\n",
    "plt.plot(xseq, line_fit.intercept + line_fit.slope*xseq, 'r',)\n",
    "plt.annotate(\"r-squared = {:.3f}\".format(line_fit.rvalue**2), (0, 1))\n",
    "plt.show()\n"
   ]
  },
  {
   "cell_type": "code",
   "execution_count": null,
   "id": "fdaa37b9",
   "metadata": {},
   "outputs": [],
   "source": [
    "plt.plot(np.sum((tw_arr-normalized_mean_beta)**2, axis=0))\n",
    "plt.show()"
   ]
  }
 ],
 "metadata": {
  "kernelspec": {
   "display_name": "Python 3 (ipykernel)",
   "language": "python",
   "name": "python3"
  },
  "language_info": {
   "codemirror_mode": {
    "name": "ipython",
    "version": 3
   },
   "file_extension": ".py",
   "mimetype": "text/x-python",
   "name": "python",
   "nbconvert_exporter": "python",
   "pygments_lexer": "ipython3",
   "version": "3.7.16"
  }
 },
 "nbformat": 4,
 "nbformat_minor": 5
}
