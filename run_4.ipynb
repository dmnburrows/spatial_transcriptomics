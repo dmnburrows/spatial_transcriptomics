{
 "cells": [
  {
   "cell_type": "code",
   "execution_count": 1,
   "metadata": {},
   "outputs": [
    {
     "data": {
      "text/plain": [
       "'3.11.0 | packaged by conda-forge | (main, Jan 14 2023, 12:27:40) [GCC 11.3.0]'"
      ]
     },
     "execution_count": 1,
     "metadata": {},
     "output_type": "execute_result"
    }
   ],
   "source": [
    "#Import packages\n",
    "#---------------------------------------\n",
    "import sys\n",
    "import os\n",
    "import pandas as pd\n",
    "from matplotlib import pyplot as plt\n",
    "import numpy as np\n",
    "import matplotlib\n",
    "import warnings\n",
    "import random\n",
    "import arviz as az\n",
    "import pymc as pm\n",
    "warnings.filterwarnings(\"ignore\", category=RuntimeWarning) \n",
    "\n",
    "#Import your modules\n",
    "#---------------------------------------\n",
    "import admin_functions as adfn\n",
    "import cell_decomp_func as cdfn\n",
    "\n",
    "\n",
    "# Define paths\n",
    "#----------------------------------------------------------------------\n",
    "l_code = '/Users/dominicburrows/Dropbox/PhD/Analysis/my_scripts/GitHub/'\n",
    "l_data = '/Users/dominicburrows/Dropbox/PhD/analysis/Project/'\n",
    "l_fig = '/Users/dominicburrows/Dropbox/PhD/figures/'\n",
    "\n",
    "s_code = '/cndd3/dburrows/CODE/'\n",
    "s_data = '/cndd3/dburrows/DATA/'\n",
    "%load_ext autoreload\n",
    "sys.version"
   ]
  },
  {
   "cell_type": "code",
   "execution_count": 15,
   "metadata": {},
   "outputs": [],
   "source": [
    "#==============================================================\n",
    "def run_pyRCTD(idata, prop_vec):\n",
    "#==============================================================\n",
    "    mean_post = np.mean(idata.posterior['beta'][0],axis=0)\n",
    "    from scipy.stats import linregress\n",
    "    line_fit=linregress(np.ravel(prop_vec), np.ravel(mean_post))\n",
    "    return(mean_post, line_fit.rvalue**2)"
   ]
  },
  {
   "cell_type": "code",
   "execution_count": 3,
   "metadata": {},
   "outputs": [],
   "source": [
    "eps_list = np.geomspace(5,100,20).astype(int)\n",
    "eps_list[0]=0\n",
    "eps_list[-1]=99"
   ]
  },
  {
   "cell_type": "code",
   "execution_count": 18,
   "metadata": {},
   "outputs": [
    {
     "data": {
      "text/html": [
       "\n",
       "    <div>\n",
       "      <progress value='33' class='' max='1200' style='width:300px; height:20px; vertical-align: middle;'></progress>\n",
       "      2.75% [33/1200 00:09&lt;05:29 Sampling chain 0, 0 divergences]\n",
       "    </div>\n",
       "    "
      ],
      "text/plain": [
       "<IPython.core.display.HTML object>"
      ]
     },
     "metadata": {},
     "output_type": "display_data"
    }
   ],
   "source": [
    "# Run alpha noise\n",
    "\n",
    "#Define parameters of simulated data\n",
    "n_clusts = 5\n",
    "n_genes = 800\n",
    "n_cells = 100\n",
    "rate_range = 0,40 #max and min of uniform distribution for generating rates\n",
    "mode = 'epsilon'\n",
    "#per = 55 #percentage of dropped genes\n",
    "# e_std= 0 #spot + gene noise\n",
    "# g_std = 0 #gene specific noise\n",
    "\n",
    "for e in eps_list:\n",
    "    #Simulate spot data from simulated gene expression\n",
    "    spot_sim = cdfn.simulate_cell_mix(n_clusts, n_cells, n_genes).simulate_gene_exp(rate_range)\n",
    "    n_spots = spot_sim.__dict__['n_spots']\n",
    "    spots = spot_sim.__dict__['spots']\n",
    "    ref_exp = spot_sim.__dict__['mean_exps']\n",
    "    prop_vec = spot_sim.__dict__['prop_vec']\n",
    "    spots = cdfn.add_noise(spots, per=None, a_std=None, g_std=None, e_std=e) #add in noise\n",
    "\n",
    "    #Simple Linear regression\n",
    "    with pm.Model(coords={\"celltypes\": np.arange(n_clusts),\n",
    "                        \"spots\": np.arange(n_spots),\n",
    "                        \"genes\": np.arange(n_genes) }) as basic_model:\n",
    "        #Declare data \n",
    "        mean_exp = pm.Data('mean_exp', ref_exp, mutable=False, dims=['celltypes','genes'])\n",
    "        # Priors for unknown model parameters\n",
    "        beta=pm.HalfNormal(\"beta\", sigma=1, dims=['spots','celltypes'])\n",
    "        lmd= pm.Deterministic('lmd', pm.math.dot(beta, mean_exp), dims=['spots','genes'])\n",
    "        #Convert from proportions to counts\n",
    "        N_g = pm.Data('N_g', np.sum(spots, 1).reshape(n_spots,1), mutable=False)\n",
    "        #Likelihood of observed data given Poisson rates\n",
    "        y=pm.Poisson(\"y\", mu=lmd*N_g, observed=spots)\n",
    "\n",
    "    #Run model\n",
    "    with basic_model:\n",
    "        basic_data=pm.sample(random_seed=1,draws=200,chains=1, discard_tuned_samples=False)\n",
    "\n",
    "\n",
    "    #Poisson noise\n",
    "    with pm.Model(coords={\"celltypes\": np.arange(n_clusts),\n",
    "                        \"spots\": np.arange(n_spots),\n",
    "                        \"genes\": np.arange(n_genes),\n",
    "                        \"1\": np.arange(1) }) as Poisson_noise_model:\n",
    "        #Declare data \n",
    "        mean_exp = pm.Data('mean_exp', ref_exp, mutable=False, dims=['celltypes','genes'])\n",
    "        # Priors for unknown model parameters\n",
    "        beta=pm.HalfNormal(\"beta\", sigma=1, dims=['spots','celltypes']) # celltype proportions\n",
    "        eps=pm.Normal(\"eps\", mu=0, sigma=1, dims=['spots', 'genes']) # random noise at each spot and gene\n",
    "\n",
    "        lmd= pm.Deterministic('lmd', np.exp(eps)*pm.math.dot(beta, mean_exp), dims=['spots','genes'])\n",
    "        #Convert from proportions to counts\n",
    "        N_g = pm.Data('N_g', np.sum(spots, 1).reshape(n_spots,1), mutable=False)\n",
    "\n",
    "        #Likelihood of observed data given Poisson rates\n",
    "        y=pm.Poisson(\"y\", mu=lmd*N_g, observed=spots)\n",
    "\n",
    "    with Poisson_noise_model:\n",
    "        noise_data = pm.sample(random_seed=1,draws=200,chains=1, discard_tuned_samples=False)\n",
    "\n",
    "    basic_post, basic_r2 = run_pyRCTD(basic_data, prop_vec)\n",
    "    noise_post, noise_r2 = run_pyRCTD(noise_data, prop_vec)\n",
    "    if len(str(e))<2:pref = '0' + str(e)\n",
    "    else:pref= str(e)\n",
    "    np.save(s_data + 'spatial_transcriptomics/RCTD-test-basic-gauss-model_'+ mode + '-' + pref + '.npy', np.array([prop_vec, basic_post, basic_r2], dtype=object))\n",
    "    np.save(s_data + 'spatial_transcriptomics/RCTD-test-noise-gauss-model_' + mode + '-' + pref + '.npy', np.array([prop_vec, noise_post, noise_r2], dtype=object))\n",
    "    print(e)\n"
   ]
  }
 ],
 "metadata": {
  "kernelspec": {
   "display_name": "pymc_conda",
   "language": "python",
   "name": "python3"
  },
  "language_info": {
   "codemirror_mode": {
    "name": "ipython",
    "version": 3
   },
   "file_extension": ".py",
   "mimetype": "text/x-python",
   "name": "python",
   "nbconvert_exporter": "python",
   "pygments_lexer": "ipython3",
   "version": "3.11.0"
  },
  "orig_nbformat": 4,
  "vscode": {
   "interpreter": {
    "hash": "cbc195bd4917a9b26b2a4c86e8dfd1e2d1ef81b8785c4097f20b15a38e62cfe4"
   }
  }
 },
 "nbformat": 4,
 "nbformat_minor": 2
}
